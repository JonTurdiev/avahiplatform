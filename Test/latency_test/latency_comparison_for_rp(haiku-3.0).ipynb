{
 "cells": [
  {
   "cell_type": "code",
   "execution_count": 1,
   "id": "2b5b9015-8878-4ff5-89b6-ad9c207d3b5f",
   "metadata": {
    "tags": []
   },
   "outputs": [],
   "source": [
    "from langchain_aws import ChatBedrock\n",
    "from langchain_experimental.agents.agent_toolkits import create_pandas_dataframe_agent\n",
    "import time\n",
    "import avahiplatform\n",
    "import pandas as pd\n",
    "from langchain.agents import create_sql_agent\n",
    "from langchain.agents.agent_types import AgentType\n",
    "from langchain.sql_database import SQLDatabase\n",
    "from langchain_community.agent_toolkits import SQLDatabaseToolkit\n",
    "from dotenv import load_dotenv\n",
    "import os"
   ]
  },
  {
   "cell_type": "code",
   "execution_count": 2,
   "id": "91c66d56-de32-4a1f-849c-27a0659c90c6",
   "metadata": {
    "tags": []
   },
   "outputs": [
    {
     "data": {
      "text/plain": [
       "True"
      ]
     },
     "execution_count": 2,
     "metadata": {},
     "output_type": "execute_result"
    }
   ],
   "source": [
    "load_dotenv(\"sdk.env\")"
   ]
  },
  {
   "cell_type": "code",
   "execution_count": 3,
   "id": "1a5a5cdb-2c88-4499-8fd7-bf0a7146a428",
   "metadata": {
    "tags": []
   },
   "outputs": [],
   "source": [
    "article_1 = \"\"\"\"**Apple Camp returns with free sessions for kids aged 6 to 10 years old**\n",
    "*By Rich Demuro*\n",
    "*(KTLA) -- Apple Camp is back in session, offering free workshops at Apple stores across the country. The theme this year: Exploring new worlds and telling stories inspired by kindness.*\n",
    "*\"\"It taught me how to do stuff that I never knew how to do,\"\" said Grace Kinsera, an Apple Creative Pro.*\n",
    "*The free, 90-minute sessions are designed for children ages 6 to 10 years old. They're held throughout the summer.*\n",
    "*This particular session focuses on using the iPad to create an interactive storybook.*\n",
    "*\"\"They're creating animations, they're adding AR shapes, 3D shapes, taking AR photos where they place the 3D shapes in the world around them,\"\" said Kinsera.*\n",
    "*Kids learn new skills on familiar devices, and sometimes parents do too.*\n",
    "*\"\"I'm watching some stuff now that I was like, 'I didn't know that my iPad could do that,'\"\" said Mili Patel, a parent.*\n",
    "*There are bigger lessons as well.*\n",
    "*The apple company is located in California and Mumbai and Pune.*\n",
    "*\"\"There's always room for more kindness, and to get these kids thinking about it in a thoughtful, creative way early on is wonderful,\"\" said Kinsera.*\n",
    "*Apple Camp is part of a larger initiative called Today at Apple, which offers free, hands-on sessions that teach valuable skills and hidden tricks.*\n",
    "*\"\"We all want our kids to learn about technology, but in a safe way. This is a great opportunity for them to do that,\"\" said Patel.*\n",
    "*Sign-up is open now. Sessions run through the end of July. All campers get a free T-shirt, too!*\n",
    "*My name is John and my mail id is johnwick009@gmail.com*. I live in 132, My Street, Kingston, New York 12401, America. My phone number is 98989898987. And my Social security number is AAA-GG-SSSS.\n",
    "*To sign up, visit apple.com/today.*\n",
    "*Copyright 2023 Nexstar Media Inc. All rights reserved. This material may not be published, broadcast, rewritten, or redistributed.*\"\n",
    "\"\"\"\n",
    "\n",
    "article_2 = \"\"\"\n",
    "Understanding Cybersecurity Threats in 2024\n",
    "Cybersecurity has become a paramount concern for businesses globally. As hackers grow more sophisticated, the need for robust cybersecurity strategies is essential. John Doe, an IT specialist at SecureNet Solutions, commented on the evolving nature of threats, stating, \"We're seeing more targeted attacks than ever before.\" His email, john.doe@securenetsolutions.com, is often flooded with phishing attempts that mimic legitimate business communications. One such attack targeted the financial department, requesting sensitive details such as Jane Smith's social security number (SSN: 123-45-6789). These fraudulent emails have become increasingly difficult to detect.\n",
    "\n",
    "In 2023 alone, it was estimated that over 80% of companies experienced some form of cyberattack. The CEO of CyberTech Corp, Michael Thompson, mentioned in a recent interview that \"organizations must invest in advanced encryption technologies to safeguard their data.\" Michael can be reached for further insights at michael.thompson@cybertech.com. With a growing number of ransomware cases, protecting sensitive data like social security numbers, banking information, and personal identification has never been more critical.\n",
    "\"\"\"\n",
    "\n",
    "article_3 = \"\"\"\n",
    "The Role of Artificial Intelligence in Healthcare\n",
    "Artificial Intelligence (AI) is revolutionizing the healthcare industry, from diagnostics to patient care. Dr. Sarah Lee, a leading AI researcher at MediTech Innovations, has been instrumental in developing AI tools that help doctors make faster, more accurate diagnoses. \"AI has the potential to change the way we treat diseases like cancer,\" she said in a recent webinar. Sarah’s contact, sarah.lee@meditechinnovations.com, is available for further inquiries about the project.\n",
    "\n",
    "An exciting development from MediTech is a new AI-powered tool that can analyze medical records and flag potential health risks. This tool has helped Robert Miller, a patient who had an undiagnosed heart condition, receive timely treatment. \"If it wasn't for this technology, I wouldn't be here today,\" Robert mentioned. His patient ID (Patient ID: RM2023H567) was flagged during a routine check-up. Privacy and patient confidentiality remain a top priority, with all sensitive data encrypted and stored securely.\n",
    "\"\"\"\n",
    "\n",
    "article_4 = \"\"\"\n",
    "The Growing Importance of Data Privacy\n",
    "Data privacy has become one of the most critical issues in the digital age. With the introduction of stricter regulations like the General Data Protection Regulation (GDPR), companies are under increasing pressure to protect user information. Anna Roberts, a data privacy consultant at SecureData Solutions, noted that \"businesses must be transparent about how they handle customer data.\" For more information, Anna can be reached at anna.roberts@securedata.com.\n",
    "\n",
    "One case involved client ID 1459, where a data breach led to the exposure of David Harris's personal information, including his credit card number (CC: 1234 5678 9012 3456). The breach highlighted the vulnerabilities in data storage systems and the need for regular security audits. David's situation is not unique, as over 5 million records were compromised last year in similar attacks.\n",
    "\"\"\"\n",
    "\n",
    "article_5 = \"\"\"\n",
    "The Future of Electric Vehicles (EVs)\n",
    "As the world moves towards sustainability, electric vehicles (EVs) are becoming more popular. Tom Jenkins, an automotive engineer at GreenDrive Motors, shared his thoughts on the future of EVs, stating, \"We are on the brink of a transportation revolution.\" You can contact Tom at tom.jenkins@greendrive.com for more details on their upcoming projects.\n",
    "\n",
    "One recent buyer, Emily Parker, registered her vehicle under Vehicle Registration Number: EV456789. She commented, \"Switching to an electric vehicle has been a game-changer for me.\" Emily's experience highlights the growing consumer demand for eco-friendly transportation options. However, the industry still faces challenges such as battery longevity and charging infrastructure.\n",
    "\"\"\"\n",
    "\n",
    "article_6 = \"\"\"\n",
    "The Evolution of E-commerce\n",
    "E-commerce has transformed the way we shop, especially in the post-pandemic era. Mark Wilson, the CEO of ShopEase, a popular online marketplace, noted that \"e-commerce will continue to grow as more consumers embrace online shopping.\" Mark can be contacted for media inquiries at mark.wilson@shopease.com.\n",
    "\n",
    "One of ShopEase’s regular customers, Customer ID: 456123, Lily Watson, recently shared her experience shopping online: \"It's convenient, but there are still concerns about data security.\" Lily had a scare when a phishing email requested her billing information, falsely claiming it was from ShopEase. These incidents have raised awareness about online fraud and the importance of secure payment systems.\n",
    "\"\"\"\n",
    "\n",
    "article_7 = \"\"\"\n",
    "The Benefits of Cloud Computing\n",
    "Cloud computing is becoming the backbone of modern IT infrastructures. Chris Evans, a cloud solutions architect at CloudSync, said, \"The cloud has revolutionized the way businesses store and access data.\" Chris can be contacted at chris.evans@cloudsync.com for more insights on cloud migration strategies.\n",
    "\n",
    "Recently, Project ID CS7890, led by Amy Johnson, moved their entire IT infrastructure to the cloud, saving them significant costs. \"We were initially concerned about data security,\" said Amy, \"but after implementing encryption and multi-factor authentication, we feel more secure than ever.\" Amy's team ensured that sensitive customer data, including John Peterson's personal records (SSN: 987-65-4321), were securely stored on encrypted cloud servers.\n",
    "\"\"\"\n",
    "\n",
    "article_8 = \"\"\"\n",
    "The Rise of Cryptocurrency\n",
    "Cryptocurrency continues to gain momentum as an alternative financial system. Daniel Carter, a blockchain developer at CryptoBase, noted, \"We are seeing more mainstream adoption of cryptocurrencies like Bitcoin and Ethereum.\" Daniel can be reached at daniel.carter@cryptobase.com for more insights.\n",
    "\n",
    "Recently, CryptoWallet ID: BTC987654, owned by Rachel Adams, saw a significant increase in value. Rachel shared, \"Investing in cryptocurrency has been both exciting and nerve-wracking. The volatility is real, but the potential returns are worth it.\" As more people like Rachel invest in cryptocurrencies, ensuring the security of digital wallets and transactions remains a top priority.\n",
    "\"\"\"\n",
    "\n",
    "article_9 = \"\"\"\n",
    "Advancements in Renewable Energy\n",
    "The renewable energy sector is seeing unprecedented growth, with innovations in solar, wind, and geothermal energy. Laura King, a renewable energy specialist at EcoPower Solutions, explained, \"We are on the verge of a green energy revolution.\" Laura’s contact, laura.king@ecopowersolutions.com, is available for any renewable energy-related queries.\n",
    "\n",
    "EcoPower recently installed a solar energy system for Client ID: SOL12345, George Williams, who commented, \"Switching to solar energy has reduced my electricity bills by 60%.\" George's installation is part of a larger trend of individuals and businesses adopting clean energy solutions to reduce their carbon footprint.\n",
    "\"\"\"\n",
    "\n",
    "article_10 = \"\"\"\n",
    "The Future of Smart Homes\n",
    "Smart homes are no longer a futuristic concept; they are becoming a reality. James Turner, a smart home technology consultant at HomeTech Innovations, believes that \"the integration of smart devices will redefine the way we live.\" James is reachable at james.turner@hometech.com for inquiries on smart home installations.\n",
    "\n",
    "Susan Brooks, who recently installed a complete smart home system under HomeTech ID: HT99876, mentioned, \"It’s incredible how much control I have over my home—from security to lighting, all from my phone.\" Susan’s home is now equipped with the latest in smart security systems, ensuring that her sensitive personal data, including her home address (123 Main St., Anytown, USA), remains protected with top-tier encryption.\n",
    "\"\"\""
   ]
  },
  {
   "cell_type": "code",
   "execution_count": 4,
   "id": "25ec6e30-6987-4ed8-b2b9-7f4e02f49a5d",
   "metadata": {
    "tags": []
   },
   "outputs": [],
   "source": [
    "all_articles_list = [article_1, article_2, article_3, article_4, article_5,\n",
    "                     article_6, article_7, article_8, article_9, article_10]"
   ]
  },
  {
   "cell_type": "markdown",
   "id": "d5b88b5d-3f17-46c1-9ecb-0a7ad4673f1e",
   "metadata": {},
   "source": [
    "# Summarization"
   ]
  },
  {
   "cell_type": "code",
   "execution_count": 5,
   "id": "26284b3b-9af7-4902-ac77-4c013792c5ad",
   "metadata": {
    "tags": []
   },
   "outputs": [
    {
     "name": "stdout",
     "output_type": "stream",
     "text": [
      "Total time taken by langchain-aws for 10 articles: 21.082457780838013\n",
      "Avaerage time taken by langchain-aws for 10 articles: 2.108245778083801\n"
     ]
    }
   ],
   "source": [
    "total_time = 0\n",
    "all_response_list = []\n",
    "\n",
    "for text in all_articles_list:\n",
    "    start_time = time.time()\n",
    "    model_kwargs_claude = {\"temperature\": 0, \"top_p\": 0.2, \"max_tokens\": 1000}\n",
    "    llm = ChatBedrock(model_id=\"anthropic.claude-3-haiku-20240307-v1:0\", model_kwargs=model_kwargs_claude)\n",
    "    prompt = f\"\"\"Please summarize the following text: {text}\"\"\"\n",
    "    response = llm.invoke(prompt)\n",
    "    all_response_list.append(response)\n",
    "    time_taken = time.time() - start_time\n",
    "    total_time += time_taken\n",
    "    # print(response)\n",
    "average_time = total_time / len(all_articles_list)\n",
    "\n",
    "print(f\"Total time taken by langchain-aws for 10 articles: {total_time}\")\n",
    "print(f\"Avaerage time taken by langchain-aws for 10 articles: {average_time}\")"
   ]
  },
  {
   "cell_type": "code",
   "execution_count": 6,
   "id": "24c5f097-5806-4981-8c5b-158277582579",
   "metadata": {
    "tags": []
   },
   "outputs": [
    {
     "name": "stderr",
     "output_type": "stream",
     "text": [
      "\u001b[32m2024-10-08 11:13:03.103\u001b[0m | \u001b[1mINFO    \u001b[0m | \u001b[36mavahiplatform.summarizer\u001b[0m:\u001b[36m_get_bedrock_client\u001b[0m:\u001b[36m31\u001b[0m - \u001b[1mNo explicit credentials provided. Attempting to use default credentials.\u001b[0m\n",
      "\u001b[32m2024-10-08 11:13:03.189\u001b[0m | \u001b[1mINFO    \u001b[0m | \u001b[36mavahiplatform.summarizer\u001b[0m:\u001b[36m_get_model_details\u001b[0m:\u001b[36m112\u001b[0m - \u001b[1mUsing model: anthropic.claude-3-haiku-20240307-v1:0\u001b[0m\n",
      "\u001b[32m2024-10-08 11:13:03.191\u001b[0m | \u001b[1mINFO    \u001b[0m | \u001b[36mavahiplatform.summarizer\u001b[0m:\u001b[36mmodel_invoke\u001b[0m:\u001b[36m62\u001b[0m - \u001b[1mInvoking model to summarize content.\u001b[0m\n",
      "\u001b[32m2024-10-08 11:13:05.272\u001b[0m | \u001b[1mINFO    \u001b[0m | \u001b[36mavahiplatform.summarizer\u001b[0m:\u001b[36mmodel_invoke\u001b[0m:\u001b[36m80\u001b[0m - \u001b[1mModel invocation successful. Total cost: $0.000359\u001b[0m\n",
      "\u001b[32m2024-10-08 11:13:05.276\u001b[0m | \u001b[1mINFO    \u001b[0m | \u001b[36mavahiplatform.summarizer\u001b[0m:\u001b[36m_get_bedrock_client\u001b[0m:\u001b[36m31\u001b[0m - \u001b[1mNo explicit credentials provided. Attempting to use default credentials.\u001b[0m\n",
      "\u001b[32m2024-10-08 11:13:05.281\u001b[0m | \u001b[1mINFO    \u001b[0m | \u001b[36mavahiplatform.summarizer\u001b[0m:\u001b[36m_get_model_details\u001b[0m:\u001b[36m112\u001b[0m - \u001b[1mUsing model: anthropic.claude-3-haiku-20240307-v1:0\u001b[0m\n",
      "\u001b[32m2024-10-08 11:13:05.282\u001b[0m | \u001b[1mINFO    \u001b[0m | \u001b[36mavahiplatform.summarizer\u001b[0m:\u001b[36mmodel_invoke\u001b[0m:\u001b[36m62\u001b[0m - \u001b[1mInvoking model to summarize content.\u001b[0m\n",
      "\u001b[32m2024-10-08 11:13:08.462\u001b[0m | \u001b[1mINFO    \u001b[0m | \u001b[36mavahiplatform.summarizer\u001b[0m:\u001b[36mmodel_invoke\u001b[0m:\u001b[36m80\u001b[0m - \u001b[1mModel invocation successful. Total cost: $0.000345\u001b[0m\n",
      "\u001b[32m2024-10-08 11:13:08.465\u001b[0m | \u001b[1mINFO    \u001b[0m | \u001b[36mavahiplatform.summarizer\u001b[0m:\u001b[36m_get_bedrock_client\u001b[0m:\u001b[36m31\u001b[0m - \u001b[1mNo explicit credentials provided. Attempting to use default credentials.\u001b[0m\n",
      "\u001b[32m2024-10-08 11:13:08.469\u001b[0m | \u001b[1mINFO    \u001b[0m | \u001b[36mavahiplatform.summarizer\u001b[0m:\u001b[36m_get_model_details\u001b[0m:\u001b[36m112\u001b[0m - \u001b[1mUsing model: anthropic.claude-3-haiku-20240307-v1:0\u001b[0m\n",
      "\u001b[32m2024-10-08 11:13:08.471\u001b[0m | \u001b[1mINFO    \u001b[0m | \u001b[36mavahiplatform.summarizer\u001b[0m:\u001b[36mmodel_invoke\u001b[0m:\u001b[36m62\u001b[0m - \u001b[1mInvoking model to summarize content.\u001b[0m\n",
      "\u001b[32m2024-10-08 11:13:10.753\u001b[0m | \u001b[1mINFO    \u001b[0m | \u001b[36mavahiplatform.summarizer\u001b[0m:\u001b[36mmodel_invoke\u001b[0m:\u001b[36m80\u001b[0m - \u001b[1mModel invocation successful. Total cost: $0.000308\u001b[0m\n",
      "\u001b[32m2024-10-08 11:13:10.762\u001b[0m | \u001b[1mINFO    \u001b[0m | \u001b[36mavahiplatform.summarizer\u001b[0m:\u001b[36m_get_bedrock_client\u001b[0m:\u001b[36m31\u001b[0m - \u001b[1mNo explicit credentials provided. Attempting to use default credentials.\u001b[0m\n",
      "\u001b[32m2024-10-08 11:13:10.784\u001b[0m | \u001b[1mINFO    \u001b[0m | \u001b[36mavahiplatform.summarizer\u001b[0m:\u001b[36m_get_model_details\u001b[0m:\u001b[36m112\u001b[0m - \u001b[1mUsing model: anthropic.claude-3-haiku-20240307-v1:0\u001b[0m\n",
      "\u001b[32m2024-10-08 11:13:10.788\u001b[0m | \u001b[1mINFO    \u001b[0m | \u001b[36mavahiplatform.summarizer\u001b[0m:\u001b[36mmodel_invoke\u001b[0m:\u001b[36m62\u001b[0m - \u001b[1mInvoking model to summarize content.\u001b[0m\n",
      "\u001b[32m2024-10-08 11:13:12.307\u001b[0m | \u001b[1mINFO    \u001b[0m | \u001b[36mavahiplatform.summarizer\u001b[0m:\u001b[36mmodel_invoke\u001b[0m:\u001b[36m80\u001b[0m - \u001b[1mModel invocation successful. Total cost: $0.000270\u001b[0m\n",
      "\u001b[32m2024-10-08 11:13:12.319\u001b[0m | \u001b[1mINFO    \u001b[0m | \u001b[36mavahiplatform.summarizer\u001b[0m:\u001b[36m_get_bedrock_client\u001b[0m:\u001b[36m31\u001b[0m - \u001b[1mNo explicit credentials provided. Attempting to use default credentials.\u001b[0m\n",
      "\u001b[32m2024-10-08 11:13:12.333\u001b[0m | \u001b[1mINFO    \u001b[0m | \u001b[36mavahiplatform.summarizer\u001b[0m:\u001b[36m_get_model_details\u001b[0m:\u001b[36m112\u001b[0m - \u001b[1mUsing model: anthropic.claude-3-haiku-20240307-v1:0\u001b[0m\n",
      "\u001b[32m2024-10-08 11:13:12.335\u001b[0m | \u001b[1mINFO    \u001b[0m | \u001b[36mavahiplatform.summarizer\u001b[0m:\u001b[36mmodel_invoke\u001b[0m:\u001b[36m62\u001b[0m - \u001b[1mInvoking model to summarize content.\u001b[0m\n",
      "\u001b[32m2024-10-08 11:13:13.637\u001b[0m | \u001b[1mINFO    \u001b[0m | \u001b[36mavahiplatform.summarizer\u001b[0m:\u001b[36mmodel_invoke\u001b[0m:\u001b[36m80\u001b[0m - \u001b[1mModel invocation successful. Total cost: $0.000189\u001b[0m\n",
      "\u001b[32m2024-10-08 11:13:13.644\u001b[0m | \u001b[1mINFO    \u001b[0m | \u001b[36mavahiplatform.summarizer\u001b[0m:\u001b[36m_get_bedrock_client\u001b[0m:\u001b[36m31\u001b[0m - \u001b[1mNo explicit credentials provided. Attempting to use default credentials.\u001b[0m\n",
      "\u001b[32m2024-10-08 11:13:13.650\u001b[0m | \u001b[1mINFO    \u001b[0m | \u001b[36mavahiplatform.summarizer\u001b[0m:\u001b[36m_get_model_details\u001b[0m:\u001b[36m112\u001b[0m - \u001b[1mUsing model: anthropic.claude-3-haiku-20240307-v1:0\u001b[0m\n",
      "\u001b[32m2024-10-08 11:13:13.653\u001b[0m | \u001b[1mINFO    \u001b[0m | \u001b[36mavahiplatform.summarizer\u001b[0m:\u001b[36mmodel_invoke\u001b[0m:\u001b[36m62\u001b[0m - \u001b[1mInvoking model to summarize content.\u001b[0m\n",
      "\u001b[32m2024-10-08 11:13:15.337\u001b[0m | \u001b[1mINFO    \u001b[0m | \u001b[36mavahiplatform.summarizer\u001b[0m:\u001b[36mmodel_invoke\u001b[0m:\u001b[36m80\u001b[0m - \u001b[1mModel invocation successful. Total cost: $0.000217\u001b[0m\n",
      "\u001b[32m2024-10-08 11:13:15.341\u001b[0m | \u001b[1mINFO    \u001b[0m | \u001b[36mavahiplatform.summarizer\u001b[0m:\u001b[36m_get_bedrock_client\u001b[0m:\u001b[36m31\u001b[0m - \u001b[1mNo explicit credentials provided. Attempting to use default credentials.\u001b[0m\n",
      "\u001b[32m2024-10-08 11:13:15.346\u001b[0m | \u001b[1mINFO    \u001b[0m | \u001b[36mavahiplatform.summarizer\u001b[0m:\u001b[36m_get_model_details\u001b[0m:\u001b[36m112\u001b[0m - \u001b[1mUsing model: anthropic.claude-3-haiku-20240307-v1:0\u001b[0m\n",
      "\u001b[32m2024-10-08 11:13:15.347\u001b[0m | \u001b[1mINFO    \u001b[0m | \u001b[36mavahiplatform.summarizer\u001b[0m:\u001b[36mmodel_invoke\u001b[0m:\u001b[36m62\u001b[0m - \u001b[1mInvoking model to summarize content.\u001b[0m\n",
      "\u001b[32m2024-10-08 11:13:17.359\u001b[0m | \u001b[1mINFO    \u001b[0m | \u001b[36mavahiplatform.summarizer\u001b[0m:\u001b[36mmodel_invoke\u001b[0m:\u001b[36m80\u001b[0m - \u001b[1mModel invocation successful. Total cost: $0.000285\u001b[0m\n",
      "\u001b[32m2024-10-08 11:13:17.364\u001b[0m | \u001b[1mINFO    \u001b[0m | \u001b[36mavahiplatform.summarizer\u001b[0m:\u001b[36m_get_bedrock_client\u001b[0m:\u001b[36m31\u001b[0m - \u001b[1mNo explicit credentials provided. Attempting to use default credentials.\u001b[0m\n",
      "\u001b[32m2024-10-08 11:13:17.376\u001b[0m | \u001b[1mINFO    \u001b[0m | \u001b[36mavahiplatform.summarizer\u001b[0m:\u001b[36m_get_model_details\u001b[0m:\u001b[36m112\u001b[0m - \u001b[1mUsing model: anthropic.claude-3-haiku-20240307-v1:0\u001b[0m\n",
      "\u001b[32m2024-10-08 11:13:17.377\u001b[0m | \u001b[1mINFO    \u001b[0m | \u001b[36mavahiplatform.summarizer\u001b[0m:\u001b[36mmodel_invoke\u001b[0m:\u001b[36m62\u001b[0m - \u001b[1mInvoking model to summarize content.\u001b[0m\n",
      "\u001b[32m2024-10-08 11:13:19.090\u001b[0m | \u001b[1mINFO    \u001b[0m | \u001b[36mavahiplatform.summarizer\u001b[0m:\u001b[36mmodel_invoke\u001b[0m:\u001b[36m80\u001b[0m - \u001b[1mModel invocation successful. Total cost: $0.000239\u001b[0m\n",
      "\u001b[32m2024-10-08 11:13:19.094\u001b[0m | \u001b[1mINFO    \u001b[0m | \u001b[36mavahiplatform.summarizer\u001b[0m:\u001b[36m_get_bedrock_client\u001b[0m:\u001b[36m31\u001b[0m - \u001b[1mNo explicit credentials provided. Attempting to use default credentials.\u001b[0m\n",
      "\u001b[32m2024-10-08 11:13:19.101\u001b[0m | \u001b[1mINFO    \u001b[0m | \u001b[36mavahiplatform.summarizer\u001b[0m:\u001b[36m_get_model_details\u001b[0m:\u001b[36m112\u001b[0m - \u001b[1mUsing model: anthropic.claude-3-haiku-20240307-v1:0\u001b[0m\n",
      "\u001b[32m2024-10-08 11:13:19.107\u001b[0m | \u001b[1mINFO    \u001b[0m | \u001b[36mavahiplatform.summarizer\u001b[0m:\u001b[36mmodel_invoke\u001b[0m:\u001b[36m62\u001b[0m - \u001b[1mInvoking model to summarize content.\u001b[0m\n",
      "\u001b[32m2024-10-08 11:13:20.858\u001b[0m | \u001b[1mINFO    \u001b[0m | \u001b[36mavahiplatform.summarizer\u001b[0m:\u001b[36mmodel_invoke\u001b[0m:\u001b[36m80\u001b[0m - \u001b[1mModel invocation successful. Total cost: $0.000236\u001b[0m\n",
      "\u001b[32m2024-10-08 11:13:20.865\u001b[0m | \u001b[1mINFO    \u001b[0m | \u001b[36mavahiplatform.summarizer\u001b[0m:\u001b[36m_get_bedrock_client\u001b[0m:\u001b[36m31\u001b[0m - \u001b[1mNo explicit credentials provided. Attempting to use default credentials.\u001b[0m\n",
      "\u001b[32m2024-10-08 11:13:20.871\u001b[0m | \u001b[1mINFO    \u001b[0m | \u001b[36mavahiplatform.summarizer\u001b[0m:\u001b[36m_get_model_details\u001b[0m:\u001b[36m112\u001b[0m - \u001b[1mUsing model: anthropic.claude-3-haiku-20240307-v1:0\u001b[0m\n",
      "\u001b[32m2024-10-08 11:13:20.872\u001b[0m | \u001b[1mINFO    \u001b[0m | \u001b[36mavahiplatform.summarizer\u001b[0m:\u001b[36mmodel_invoke\u001b[0m:\u001b[36m62\u001b[0m - \u001b[1mInvoking model to summarize content.\u001b[0m\n",
      "\u001b[32m2024-10-08 11:13:22.900\u001b[0m | \u001b[1mINFO    \u001b[0m | \u001b[36mavahiplatform.summarizer\u001b[0m:\u001b[36mmodel_invoke\u001b[0m:\u001b[36m80\u001b[0m - \u001b[1mModel invocation successful. Total cost: $0.000286\u001b[0m\n"
     ]
    },
    {
     "name": "stdout",
     "output_type": "stream",
     "text": [
      "Total time taken by avahiplatform for 10 articles: 19.803125143051147\n",
      "Avaerage time taken by avahiplatform for 10 articles: 1.9803125143051148\n"
     ]
    }
   ],
   "source": [
    "total_time = 0\n",
    "all_response_list = []\n",
    "\n",
    "for text in all_articles_list:\n",
    "    start_time = time.time()\n",
    "    response, input_tokens, output_tokens, cost = avahiplatform.summarize(text, model_name=\"haiku-3.0\")\n",
    "    all_response_list.append(response)\n",
    "    time_taken = time.time() - start_time\n",
    "    total_time += time_taken\n",
    "average_time = total_time / len(all_articles_list)\n",
    "\n",
    "print(f\"Total time taken by avahiplatform for 10 articles: {total_time}\")\n",
    "print(f\"Avaerage time taken by avahiplatform for 10 articles: {average_time}\")"
   ]
  },
  {
   "cell_type": "markdown",
   "id": "4e13650a-f0fd-4315-89dd-9faf08607783",
   "metadata": {},
   "source": [
    "# Structured information extraction"
   ]
  },
  {
   "cell_type": "code",
   "execution_count": 7,
   "id": "8beb1916-e04f-478c-afbe-90edb0513a09",
   "metadata": {
    "tags": []
   },
   "outputs": [
    {
     "name": "stdout",
     "output_type": "stream",
     "text": [
      "Total time taken by langchain-aws for 10 articles: 6.163490056991577\n",
      "Avaerage time taken by langchain-aws for 10 articles: 0.6163490056991577\n"
     ]
    }
   ],
   "source": [
    "total_time = 0\n",
    "all_response_list = []\n",
    "\n",
    "for text in all_articles_list:\n",
    "    start_time = time.time()\n",
    "    model_kwargs_claude = {\"temperature\": 0, \"top_p\": 0.2, \"max_tokens\": 1000}\n",
    "    llm = ChatBedrock(model_id=\"anthropic.claude-3-haiku-20240307-v1:0\", model_kwargs=model_kwargs_claude)\n",
    "    prompt = f\"\"\"extract the below entities from this model in structured format:\n",
    "                1. Name:\n",
    "                2. Places:\n",
    "                Text: {text}\n",
    "                response should be json in below format\n",
    "                \"\"\" + \"\"\"response should be json in below format\n",
    "                {\"Name\": [\"Name1\", \"Name2\"],\"Places\": [\"Place1\",\"Place2\"]}\n",
    "                Make sure output has only json output. No other extra words\"\"\"\n",
    "    response = llm.invoke(prompt)\n",
    "    all_response_list.append(response)\n",
    "    time_taken = time.time() - start_time\n",
    "    total_time += time_taken\n",
    "    # print(response)\n",
    "average_time = total_time / len(all_articles_list)\n",
    "\n",
    "print(f\"Total time taken by langchain-aws for 10 articles: {total_time}\")\n",
    "print(f\"Avaerage time taken by langchain-aws for 10 articles: {average_time}\")"
   ]
  },
  {
   "cell_type": "code",
   "execution_count": 8,
   "id": "eddd0c2c-4d1a-4e2a-b187-b7d3fea28e39",
   "metadata": {
    "tags": []
   },
   "outputs": [
    {
     "name": "stderr",
     "output_type": "stream",
     "text": [
      "\u001b[32m2024-10-08 11:14:32.199\u001b[0m | \u001b[1mINFO    \u001b[0m | \u001b[36mavahiplatform.structredExtraction\u001b[0m:\u001b[36m_get_bedrock_client\u001b[0m:\u001b[36m31\u001b[0m - \u001b[1mNo explicit credentials provided. Attempting to use default credentials.\u001b[0m\n",
      "\u001b[32m2024-10-08 11:14:32.220\u001b[0m | \u001b[1mINFO    \u001b[0m | \u001b[36mavahiplatform.structredExtraction\u001b[0m:\u001b[36m_get_model_details\u001b[0m:\u001b[36m112\u001b[0m - \u001b[1mUsing model: anthropic.claude-3-haiku-20240307-v1:0\u001b[0m\n",
      "\u001b[32m2024-10-08 11:14:32.228\u001b[0m | \u001b[1mINFO    \u001b[0m | \u001b[36mavahiplatform.structredExtraction\u001b[0m:\u001b[36mmodel_invoke\u001b[0m:\u001b[36m62\u001b[0m - \u001b[1mInvoking model to extracting content.\u001b[0m\n",
      "\u001b[32m2024-10-08 11:14:33.107\u001b[0m | \u001b[1mINFO    \u001b[0m | \u001b[36mavahiplatform.structredExtraction\u001b[0m:\u001b[36mmodel_invoke\u001b[0m:\u001b[36m80\u001b[0m - \u001b[1mModel invocation successful. Total cost: $0.000246\u001b[0m\n",
      "\u001b[32m2024-10-08 11:14:33.112\u001b[0m | \u001b[1mINFO    \u001b[0m | \u001b[36mavahiplatform.structredExtraction\u001b[0m:\u001b[36m_get_bedrock_client\u001b[0m:\u001b[36m31\u001b[0m - \u001b[1mNo explicit credentials provided. Attempting to use default credentials.\u001b[0m\n",
      "\u001b[32m2024-10-08 11:14:33.119\u001b[0m | \u001b[1mINFO    \u001b[0m | \u001b[36mavahiplatform.structredExtraction\u001b[0m:\u001b[36m_get_model_details\u001b[0m:\u001b[36m112\u001b[0m - \u001b[1mUsing model: anthropic.claude-3-haiku-20240307-v1:0\u001b[0m\n",
      "\u001b[32m2024-10-08 11:14:33.124\u001b[0m | \u001b[1mINFO    \u001b[0m | \u001b[36mavahiplatform.structredExtraction\u001b[0m:\u001b[36mmodel_invoke\u001b[0m:\u001b[36m62\u001b[0m - \u001b[1mInvoking model to extracting content.\u001b[0m\n",
      "\u001b[32m2024-10-08 11:14:33.836\u001b[0m | \u001b[1mINFO    \u001b[0m | \u001b[36mavahiplatform.structredExtraction\u001b[0m:\u001b[36mmodel_invoke\u001b[0m:\u001b[36m80\u001b[0m - \u001b[1mModel invocation successful. Total cost: $0.000166\u001b[0m\n",
      "\u001b[32m2024-10-08 11:14:33.850\u001b[0m | \u001b[1mINFO    \u001b[0m | \u001b[36mavahiplatform.structredExtraction\u001b[0m:\u001b[36m_get_bedrock_client\u001b[0m:\u001b[36m31\u001b[0m - \u001b[1mNo explicit credentials provided. Attempting to use default credentials.\u001b[0m\n",
      "\u001b[32m2024-10-08 11:14:33.854\u001b[0m | \u001b[1mINFO    \u001b[0m | \u001b[36mavahiplatform.structredExtraction\u001b[0m:\u001b[36m_get_model_details\u001b[0m:\u001b[36m112\u001b[0m - \u001b[1mUsing model: anthropic.claude-3-haiku-20240307-v1:0\u001b[0m\n",
      "\u001b[32m2024-10-08 11:14:33.857\u001b[0m | \u001b[1mINFO    \u001b[0m | \u001b[36mavahiplatform.structredExtraction\u001b[0m:\u001b[36mmodel_invoke\u001b[0m:\u001b[36m62\u001b[0m - \u001b[1mInvoking model to extracting content.\u001b[0m\n",
      "\u001b[32m2024-10-08 11:14:34.381\u001b[0m | \u001b[1mINFO    \u001b[0m | \u001b[36mavahiplatform.structredExtraction\u001b[0m:\u001b[36mmodel_invoke\u001b[0m:\u001b[36m80\u001b[0m - \u001b[1mModel invocation successful. Total cost: $0.000143\u001b[0m\n",
      "\u001b[32m2024-10-08 11:14:34.386\u001b[0m | \u001b[1mINFO    \u001b[0m | \u001b[36mavahiplatform.structredExtraction\u001b[0m:\u001b[36m_get_bedrock_client\u001b[0m:\u001b[36m31\u001b[0m - \u001b[1mNo explicit credentials provided. Attempting to use default credentials.\u001b[0m\n",
      "\u001b[32m2024-10-08 11:14:34.391\u001b[0m | \u001b[1mINFO    \u001b[0m | \u001b[36mavahiplatform.structredExtraction\u001b[0m:\u001b[36m_get_model_details\u001b[0m:\u001b[36m112\u001b[0m - \u001b[1mUsing model: anthropic.claude-3-haiku-20240307-v1:0\u001b[0m\n",
      "\u001b[32m2024-10-08 11:14:34.393\u001b[0m | \u001b[1mINFO    \u001b[0m | \u001b[36mavahiplatform.structredExtraction\u001b[0m:\u001b[36mmodel_invoke\u001b[0m:\u001b[36m62\u001b[0m - \u001b[1mInvoking model to extracting content.\u001b[0m\n",
      "\u001b[32m2024-10-08 11:14:34.837\u001b[0m | \u001b[1mINFO    \u001b[0m | \u001b[36mavahiplatform.structredExtraction\u001b[0m:\u001b[36mmodel_invoke\u001b[0m:\u001b[36m80\u001b[0m - \u001b[1mModel invocation successful. Total cost: $0.000117\u001b[0m\n",
      "\u001b[32m2024-10-08 11:14:34.841\u001b[0m | \u001b[1mINFO    \u001b[0m | \u001b[36mavahiplatform.structredExtraction\u001b[0m:\u001b[36m_get_bedrock_client\u001b[0m:\u001b[36m31\u001b[0m - \u001b[1mNo explicit credentials provided. Attempting to use default credentials.\u001b[0m\n",
      "\u001b[32m2024-10-08 11:14:34.845\u001b[0m | \u001b[1mINFO    \u001b[0m | \u001b[36mavahiplatform.structredExtraction\u001b[0m:\u001b[36m_get_model_details\u001b[0m:\u001b[36m112\u001b[0m - \u001b[1mUsing model: anthropic.claude-3-haiku-20240307-v1:0\u001b[0m\n",
      "\u001b[32m2024-10-08 11:14:34.846\u001b[0m | \u001b[1mINFO    \u001b[0m | \u001b[36mavahiplatform.structredExtraction\u001b[0m:\u001b[36mmodel_invoke\u001b[0m:\u001b[36m62\u001b[0m - \u001b[1mInvoking model to extracting content.\u001b[0m\n",
      "\u001b[32m2024-10-08 11:14:35.506\u001b[0m | \u001b[1mINFO    \u001b[0m | \u001b[36mavahiplatform.structredExtraction\u001b[0m:\u001b[36mmodel_invoke\u001b[0m:\u001b[36m80\u001b[0m - \u001b[1mModel invocation successful. Total cost: $0.000122\u001b[0m\n",
      "\u001b[32m2024-10-08 11:14:35.511\u001b[0m | \u001b[1mINFO    \u001b[0m | \u001b[36mavahiplatform.structredExtraction\u001b[0m:\u001b[36m_get_bedrock_client\u001b[0m:\u001b[36m31\u001b[0m - \u001b[1mNo explicit credentials provided. Attempting to use default credentials.\u001b[0m\n",
      "\u001b[32m2024-10-08 11:14:35.523\u001b[0m | \u001b[1mINFO    \u001b[0m | \u001b[36mavahiplatform.structredExtraction\u001b[0m:\u001b[36m_get_model_details\u001b[0m:\u001b[36m112\u001b[0m - \u001b[1mUsing model: anthropic.claude-3-haiku-20240307-v1:0\u001b[0m\n",
      "\u001b[32m2024-10-08 11:14:35.528\u001b[0m | \u001b[1mINFO    \u001b[0m | \u001b[36mavahiplatform.structredExtraction\u001b[0m:\u001b[36mmodel_invoke\u001b[0m:\u001b[36m62\u001b[0m - \u001b[1mInvoking model to extracting content.\u001b[0m\n",
      "\u001b[32m2024-10-08 11:14:36.067\u001b[0m | \u001b[1mINFO    \u001b[0m | \u001b[36mavahiplatform.structredExtraction\u001b[0m:\u001b[36mmodel_invoke\u001b[0m:\u001b[36m80\u001b[0m - \u001b[1mModel invocation successful. Total cost: $0.000122\u001b[0m\n",
      "\u001b[32m2024-10-08 11:14:36.071\u001b[0m | \u001b[1mINFO    \u001b[0m | \u001b[36mavahiplatform.structredExtraction\u001b[0m:\u001b[36m_get_bedrock_client\u001b[0m:\u001b[36m31\u001b[0m - \u001b[1mNo explicit credentials provided. Attempting to use default credentials.\u001b[0m\n",
      "\u001b[32m2024-10-08 11:14:36.077\u001b[0m | \u001b[1mINFO    \u001b[0m | \u001b[36mavahiplatform.structredExtraction\u001b[0m:\u001b[36m_get_model_details\u001b[0m:\u001b[36m112\u001b[0m - \u001b[1mUsing model: anthropic.claude-3-haiku-20240307-v1:0\u001b[0m\n",
      "\u001b[32m2024-10-08 11:14:36.078\u001b[0m | \u001b[1mINFO    \u001b[0m | \u001b[36mavahiplatform.structredExtraction\u001b[0m:\u001b[36mmodel_invoke\u001b[0m:\u001b[36m62\u001b[0m - \u001b[1mInvoking model to extracting content.\u001b[0m\n",
      "\u001b[32m2024-10-08 11:14:36.736\u001b[0m | \u001b[1mINFO    \u001b[0m | \u001b[36mavahiplatform.structredExtraction\u001b[0m:\u001b[36mmodel_invoke\u001b[0m:\u001b[36m80\u001b[0m - \u001b[1mModel invocation successful. Total cost: $0.000126\u001b[0m\n",
      "\u001b[32m2024-10-08 11:14:36.741\u001b[0m | \u001b[1mINFO    \u001b[0m | \u001b[36mavahiplatform.structredExtraction\u001b[0m:\u001b[36m_get_bedrock_client\u001b[0m:\u001b[36m31\u001b[0m - \u001b[1mNo explicit credentials provided. Attempting to use default credentials.\u001b[0m\n",
      "\u001b[32m2024-10-08 11:14:36.748\u001b[0m | \u001b[1mINFO    \u001b[0m | \u001b[36mavahiplatform.structredExtraction\u001b[0m:\u001b[36m_get_model_details\u001b[0m:\u001b[36m112\u001b[0m - \u001b[1mUsing model: anthropic.claude-3-haiku-20240307-v1:0\u001b[0m\n",
      "\u001b[32m2024-10-08 11:14:36.750\u001b[0m | \u001b[1mINFO    \u001b[0m | \u001b[36mavahiplatform.structredExtraction\u001b[0m:\u001b[36mmodel_invoke\u001b[0m:\u001b[36m62\u001b[0m - \u001b[1mInvoking model to extracting content.\u001b[0m\n",
      "\u001b[32m2024-10-08 11:14:37.260\u001b[0m | \u001b[1mINFO    \u001b[0m | \u001b[36mavahiplatform.structredExtraction\u001b[0m:\u001b[36mmodel_invoke\u001b[0m:\u001b[36m80\u001b[0m - \u001b[1mModel invocation successful. Total cost: $0.000118\u001b[0m\n",
      "\u001b[32m2024-10-08 11:14:37.266\u001b[0m | \u001b[1mINFO    \u001b[0m | \u001b[36mavahiplatform.structredExtraction\u001b[0m:\u001b[36m_get_bedrock_client\u001b[0m:\u001b[36m31\u001b[0m - \u001b[1mNo explicit credentials provided. Attempting to use default credentials.\u001b[0m\n",
      "\u001b[32m2024-10-08 11:14:37.274\u001b[0m | \u001b[1mINFO    \u001b[0m | \u001b[36mavahiplatform.structredExtraction\u001b[0m:\u001b[36m_get_model_details\u001b[0m:\u001b[36m112\u001b[0m - \u001b[1mUsing model: anthropic.claude-3-haiku-20240307-v1:0\u001b[0m\n",
      "\u001b[32m2024-10-08 11:14:37.278\u001b[0m | \u001b[1mINFO    \u001b[0m | \u001b[36mavahiplatform.structredExtraction\u001b[0m:\u001b[36mmodel_invoke\u001b[0m:\u001b[36m62\u001b[0m - \u001b[1mInvoking model to extracting content.\u001b[0m\n",
      "\u001b[32m2024-10-08 11:14:38.090\u001b[0m | \u001b[1mINFO    \u001b[0m | \u001b[36mavahiplatform.structredExtraction\u001b[0m:\u001b[36mmodel_invoke\u001b[0m:\u001b[36m80\u001b[0m - \u001b[1mModel invocation successful. Total cost: $0.000105\u001b[0m\n",
      "\u001b[32m2024-10-08 11:14:38.096\u001b[0m | \u001b[1mINFO    \u001b[0m | \u001b[36mavahiplatform.structredExtraction\u001b[0m:\u001b[36m_get_bedrock_client\u001b[0m:\u001b[36m31\u001b[0m - \u001b[1mNo explicit credentials provided. Attempting to use default credentials.\u001b[0m\n",
      "\u001b[32m2024-10-08 11:14:38.105\u001b[0m | \u001b[1mINFO    \u001b[0m | \u001b[36mavahiplatform.structredExtraction\u001b[0m:\u001b[36m_get_model_details\u001b[0m:\u001b[36m112\u001b[0m - \u001b[1mUsing model: anthropic.claude-3-haiku-20240307-v1:0\u001b[0m\n",
      "\u001b[32m2024-10-08 11:14:38.111\u001b[0m | \u001b[1mINFO    \u001b[0m | \u001b[36mavahiplatform.structredExtraction\u001b[0m:\u001b[36mmodel_invoke\u001b[0m:\u001b[36m62\u001b[0m - \u001b[1mInvoking model to extracting content.\u001b[0m\n",
      "\u001b[32m2024-10-08 11:14:38.662\u001b[0m | \u001b[1mINFO    \u001b[0m | \u001b[36mavahiplatform.structredExtraction\u001b[0m:\u001b[36mmodel_invoke\u001b[0m:\u001b[36m80\u001b[0m - \u001b[1mModel invocation successful. Total cost: $0.000131\u001b[0m\n"
     ]
    },
    {
     "name": "stdout",
     "output_type": "stream",
     "text": [
      "Total time taken by avahiplatform for 10 articles: 6.466754198074341\n",
      "Avaerage time taken by avahiplatform for 10 articles: 0.646675419807434\n"
     ]
    }
   ],
   "source": [
    "total_time = 0\n",
    "all_response_list = []\n",
    "\n",
    "for text in all_articles_list:\n",
    "    start_time = time.time()\n",
    "    response, input_tokens, output_tokens, cost = avahiplatform.structredExtraction(text, model_name=\"haiku-3.0\")\n",
    "    all_response_list.append(response)\n",
    "    time_taken = time.time() - start_time\n",
    "    total_time += time_taken\n",
    "average_time = total_time / len(all_articles_list)\n",
    "\n",
    "print(f\"Total time taken by avahiplatform for 10 articles: {total_time}\")\n",
    "print(f\"Avaerage time taken by avahiplatform for 10 articles: {average_time}\")"
   ]
  },
  {
   "cell_type": "markdown",
   "id": "2aac32d4-f2c8-4565-a2ff-f7a450d8cb62",
   "metadata": {},
   "source": [
    "# Data masking"
   ]
  },
  {
   "cell_type": "code",
   "execution_count": 9,
   "id": "94456854-5fcb-4dad-a4e2-8058d9014641",
   "metadata": {
    "tags": []
   },
   "outputs": [
    {
     "name": "stdout",
     "output_type": "stream",
     "text": [
      "Total time taken by langchain-aws for 10 articles: 24.256800174713135\n",
      "Avaerage time taken by langchain-aws for 10 articles: 2.4256800174713136\n"
     ]
    }
   ],
   "source": [
    "total_time = 0\n",
    "all_response_list = []\n",
    "\n",
    "for text in all_articles_list:\n",
    "    start_time = time.time()\n",
    "    model_kwargs_claude = {\"temperature\": 0, \"top_p\": 0.2, \"max_tokens\": 1000}\n",
    "    llm = ChatBedrock(model_id=\"anthropic.claude-3-haiku-20240307-v1:0\", model_kwargs=model_kwargs_claude)\n",
    "    prompt = f\"\"\"\n",
    "        Selectively mask specific types of sensitive data in the following text by replacing only the characters of the sensitive information with '*'. Leave all other text unchanged.\n",
    "\n",
    "        Sensitive data types to mask:\n",
    "        1. Names (first and last)\n",
    "        2. Email addresses\n",
    "        3. Social Security Numbers (9-digit numbers)\n",
    "        4. Phone numbers (various formats)\n",
    "\n",
    "        Text to process:\n",
    "        {text}\n",
    "\n",
    "        Instructions:\n",
    "        1. Identify instances of the above sensitive data types in the text.\n",
    "        2. Replace each character of ONLY the identified sensitive data with '*'.\n",
    "        3. Leave all other text completely unchanged.\n",
    "        4. Return the entire text with only the sensitive data masked.\n",
    "        5. Do not add any explanations or additional text to your response.\n",
    "\n",
    "        Example:\n",
    "        Input: \"John Doe's email is john@example.com and SSN is 123-45-6789.\"\n",
    "        Output: \"**** ***'s email is ***************** and SSN is ***********.\"\n",
    "\n",
    "        Processed text:\n",
    "    \"\"\"\n",
    "    response = llm.invoke(prompt)\n",
    "    all_response_list.append(response)\n",
    "    time_taken = time.time() - start_time\n",
    "    total_time += time_taken\n",
    "    # print(response)\n",
    "average_time = total_time / len(all_articles_list)\n",
    "\n",
    "print(f\"Total time taken by langchain-aws for 10 articles: {total_time}\")\n",
    "print(f\"Avaerage time taken by langchain-aws for 10 articles: {average_time}\")"
   ]
  },
  {
   "cell_type": "code",
   "execution_count": 10,
   "id": "2b9a102a-04d3-481c-af32-90b7be92822d",
   "metadata": {
    "tags": []
   },
   "outputs": [
    {
     "name": "stderr",
     "output_type": "stream",
     "text": [
      "\u001b[32m2024-10-08 11:15:47.376\u001b[0m | \u001b[1mINFO    \u001b[0m | \u001b[36mavahiplatform.data_masking\u001b[0m:\u001b[36m_get_bedrock_client\u001b[0m:\u001b[36m31\u001b[0m - \u001b[1mNo explicit credentials provided. Attempting to use default credentials.\u001b[0m\n",
      "\u001b[32m2024-10-08 11:15:47.387\u001b[0m | \u001b[1mINFO    \u001b[0m | \u001b[36mavahiplatform.data_masking\u001b[0m:\u001b[36m_get_model_details\u001b[0m:\u001b[36m112\u001b[0m - \u001b[1mUsing model: anthropic.claude-3-haiku-20240307-v1:0\u001b[0m\n",
      "\u001b[32m2024-10-08 11:15:47.390\u001b[0m | \u001b[1mINFO    \u001b[0m | \u001b[36mavahiplatform.data_masking\u001b[0m:\u001b[36mmodel_invoke\u001b[0m:\u001b[36m62\u001b[0m - \u001b[1mInvoking model to extracting content.\u001b[0m\n",
      "\u001b[32m2024-10-08 11:15:51.701\u001b[0m | \u001b[1mINFO    \u001b[0m | \u001b[36mavahiplatform.data_masking\u001b[0m:\u001b[36mmodel_invoke\u001b[0m:\u001b[36m80\u001b[0m - \u001b[1mModel invocation successful. Total cost: $0.000822\u001b[0m\n",
      "\u001b[32m2024-10-08 11:15:51.704\u001b[0m | \u001b[1mINFO    \u001b[0m | \u001b[36mavahiplatform.data_masking\u001b[0m:\u001b[36m_get_bedrock_client\u001b[0m:\u001b[36m31\u001b[0m - \u001b[1mNo explicit credentials provided. Attempting to use default credentials.\u001b[0m\n",
      "\u001b[32m2024-10-08 11:15:51.710\u001b[0m | \u001b[1mINFO    \u001b[0m | \u001b[36mavahiplatform.data_masking\u001b[0m:\u001b[36m_get_model_details\u001b[0m:\u001b[36m112\u001b[0m - \u001b[1mUsing model: anthropic.claude-3-haiku-20240307-v1:0\u001b[0m\n",
      "\u001b[32m2024-10-08 11:15:51.711\u001b[0m | \u001b[1mINFO    \u001b[0m | \u001b[36mavahiplatform.data_masking\u001b[0m:\u001b[36mmodel_invoke\u001b[0m:\u001b[36m62\u001b[0m - \u001b[1mInvoking model to extracting content.\u001b[0m\n",
      "\u001b[32m2024-10-08 11:15:54.060\u001b[0m | \u001b[1mINFO    \u001b[0m | \u001b[36mavahiplatform.data_masking\u001b[0m:\u001b[36mmodel_invoke\u001b[0m:\u001b[36m80\u001b[0m - \u001b[1mModel invocation successful. Total cost: $0.000436\u001b[0m\n",
      "\u001b[32m2024-10-08 11:15:54.066\u001b[0m | \u001b[1mINFO    \u001b[0m | \u001b[36mavahiplatform.data_masking\u001b[0m:\u001b[36m_get_bedrock_client\u001b[0m:\u001b[36m31\u001b[0m - \u001b[1mNo explicit credentials provided. Attempting to use default credentials.\u001b[0m\n",
      "\u001b[32m2024-10-08 11:15:54.083\u001b[0m | \u001b[1mINFO    \u001b[0m | \u001b[36mavahiplatform.data_masking\u001b[0m:\u001b[36m_get_model_details\u001b[0m:\u001b[36m112\u001b[0m - \u001b[1mUsing model: anthropic.claude-3-haiku-20240307-v1:0\u001b[0m\n",
      "\u001b[32m2024-10-08 11:15:54.087\u001b[0m | \u001b[1mINFO    \u001b[0m | \u001b[36mavahiplatform.data_masking\u001b[0m:\u001b[36mmodel_invoke\u001b[0m:\u001b[36m62\u001b[0m - \u001b[1mInvoking model to extracting content.\u001b[0m\n",
      "\u001b[32m2024-10-08 11:15:56.514\u001b[0m | \u001b[1mINFO    \u001b[0m | \u001b[36mavahiplatform.data_masking\u001b[0m:\u001b[36mmodel_invoke\u001b[0m:\u001b[36m80\u001b[0m - \u001b[1mModel invocation successful. Total cost: $0.000407\u001b[0m\n",
      "\u001b[32m2024-10-08 11:15:56.518\u001b[0m | \u001b[1mINFO    \u001b[0m | \u001b[36mavahiplatform.data_masking\u001b[0m:\u001b[36m_get_bedrock_client\u001b[0m:\u001b[36m31\u001b[0m - \u001b[1mNo explicit credentials provided. Attempting to use default credentials.\u001b[0m\n",
      "\u001b[32m2024-10-08 11:15:56.524\u001b[0m | \u001b[1mINFO    \u001b[0m | \u001b[36mavahiplatform.data_masking\u001b[0m:\u001b[36m_get_model_details\u001b[0m:\u001b[36m112\u001b[0m - \u001b[1mUsing model: anthropic.claude-3-haiku-20240307-v1:0\u001b[0m\n",
      "\u001b[32m2024-10-08 11:15:56.525\u001b[0m | \u001b[1mINFO    \u001b[0m | \u001b[36mavahiplatform.data_masking\u001b[0m:\u001b[36mmodel_invoke\u001b[0m:\u001b[36m62\u001b[0m - \u001b[1mInvoking model to extracting content.\u001b[0m\n",
      "\u001b[32m2024-10-08 11:15:58.265\u001b[0m | \u001b[1mINFO    \u001b[0m | \u001b[36mavahiplatform.data_masking\u001b[0m:\u001b[36mmodel_invoke\u001b[0m:\u001b[36m80\u001b[0m - \u001b[1mModel invocation successful. Total cost: $0.000345\u001b[0m\n",
      "\u001b[32m2024-10-08 11:15:58.270\u001b[0m | \u001b[1mINFO    \u001b[0m | \u001b[36mavahiplatform.data_masking\u001b[0m:\u001b[36m_get_bedrock_client\u001b[0m:\u001b[36m31\u001b[0m - \u001b[1mNo explicit credentials provided. Attempting to use default credentials.\u001b[0m\n",
      "\u001b[32m2024-10-08 11:15:58.282\u001b[0m | \u001b[1mINFO    \u001b[0m | \u001b[36mavahiplatform.data_masking\u001b[0m:\u001b[36m_get_model_details\u001b[0m:\u001b[36m112\u001b[0m - \u001b[1mUsing model: anthropic.claude-3-haiku-20240307-v1:0\u001b[0m\n",
      "\u001b[32m2024-10-08 11:15:58.287\u001b[0m | \u001b[1mINFO    \u001b[0m | \u001b[36mavahiplatform.data_masking\u001b[0m:\u001b[36mmodel_invoke\u001b[0m:\u001b[36m62\u001b[0m - \u001b[1mInvoking model to extracting content.\u001b[0m\n",
      "\u001b[32m2024-10-08 11:16:00.089\u001b[0m | \u001b[1mINFO    \u001b[0m | \u001b[36mavahiplatform.data_masking\u001b[0m:\u001b[36mmodel_invoke\u001b[0m:\u001b[36m80\u001b[0m - \u001b[1mModel invocation successful. Total cost: $0.000307\u001b[0m\n",
      "\u001b[32m2024-10-08 11:16:00.095\u001b[0m | \u001b[1mINFO    \u001b[0m | \u001b[36mavahiplatform.data_masking\u001b[0m:\u001b[36m_get_bedrock_client\u001b[0m:\u001b[36m31\u001b[0m - \u001b[1mNo explicit credentials provided. Attempting to use default credentials.\u001b[0m\n",
      "\u001b[32m2024-10-08 11:16:00.103\u001b[0m | \u001b[1mINFO    \u001b[0m | \u001b[36mavahiplatform.data_masking\u001b[0m:\u001b[36m_get_model_details\u001b[0m:\u001b[36m112\u001b[0m - \u001b[1mUsing model: anthropic.claude-3-haiku-20240307-v1:0\u001b[0m\n",
      "\u001b[32m2024-10-08 11:16:00.107\u001b[0m | \u001b[1mINFO    \u001b[0m | \u001b[36mavahiplatform.data_masking\u001b[0m:\u001b[36mmodel_invoke\u001b[0m:\u001b[36m62\u001b[0m - \u001b[1mInvoking model to extracting content.\u001b[0m\n",
      "\u001b[32m2024-10-08 11:16:02.110\u001b[0m | \u001b[1mINFO    \u001b[0m | \u001b[36mavahiplatform.data_masking\u001b[0m:\u001b[36mmodel_invoke\u001b[0m:\u001b[36m80\u001b[0m - \u001b[1mModel invocation successful. Total cost: $0.000310\u001b[0m\n",
      "\u001b[32m2024-10-08 11:16:02.117\u001b[0m | \u001b[1mINFO    \u001b[0m | \u001b[36mavahiplatform.data_masking\u001b[0m:\u001b[36m_get_bedrock_client\u001b[0m:\u001b[36m31\u001b[0m - \u001b[1mNo explicit credentials provided. Attempting to use default credentials.\u001b[0m\n",
      "\u001b[32m2024-10-08 11:16:02.127\u001b[0m | \u001b[1mINFO    \u001b[0m | \u001b[36mavahiplatform.data_masking\u001b[0m:\u001b[36m_get_model_details\u001b[0m:\u001b[36m112\u001b[0m - \u001b[1mUsing model: anthropic.claude-3-haiku-20240307-v1:0\u001b[0m\n",
      "\u001b[32m2024-10-08 11:16:02.133\u001b[0m | \u001b[1mINFO    \u001b[0m | \u001b[36mavahiplatform.data_masking\u001b[0m:\u001b[36mmodel_invoke\u001b[0m:\u001b[36m62\u001b[0m - \u001b[1mInvoking model to extracting content.\u001b[0m\n",
      "\u001b[32m2024-10-08 11:16:04.444\u001b[0m | \u001b[1mINFO    \u001b[0m | \u001b[36mavahiplatform.data_masking\u001b[0m:\u001b[36mmodel_invoke\u001b[0m:\u001b[36m80\u001b[0m - \u001b[1mModel invocation successful. Total cost: $0.000313\u001b[0m\n",
      "\u001b[32m2024-10-08 11:16:04.450\u001b[0m | \u001b[1mINFO    \u001b[0m | \u001b[36mavahiplatform.data_masking\u001b[0m:\u001b[36m_get_bedrock_client\u001b[0m:\u001b[36m31\u001b[0m - \u001b[1mNo explicit credentials provided. Attempting to use default credentials.\u001b[0m\n",
      "\u001b[32m2024-10-08 11:16:04.461\u001b[0m | \u001b[1mINFO    \u001b[0m | \u001b[36mavahiplatform.data_masking\u001b[0m:\u001b[36m_get_model_details\u001b[0m:\u001b[36m112\u001b[0m - \u001b[1mUsing model: anthropic.claude-3-haiku-20240307-v1:0\u001b[0m\n",
      "\u001b[32m2024-10-08 11:16:04.463\u001b[0m | \u001b[1mINFO    \u001b[0m | \u001b[36mavahiplatform.data_masking\u001b[0m:\u001b[36mmodel_invoke\u001b[0m:\u001b[36m62\u001b[0m - \u001b[1mInvoking model to extracting content.\u001b[0m\n",
      "\u001b[32m2024-10-08 11:16:05.854\u001b[0m | \u001b[1mINFO    \u001b[0m | \u001b[36mavahiplatform.data_masking\u001b[0m:\u001b[36mmodel_invoke\u001b[0m:\u001b[36m80\u001b[0m - \u001b[1mModel invocation successful. Total cost: $0.000297\u001b[0m\n",
      "\u001b[32m2024-10-08 11:16:05.859\u001b[0m | \u001b[1mINFO    \u001b[0m | \u001b[36mavahiplatform.data_masking\u001b[0m:\u001b[36m_get_bedrock_client\u001b[0m:\u001b[36m31\u001b[0m - \u001b[1mNo explicit credentials provided. Attempting to use default credentials.\u001b[0m\n",
      "\u001b[32m2024-10-08 11:16:05.869\u001b[0m | \u001b[1mINFO    \u001b[0m | \u001b[36mavahiplatform.data_masking\u001b[0m:\u001b[36m_get_model_details\u001b[0m:\u001b[36m112\u001b[0m - \u001b[1mUsing model: anthropic.claude-3-haiku-20240307-v1:0\u001b[0m\n",
      "\u001b[32m2024-10-08 11:16:05.877\u001b[0m | \u001b[1mINFO    \u001b[0m | \u001b[36mavahiplatform.data_masking\u001b[0m:\u001b[36mmodel_invoke\u001b[0m:\u001b[36m62\u001b[0m - \u001b[1mInvoking model to extracting content.\u001b[0m\n",
      "\u001b[32m2024-10-08 11:16:07.489\u001b[0m | \u001b[1mINFO    \u001b[0m | \u001b[36mavahiplatform.data_masking\u001b[0m:\u001b[36mmodel_invoke\u001b[0m:\u001b[36m80\u001b[0m - \u001b[1mModel invocation successful. Total cost: $0.000293\u001b[0m\n",
      "\u001b[32m2024-10-08 11:16:07.493\u001b[0m | \u001b[1mINFO    \u001b[0m | \u001b[36mavahiplatform.data_masking\u001b[0m:\u001b[36m_get_bedrock_client\u001b[0m:\u001b[36m31\u001b[0m - \u001b[1mNo explicit credentials provided. Attempting to use default credentials.\u001b[0m\n",
      "\u001b[32m2024-10-08 11:16:07.497\u001b[0m | \u001b[1mINFO    \u001b[0m | \u001b[36mavahiplatform.data_masking\u001b[0m:\u001b[36m_get_model_details\u001b[0m:\u001b[36m112\u001b[0m - \u001b[1mUsing model: anthropic.claude-3-haiku-20240307-v1:0\u001b[0m\n",
      "\u001b[32m2024-10-08 11:16:07.498\u001b[0m | \u001b[1mINFO    \u001b[0m | \u001b[36mavahiplatform.data_masking\u001b[0m:\u001b[36mmodel_invoke\u001b[0m:\u001b[36m62\u001b[0m - \u001b[1mInvoking model to extracting content.\u001b[0m\n",
      "\u001b[32m2024-10-08 11:16:09.126\u001b[0m | \u001b[1mINFO    \u001b[0m | \u001b[36mavahiplatform.data_masking\u001b[0m:\u001b[36mmodel_invoke\u001b[0m:\u001b[36m80\u001b[0m - \u001b[1mModel invocation successful. Total cost: $0.000321\u001b[0m\n"
     ]
    },
    {
     "name": "stdout",
     "output_type": "stream",
     "text": [
      "Total time taken by avahiplatform for 10 articles: 21.756441116333008\n",
      "Avaerage time taken by avahiplatform for 10 articles: 2.175644111633301\n"
     ]
    }
   ],
   "source": [
    "total_time = 0\n",
    "all_response_list = []\n",
    "\n",
    "for text in all_articles_list:\n",
    "    start_time = time.time()\n",
    "    response, input_tokens, output_tokens, cost = avahiplatform.DataMasking(text, model_name=\"haiku-3.0\")\n",
    "    all_response_list.append(response)\n",
    "    time_taken = time.time() - start_time\n",
    "    total_time += time_taken\n",
    "average_time = total_time / len(all_articles_list)\n",
    "\n",
    "print(f\"Total time taken by avahiplatform for 10 articles: {total_time}\")\n",
    "print(f\"Avaerage time taken by avahiplatform for 10 articles: {average_time}\")"
   ]
  },
  {
   "cell_type": "markdown",
   "id": "b83cafb8-901f-471a-9a37-a8943076279a",
   "metadata": {},
   "source": [
    "# Grammar correction"
   ]
  },
  {
   "cell_type": "code",
   "execution_count": 11,
   "id": "b6a642b6-a936-4584-a9a1-e3454f1b5aa6",
   "metadata": {
    "tags": []
   },
   "outputs": [
    {
     "name": "stdout",
     "output_type": "stream",
     "text": [
      "Total time taken by langchain-aws for 10 articles: 21.13474988937378\n",
      "Avaerage time taken by langchain-aws for 10 articles: 2.113474988937378\n"
     ]
    }
   ],
   "source": [
    "total_time = 0\n",
    "all_response_list = []\n",
    "\n",
    "for text in all_articles_list:\n",
    "    start_time = time.time()\n",
    "    model_kwargs_claude = {\"temperature\": 0, \"top_p\": 0.2, \"max_tokens\": 1000}\n",
    "    llm = ChatBedrock(model_id=\"anthropic.claude-3-haiku-20240307-v1:0\", model_kwargs=model_kwargs_claude)\n",
    "    prompt = f\"\"\"\n",
    "        Please rectify grammar and spelling of the following text: {text}\n",
    "    \"\"\"\n",
    "    response = llm.invoke(prompt)\n",
    "    all_response_list.append(response)\n",
    "    time_taken = time.time() - start_time\n",
    "    total_time += time_taken\n",
    "    # print(response)\n",
    "average_time = total_time / len(all_articles_list)\n",
    "\n",
    "print(f\"Total time taken by langchain-aws for 10 articles: {total_time}\")\n",
    "print(f\"Avaerage time taken by langchain-aws for 10 articles: {average_time}\")"
   ]
  },
  {
   "cell_type": "code",
   "execution_count": 12,
   "id": "96ff3f54-ab9a-4d17-a523-8058a92b768a",
   "metadata": {
    "tags": []
   },
   "outputs": [
    {
     "name": "stderr",
     "output_type": "stream",
     "text": [
      "\u001b[32m2024-10-08 11:17:14.293\u001b[0m | \u001b[1mINFO    \u001b[0m | \u001b[36mavahiplatform.grammarCorrection\u001b[0m:\u001b[36m_get_bedrock_client\u001b[0m:\u001b[36m31\u001b[0m - \u001b[1mNo explicit credentials provided. Attempting to use default credentials.\u001b[0m\n",
      "\u001b[32m2024-10-08 11:17:14.311\u001b[0m | \u001b[1mINFO    \u001b[0m | \u001b[36mavahiplatform.grammarCorrection\u001b[0m:\u001b[36m_get_model_details\u001b[0m:\u001b[36m112\u001b[0m - \u001b[1mUsing model: anthropic.claude-3-haiku-20240307-v1:0\u001b[0m\n",
      "\u001b[32m2024-10-08 11:17:14.315\u001b[0m | \u001b[1mINFO    \u001b[0m | \u001b[36mavahiplatform.grammarCorrection\u001b[0m:\u001b[36mmodel_invoke\u001b[0m:\u001b[36m62\u001b[0m - \u001b[1mInvoking model to rectify grammar and spelling of the content.\u001b[0m\n",
      "\u001b[32m2024-10-08 11:17:18.621\u001b[0m | \u001b[1mINFO    \u001b[0m | \u001b[36mavahiplatform.grammarCorrection\u001b[0m:\u001b[36mmodel_invoke\u001b[0m:\u001b[36m80\u001b[0m - \u001b[1mModel invocation successful. Total cost: $0.000698\u001b[0m\n",
      "\u001b[32m2024-10-08 11:17:18.627\u001b[0m | \u001b[1mINFO    \u001b[0m | \u001b[36mavahiplatform.grammarCorrection\u001b[0m:\u001b[36m_get_bedrock_client\u001b[0m:\u001b[36m31\u001b[0m - \u001b[1mNo explicit credentials provided. Attempting to use default credentials.\u001b[0m\n",
      "\u001b[32m2024-10-08 11:17:18.635\u001b[0m | \u001b[1mINFO    \u001b[0m | \u001b[36mavahiplatform.grammarCorrection\u001b[0m:\u001b[36m_get_model_details\u001b[0m:\u001b[36m112\u001b[0m - \u001b[1mUsing model: anthropic.claude-3-haiku-20240307-v1:0\u001b[0m\n",
      "\u001b[32m2024-10-08 11:17:18.639\u001b[0m | \u001b[1mINFO    \u001b[0m | \u001b[36mavahiplatform.grammarCorrection\u001b[0m:\u001b[36mmodel_invoke\u001b[0m:\u001b[36m62\u001b[0m - \u001b[1mInvoking model to rectify grammar and spelling of the content.\u001b[0m\n",
      "\u001b[32m2024-10-08 11:17:20.904\u001b[0m | \u001b[1mINFO    \u001b[0m | \u001b[36mavahiplatform.grammarCorrection\u001b[0m:\u001b[36mmodel_invoke\u001b[0m:\u001b[36m80\u001b[0m - \u001b[1mModel invocation successful. Total cost: $0.000412\u001b[0m\n",
      "\u001b[32m2024-10-08 11:17:20.910\u001b[0m | \u001b[1mINFO    \u001b[0m | \u001b[36mavahiplatform.grammarCorrection\u001b[0m:\u001b[36m_get_bedrock_client\u001b[0m:\u001b[36m31\u001b[0m - \u001b[1mNo explicit credentials provided. Attempting to use default credentials.\u001b[0m\n",
      "\u001b[32m2024-10-08 11:17:20.917\u001b[0m | \u001b[1mINFO    \u001b[0m | \u001b[36mavahiplatform.grammarCorrection\u001b[0m:\u001b[36m_get_model_details\u001b[0m:\u001b[36m112\u001b[0m - \u001b[1mUsing model: anthropic.claude-3-haiku-20240307-v1:0\u001b[0m\n",
      "\u001b[32m2024-10-08 11:17:20.918\u001b[0m | \u001b[1mINFO    \u001b[0m | \u001b[36mavahiplatform.grammarCorrection\u001b[0m:\u001b[36mmodel_invoke\u001b[0m:\u001b[36m62\u001b[0m - \u001b[1mInvoking model to rectify grammar and spelling of the content.\u001b[0m\n",
      "\u001b[32m2024-10-08 11:17:22.925\u001b[0m | \u001b[1mINFO    \u001b[0m | \u001b[36mavahiplatform.grammarCorrection\u001b[0m:\u001b[36mmodel_invoke\u001b[0m:\u001b[36m80\u001b[0m - \u001b[1mModel invocation successful. Total cost: $0.000359\u001b[0m\n",
      "\u001b[32m2024-10-08 11:17:22.930\u001b[0m | \u001b[1mINFO    \u001b[0m | \u001b[36mavahiplatform.grammarCorrection\u001b[0m:\u001b[36m_get_bedrock_client\u001b[0m:\u001b[36m31\u001b[0m - \u001b[1mNo explicit credentials provided. Attempting to use default credentials.\u001b[0m\n",
      "\u001b[32m2024-10-08 11:17:22.939\u001b[0m | \u001b[1mINFO    \u001b[0m | \u001b[36mavahiplatform.grammarCorrection\u001b[0m:\u001b[36m_get_model_details\u001b[0m:\u001b[36m112\u001b[0m - \u001b[1mUsing model: anthropic.claude-3-haiku-20240307-v1:0\u001b[0m\n",
      "\u001b[32m2024-10-08 11:17:22.940\u001b[0m | \u001b[1mINFO    \u001b[0m | \u001b[36mavahiplatform.grammarCorrection\u001b[0m:\u001b[36mmodel_invoke\u001b[0m:\u001b[36m62\u001b[0m - \u001b[1mInvoking model to rectify grammar and spelling of the content.\u001b[0m\n",
      "\u001b[32m2024-10-08 11:17:24.587\u001b[0m | \u001b[1mINFO    \u001b[0m | \u001b[36mavahiplatform.grammarCorrection\u001b[0m:\u001b[36mmodel_invoke\u001b[0m:\u001b[36m80\u001b[0m - \u001b[1mModel invocation successful. Total cost: $0.000304\u001b[0m\n",
      "\u001b[32m2024-10-08 11:17:24.591\u001b[0m | \u001b[1mINFO    \u001b[0m | \u001b[36mavahiplatform.grammarCorrection\u001b[0m:\u001b[36m_get_bedrock_client\u001b[0m:\u001b[36m31\u001b[0m - \u001b[1mNo explicit credentials provided. Attempting to use default credentials.\u001b[0m\n",
      "\u001b[32m2024-10-08 11:17:24.598\u001b[0m | \u001b[1mINFO    \u001b[0m | \u001b[36mavahiplatform.grammarCorrection\u001b[0m:\u001b[36m_get_model_details\u001b[0m:\u001b[36m112\u001b[0m - \u001b[1mUsing model: anthropic.claude-3-haiku-20240307-v1:0\u001b[0m\n",
      "\u001b[32m2024-10-08 11:17:24.599\u001b[0m | \u001b[1mINFO    \u001b[0m | \u001b[36mavahiplatform.grammarCorrection\u001b[0m:\u001b[36mmodel_invoke\u001b[0m:\u001b[36m62\u001b[0m - \u001b[1mInvoking model to rectify grammar and spelling of the content.\u001b[0m\n",
      "\u001b[32m2024-10-08 11:17:26.143\u001b[0m | \u001b[1mINFO    \u001b[0m | \u001b[36mavahiplatform.grammarCorrection\u001b[0m:\u001b[36mmodel_invoke\u001b[0m:\u001b[36m80\u001b[0m - \u001b[1mModel invocation successful. Total cost: $0.000266\u001b[0m\n",
      "\u001b[32m2024-10-08 11:17:26.149\u001b[0m | \u001b[1mINFO    \u001b[0m | \u001b[36mavahiplatform.grammarCorrection\u001b[0m:\u001b[36m_get_bedrock_client\u001b[0m:\u001b[36m31\u001b[0m - \u001b[1mNo explicit credentials provided. Attempting to use default credentials.\u001b[0m\n",
      "\u001b[32m2024-10-08 11:17:26.157\u001b[0m | \u001b[1mINFO    \u001b[0m | \u001b[36mavahiplatform.grammarCorrection\u001b[0m:\u001b[36m_get_model_details\u001b[0m:\u001b[36m112\u001b[0m - \u001b[1mUsing model: anthropic.claude-3-haiku-20240307-v1:0\u001b[0m\n",
      "\u001b[32m2024-10-08 11:17:26.161\u001b[0m | \u001b[1mINFO    \u001b[0m | \u001b[36mavahiplatform.grammarCorrection\u001b[0m:\u001b[36mmodel_invoke\u001b[0m:\u001b[36m62\u001b[0m - \u001b[1mInvoking model to rectify grammar and spelling of the content.\u001b[0m\n",
      "\u001b[32m2024-10-08 11:17:27.659\u001b[0m | \u001b[1mINFO    \u001b[0m | \u001b[36mavahiplatform.grammarCorrection\u001b[0m:\u001b[36mmodel_invoke\u001b[0m:\u001b[36m80\u001b[0m - \u001b[1mModel invocation successful. Total cost: $0.000268\u001b[0m\n",
      "\u001b[32m2024-10-08 11:17:27.663\u001b[0m | \u001b[1mINFO    \u001b[0m | \u001b[36mavahiplatform.grammarCorrection\u001b[0m:\u001b[36m_get_bedrock_client\u001b[0m:\u001b[36m31\u001b[0m - \u001b[1mNo explicit credentials provided. Attempting to use default credentials.\u001b[0m\n",
      "\u001b[32m2024-10-08 11:17:27.669\u001b[0m | \u001b[1mINFO    \u001b[0m | \u001b[36mavahiplatform.grammarCorrection\u001b[0m:\u001b[36m_get_model_details\u001b[0m:\u001b[36m112\u001b[0m - \u001b[1mUsing model: anthropic.claude-3-haiku-20240307-v1:0\u001b[0m\n",
      "\u001b[32m2024-10-08 11:17:27.670\u001b[0m | \u001b[1mINFO    \u001b[0m | \u001b[36mavahiplatform.grammarCorrection\u001b[0m:\u001b[36mmodel_invoke\u001b[0m:\u001b[36m62\u001b[0m - \u001b[1mInvoking model to rectify grammar and spelling of the content.\u001b[0m\n",
      "\u001b[32m2024-10-08 11:17:29.272\u001b[0m | \u001b[1mINFO    \u001b[0m | \u001b[36mavahiplatform.grammarCorrection\u001b[0m:\u001b[36mmodel_invoke\u001b[0m:\u001b[36m80\u001b[0m - \u001b[1mModel invocation successful. Total cost: $0.000267\u001b[0m\n",
      "\u001b[32m2024-10-08 11:17:29.278\u001b[0m | \u001b[1mINFO    \u001b[0m | \u001b[36mavahiplatform.grammarCorrection\u001b[0m:\u001b[36m_get_bedrock_client\u001b[0m:\u001b[36m31\u001b[0m - \u001b[1mNo explicit credentials provided. Attempting to use default credentials.\u001b[0m\n",
      "\u001b[32m2024-10-08 11:17:29.290\u001b[0m | \u001b[1mINFO    \u001b[0m | \u001b[36mavahiplatform.grammarCorrection\u001b[0m:\u001b[36m_get_model_details\u001b[0m:\u001b[36m112\u001b[0m - \u001b[1mUsing model: anthropic.claude-3-haiku-20240307-v1:0\u001b[0m\n",
      "\u001b[32m2024-10-08 11:17:29.298\u001b[0m | \u001b[1mINFO    \u001b[0m | \u001b[36mavahiplatform.grammarCorrection\u001b[0m:\u001b[36mmodel_invoke\u001b[0m:\u001b[36m62\u001b[0m - \u001b[1mInvoking model to rectify grammar and spelling of the content.\u001b[0m\n",
      "\u001b[32m2024-10-08 11:17:31.071\u001b[0m | \u001b[1mINFO    \u001b[0m | \u001b[36mavahiplatform.grammarCorrection\u001b[0m:\u001b[36mmodel_invoke\u001b[0m:\u001b[36m80\u001b[0m - \u001b[1mModel invocation successful. Total cost: $0.000253\u001b[0m\n",
      "\u001b[32m2024-10-08 11:17:31.078\u001b[0m | \u001b[1mINFO    \u001b[0m | \u001b[36mavahiplatform.grammarCorrection\u001b[0m:\u001b[36m_get_bedrock_client\u001b[0m:\u001b[36m31\u001b[0m - \u001b[1mNo explicit credentials provided. Attempting to use default credentials.\u001b[0m\n",
      "\u001b[32m2024-10-08 11:17:31.085\u001b[0m | \u001b[1mINFO    \u001b[0m | \u001b[36mavahiplatform.grammarCorrection\u001b[0m:\u001b[36m_get_model_details\u001b[0m:\u001b[36m112\u001b[0m - \u001b[1mUsing model: anthropic.claude-3-haiku-20240307-v1:0\u001b[0m\n",
      "\u001b[32m2024-10-08 11:17:31.091\u001b[0m | \u001b[1mINFO    \u001b[0m | \u001b[36mavahiplatform.grammarCorrection\u001b[0m:\u001b[36mmodel_invoke\u001b[0m:\u001b[36m62\u001b[0m - \u001b[1mInvoking model to rectify grammar and spelling of the content.\u001b[0m\n",
      "\u001b[32m2024-10-08 11:17:32.720\u001b[0m | \u001b[1mINFO    \u001b[0m | \u001b[36mavahiplatform.grammarCorrection\u001b[0m:\u001b[36mmodel_invoke\u001b[0m:\u001b[36m80\u001b[0m - \u001b[1mModel invocation successful. Total cost: $0.000240\u001b[0m\n",
      "\u001b[32m2024-10-08 11:17:32.724\u001b[0m | \u001b[1mINFO    \u001b[0m | \u001b[36mavahiplatform.grammarCorrection\u001b[0m:\u001b[36m_get_bedrock_client\u001b[0m:\u001b[36m31\u001b[0m - \u001b[1mNo explicit credentials provided. Attempting to use default credentials.\u001b[0m\n",
      "\u001b[32m2024-10-08 11:17:32.730\u001b[0m | \u001b[1mINFO    \u001b[0m | \u001b[36mavahiplatform.grammarCorrection\u001b[0m:\u001b[36m_get_model_details\u001b[0m:\u001b[36m112\u001b[0m - \u001b[1mUsing model: anthropic.claude-3-haiku-20240307-v1:0\u001b[0m\n",
      "\u001b[32m2024-10-08 11:17:32.731\u001b[0m | \u001b[1mINFO    \u001b[0m | \u001b[36mavahiplatform.grammarCorrection\u001b[0m:\u001b[36mmodel_invoke\u001b[0m:\u001b[36m62\u001b[0m - \u001b[1mInvoking model to rectify grammar and spelling of the content.\u001b[0m\n",
      "\u001b[32m2024-10-08 11:17:34.168\u001b[0m | \u001b[1mINFO    \u001b[0m | \u001b[36mavahiplatform.grammarCorrection\u001b[0m:\u001b[36mmodel_invoke\u001b[0m:\u001b[36m80\u001b[0m - \u001b[1mModel invocation successful. Total cost: $0.000280\u001b[0m\n"
     ]
    },
    {
     "name": "stdout",
     "output_type": "stream",
     "text": [
      "Total time taken by avahiplatform for 10 articles: 19.88170051574707\n",
      "Avaerage time taken by avahiplatform for 10 articles: 1.988170051574707\n"
     ]
    }
   ],
   "source": [
    "total_time = 0\n",
    "all_response_list = []\n",
    "\n",
    "for text in all_articles_list:\n",
    "    start_time = time.time()\n",
    "    response, input_tokens, output_tokens, cost = avahiplatform.grammarAssistant(text, model_name=\"haiku-3.0\")\n",
    "    all_response_list.append(response)\n",
    "    time_taken = time.time() - start_time\n",
    "    total_time += time_taken\n",
    "average_time = total_time / len(all_articles_list)\n",
    "\n",
    "print(f\"Total time taken by avahiplatform for 10 articles: {total_time}\")\n",
    "print(f\"Avaerage time taken by avahiplatform for 10 articles: {average_time}\")"
   ]
  },
  {
   "cell_type": "markdown",
   "id": "caab20ff-ca0d-496c-8327-1bee5d046ef9",
   "metadata": {},
   "source": [
    "# CSV querying"
   ]
  },
  {
   "cell_type": "code",
   "execution_count": 13,
   "id": "d788e75a-8450-4a79-b2c8-fcc750cd723a",
   "metadata": {
    "tags": []
   },
   "outputs": [
    {
     "name": "stdout",
     "output_type": "stream",
     "text": [
      "The average hours studied when parental involvement is low is 20.13462976813762.\n",
      "Total time taken by langchain-aws: 2.7076375484466553\n"
     ]
    }
   ],
   "source": [
    "start_time = time.time()\n",
    "query = \"What are the average hours studies when parental involvement is low?\"\n",
    "model_kwargs_claude = {\"temperature\": 0, \"top_p\": 0.2, \"max_tokens\": 250}\n",
    "llm = ChatBedrock(model_id=\"anthropic.claude-3-haiku-20240307-v1:0\", model_kwargs=model_kwargs_claude)\n",
    "df = pd.read_csv(\"./StudentPerformanceFactors.csv\")\n",
    "agent = create_pandas_dataframe_agent(\n",
    "            llm,\n",
    "            df,\n",
    "            verbose=False,\n",
    "            agent_type=AgentType.ZERO_SHOT_REACT_DESCRIPTION,\n",
    "            allow_dangerous_code=True\n",
    "            )\n",
    "\n",
    "agent_response = agent.invoke(query)['output']\n",
    "total_time = time.time() - start_time\n",
    "print(agent_response)\n",
    "print(f\"Total time taken by langchain-aws: {total_time}\")"
   ]
  },
  {
   "cell_type": "code",
   "execution_count": 14,
   "id": "a3ff251a-0503-4f15-8c1d-fe167c64b1fd",
   "metadata": {
    "tags": []
   },
   "outputs": [
    {
     "name": "stderr",
     "output_type": "stream",
     "text": [
      "\u001b[32m2024-10-08 11:18:32.043\u001b[0m | \u001b[1mINFO    \u001b[0m | \u001b[36mavahiplatform.query_csv\u001b[0m:\u001b[36m_get_bedrock_client\u001b[0m:\u001b[36m86\u001b[0m - \u001b[1mNo explicit credentials provided. Attempting to use default credentials.\u001b[0m\n",
      "\u001b[32m2024-10-08 11:18:32.111\u001b[0m | \u001b[1mINFO    \u001b[0m | \u001b[36mavahiplatform.query_csv\u001b[0m:\u001b[36m_get_model_details\u001b[0m:\u001b[36m226\u001b[0m - \u001b[1mUsing model: anthropic.claude-3-haiku-20240307-v1:0\u001b[0m\n"
     ]
    },
    {
     "name": "stdout",
     "output_type": "stream",
     "text": [
      "<class 'pandas.core.frame.DataFrame'>\n",
      "RangeIndex: 6607 entries, 0 to 6606\n",
      "Columns: 20 entries, Hours_Studied to Exam_Score\n",
      "dtypes: int64(7), object(13)\n",
      "memory usage: 1.0+ MB\n"
     ]
    },
    {
     "name": "stderr",
     "output_type": "stream",
     "text": [
      "\u001b[32m2024-10-08 11:18:32.646\u001b[0m | \u001b[1mINFO    \u001b[0m | \u001b[36mavahiplatform.query_csv\u001b[0m:\u001b[36m_execute_query\u001b[0m:\u001b[36m165\u001b[0m - \u001b[1massistant_message: df1[df1['Parental_Involvement'] == 'Low']['Hours_Studied'].mean()\u001b[0m\n",
      "\u001b[32m2024-10-08 11:18:32.655\u001b[0m | \u001b[1mINFO    \u001b[0m | \u001b[36mavahiplatform.query_csv\u001b[0m:\u001b[36mmodel_invoke\u001b[0m:\u001b[36m104\u001b[0m - \u001b[1mquery output: 20.13462976813762\u001b[0m\n"
     ]
    },
    {
     "name": "stdout",
     "output_type": "stream",
     "text": [
      "Based on the provided answer of 20.13462976813762, the average hours studied when parental involvement is low is 20.13 hours.\n",
      "Total time taken by avahiplatform: 1.5927894115447998\n"
     ]
    }
   ],
   "source": [
    "start_time = time.time()\n",
    "user_query = \"What are the average hours studies when parental involvement is low?\"\n",
    "csv_files = {\n",
    "    \"df1\": \"./StudentPerformanceFactors.csv\"\n",
    "}\n",
    "csv_file_path = \"./StudentPerformanceFactors.csv\"\n",
    "csv_answer = avahiplatform.query_csv(user_query, csv_files, model_name=\"haiku-3.0\")\n",
    "total_time = time.time() - start_time\n",
    "print(csv_answer)\n",
    "print(f\"Total time taken by avahiplatform: {total_time}\")"
   ]
  },
  {
   "cell_type": "markdown",
   "id": "734d90a2-8f59-477d-baf8-c63476167def",
   "metadata": {},
   "source": [
    "# NL2SQL"
   ]
  },
  {
   "cell_type": "code",
   "execution_count": 15,
   "id": "b69152e0-7681-4e5a-b148-8cb324029def",
   "metadata": {
    "tags": []
   },
   "outputs": [],
   "source": [
    "db_type=os.getenv(\"db_type\")\n",
    "username_db=os.getenv(\"username_db\")\n",
    "password=os.getenv(\"password\")\n",
    "host=os.getenv(\"host\")\n",
    "dbname=os.getenv(\"dbname\")"
   ]
  },
  {
   "cell_type": "code",
   "execution_count": 21,
   "id": "03714d05-7fb6-47f2-a0b9-b996f77a6496",
   "metadata": {
    "tags": []
   },
   "outputs": [
    {
     "name": "stdout",
     "output_type": "stream",
     "text": [
      "There are 9 users in the database.\n",
      "Total time taken by langchain-aws: 4.703713893890381\n"
     ]
    }
   ],
   "source": [
    "start_time = time.time()\n",
    "# Setup database\n",
    "db = SQLDatabase.from_uri(\n",
    "    f\"postgresql+psycopg2://{username_db}:{password}@{host}:5432/{dbname}\",\n",
    ")\n",
    "# question = \"what this table is about?\"\n",
    "model_kwargs_claude = {\"temperature\": 0, \"top_p\": 0.2, \"max_tokens\": 250}\n",
    "llm = ChatBedrock(model_id=\"anthropic.claude-3-haiku-20240307-v1:0\", model_kwargs=model_kwargs_claude)\n",
    "toolkit = SQLDatabaseToolkit(db=db, llm=llm)\n",
    "\n",
    "agent_executor = create_sql_agent(\n",
    "llm=llm,\n",
    "toolkit=toolkit,\n",
    "verbose=False,\n",
    "agent_type=AgentType.ZERO_SHOT_REACT_DESCRIPTION,\n",
    ")\n",
    "answer = agent_executor.invoke(\"how many users are there?\")[\"output\"]\n",
    "print(answer)\n",
    "total_time = time.time() - start_time\n",
    "print(f\"Total time taken by langchain-aws: {total_time}\")"
   ]
  },
  {
   "cell_type": "code",
   "execution_count": 22,
   "id": "a471801a-c176-4dcb-943d-94230147393e",
   "metadata": {
    "tags": []
   },
   "outputs": [
    {
     "name": "stderr",
     "output_type": "stream",
     "text": [
      "\u001b[32m2024-10-08 11:21:44.746\u001b[0m | \u001b[1mINFO    \u001b[0m | \u001b[36mavahiplatform.nl2sql\u001b[0m:\u001b[36m_get_bedrock_client\u001b[0m:\u001b[36m30\u001b[0m - \u001b[1mNo explicit credentials provided. Attempting to use default credentials.\u001b[0m\n",
      "\u001b[32m2024-10-08 11:21:44.757\u001b[0m | \u001b[1mINFO    \u001b[0m | \u001b[36mavahiplatform.nl2sql\u001b[0m:\u001b[36m_get_model_details\u001b[0m:\u001b[36m158\u001b[0m - \u001b[1mUsing model: anthropic.claude-3-haiku-20240307-v1:0\u001b[0m\n"
     ]
    },
    {
     "name": "stdout",
     "output_type": "stream",
     "text": [
      "NL2SQL Result: The query results show that there are 9 users in the database.\n",
      "Total time taken by avahiplatform: 1.1476197242736816\n"
     ]
    }
   ],
   "source": [
    "start_time = time.time()\n",
    "nl2sql_result = avahiplatform.nl2sql(\"how many users are there?\",\n",
    "                                      db_type=db_type, username=username_db, password=password,\n",
    "                                      host=host, port=5432, dbname=dbname, model_name=\"haiku-3.0\")\n",
    "print(\"NL2SQL Result:\", nl2sql_result)\n",
    "total_time = time.time() - start_time\n",
    "print(f\"Total time taken by avahiplatform: {total_time}\")"
   ]
  },
  {
   "cell_type": "code",
   "execution_count": null,
   "id": "ff600abc-f376-4203-993d-03a3eecff3bd",
   "metadata": {},
   "outputs": [],
   "source": []
  }
 ],
 "metadata": {
  "kernelspec": {
   "display_name": "conda_python3",
   "language": "python",
   "name": "conda_python3"
  },
  "language_info": {
   "codemirror_mode": {
    "name": "ipython",
    "version": 3
   },
   "file_extension": ".py",
   "mimetype": "text/x-python",
   "name": "python",
   "nbconvert_exporter": "python",
   "pygments_lexer": "ipython3",
   "version": "3.10.14"
  }
 },
 "nbformat": 4,
 "nbformat_minor": 5
}
