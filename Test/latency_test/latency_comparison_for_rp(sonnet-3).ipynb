{
 "cells": [
  {
   "cell_type": "code",
   "execution_count": 1,
   "id": "6696f1fa-e19f-45bc-9cc2-878ea2c9de3c",
   "metadata": {
    "collapsed": true,
    "jupyter": {
     "outputs_hidden": true
    },
    "tags": []
   },
   "outputs": [
    {
     "name": "stdout",
     "output_type": "stream",
     "text": [
      "Collecting langchain\n",
      "  Using cached langchain-0.3.2-py3-none-any.whl.metadata (7.1 kB)\n",
      "Requirement already satisfied: PyYAML>=5.3 in /home/ec2-user/anaconda3/envs/python3/lib/python3.10/site-packages (from langchain) (6.0.1)\n",
      "Requirement already satisfied: SQLAlchemy<3,>=1.4 in /home/ec2-user/anaconda3/envs/python3/lib/python3.10/site-packages (from langchain) (2.0.35)\n",
      "Requirement already satisfied: aiohttp<4.0.0,>=3.8.3 in /home/ec2-user/anaconda3/envs/python3/lib/python3.10/site-packages (from langchain) (3.9.5)\n",
      "Requirement already satisfied: async-timeout<5.0.0,>=4.0.0 in /home/ec2-user/anaconda3/envs/python3/lib/python3.10/site-packages (from langchain) (4.0.3)\n",
      "Collecting langchain-core<0.4.0,>=0.3.8 (from langchain)\n",
      "  Downloading langchain_core-0.3.9-py3-none-any.whl.metadata (6.3 kB)\n",
      "Collecting langchain-text-splitters<0.4.0,>=0.3.0 (from langchain)\n",
      "  Using cached langchain_text_splitters-0.3.0-py3-none-any.whl.metadata (2.3 kB)\n",
      "Collecting langsmith<0.2.0,>=0.1.17 (from langchain)\n",
      "  Downloading langsmith-0.1.132-py3-none-any.whl.metadata (13 kB)\n",
      "Requirement already satisfied: numpy<2,>=1 in /home/ec2-user/anaconda3/envs/python3/lib/python3.10/site-packages (from langchain) (1.26.4)\n",
      "Requirement already satisfied: pydantic<3.0.0,>=2.7.4 in /home/ec2-user/anaconda3/envs/python3/lib/python3.10/site-packages (from langchain) (2.9.1)\n",
      "Requirement already satisfied: requests<3,>=2 in /home/ec2-user/anaconda3/envs/python3/lib/python3.10/site-packages (from langchain) (2.32.3)\n",
      "Collecting tenacity!=8.4.0,<9.0.0,>=8.1.0 (from langchain)\n",
      "  Using cached tenacity-8.5.0-py3-none-any.whl.metadata (1.2 kB)\n",
      "Requirement already satisfied: aiosignal>=1.1.2 in /home/ec2-user/anaconda3/envs/python3/lib/python3.10/site-packages (from aiohttp<4.0.0,>=3.8.3->langchain) (1.3.1)\n",
      "Requirement already satisfied: attrs>=17.3.0 in /home/ec2-user/anaconda3/envs/python3/lib/python3.10/site-packages (from aiohttp<4.0.0,>=3.8.3->langchain) (23.2.0)\n",
      "Requirement already satisfied: frozenlist>=1.1.1 in /home/ec2-user/anaconda3/envs/python3/lib/python3.10/site-packages (from aiohttp<4.0.0,>=3.8.3->langchain) (1.4.1)\n",
      "Requirement already satisfied: multidict<7.0,>=4.5 in /home/ec2-user/anaconda3/envs/python3/lib/python3.10/site-packages (from aiohttp<4.0.0,>=3.8.3->langchain) (6.0.5)\n",
      "Requirement already satisfied: yarl<2.0,>=1.0 in /home/ec2-user/anaconda3/envs/python3/lib/python3.10/site-packages (from aiohttp<4.0.0,>=3.8.3->langchain) (1.9.4)\n",
      "Collecting jsonpatch<2.0,>=1.33 (from langchain-core<0.4.0,>=0.3.8->langchain)\n",
      "  Using cached jsonpatch-1.33-py2.py3-none-any.whl.metadata (3.0 kB)\n",
      "Collecting packaging<25,>=23.2 (from langchain-core<0.4.0,>=0.3.8->langchain)\n",
      "  Using cached packaging-24.1-py3-none-any.whl.metadata (3.2 kB)\n",
      "Requirement already satisfied: typing-extensions>=4.7 in /home/ec2-user/anaconda3/envs/python3/lib/python3.10/site-packages (from langchain-core<0.4.0,>=0.3.8->langchain) (4.12.2)\n",
      "Requirement already satisfied: httpx<1,>=0.23.0 in /home/ec2-user/anaconda3/envs/python3/lib/python3.10/site-packages (from langsmith<0.2.0,>=0.1.17->langchain) (0.27.0)\n",
      "Requirement already satisfied: orjson<4.0.0,>=3.9.14 in /home/ec2-user/anaconda3/envs/python3/lib/python3.10/site-packages (from langsmith<0.2.0,>=0.1.17->langchain) (3.10.7)\n",
      "Collecting requests-toolbelt<2.0.0,>=1.0.0 (from langsmith<0.2.0,>=0.1.17->langchain)\n",
      "  Using cached requests_toolbelt-1.0.0-py2.py3-none-any.whl.metadata (14 kB)\n",
      "Requirement already satisfied: annotated-types>=0.6.0 in /home/ec2-user/anaconda3/envs/python3/lib/python3.10/site-packages (from pydantic<3.0.0,>=2.7.4->langchain) (0.7.0)\n",
      "Requirement already satisfied: pydantic-core==2.23.3 in /home/ec2-user/anaconda3/envs/python3/lib/python3.10/site-packages (from pydantic<3.0.0,>=2.7.4->langchain) (2.23.3)\n",
      "Requirement already satisfied: charset-normalizer<4,>=2 in /home/ec2-user/anaconda3/envs/python3/lib/python3.10/site-packages (from requests<3,>=2->langchain) (3.3.2)\n",
      "Requirement already satisfied: idna<4,>=2.5 in /home/ec2-user/anaconda3/envs/python3/lib/python3.10/site-packages (from requests<3,>=2->langchain) (3.7)\n",
      "Requirement already satisfied: urllib3<3,>=1.21.1 in /home/ec2-user/anaconda3/envs/python3/lib/python3.10/site-packages (from requests<3,>=2->langchain) (2.2.2)\n",
      "Requirement already satisfied: certifi>=2017.4.17 in /home/ec2-user/anaconda3/envs/python3/lib/python3.10/site-packages (from requests<3,>=2->langchain) (2024.7.4)\n",
      "Requirement already satisfied: greenlet!=0.4.17 in /home/ec2-user/anaconda3/envs/python3/lib/python3.10/site-packages (from SQLAlchemy<3,>=1.4->langchain) (3.0.3)\n",
      "Requirement already satisfied: anyio in /home/ec2-user/anaconda3/envs/python3/lib/python3.10/site-packages (from httpx<1,>=0.23.0->langsmith<0.2.0,>=0.1.17->langchain) (4.4.0)\n",
      "Requirement already satisfied: httpcore==1.* in /home/ec2-user/anaconda3/envs/python3/lib/python3.10/site-packages (from httpx<1,>=0.23.0->langsmith<0.2.0,>=0.1.17->langchain) (1.0.5)\n",
      "Requirement already satisfied: sniffio in /home/ec2-user/anaconda3/envs/python3/lib/python3.10/site-packages (from httpx<1,>=0.23.0->langsmith<0.2.0,>=0.1.17->langchain) (1.3.1)\n",
      "Requirement already satisfied: h11<0.15,>=0.13 in /home/ec2-user/anaconda3/envs/python3/lib/python3.10/site-packages (from httpcore==1.*->httpx<1,>=0.23.0->langsmith<0.2.0,>=0.1.17->langchain) (0.14.0)\n",
      "Requirement already satisfied: jsonpointer>=1.9 in /home/ec2-user/anaconda3/envs/python3/lib/python3.10/site-packages (from jsonpatch<2.0,>=1.33->langchain-core<0.4.0,>=0.3.8->langchain) (3.0.0)\n",
      "Requirement already satisfied: exceptiongroup>=1.0.2 in /home/ec2-user/anaconda3/envs/python3/lib/python3.10/site-packages (from anyio->httpx<1,>=0.23.0->langsmith<0.2.0,>=0.1.17->langchain) (1.2.2)\n",
      "Using cached langchain-0.3.2-py3-none-any.whl (1.0 MB)\n",
      "Downloading langchain_core-0.3.9-py3-none-any.whl (401 kB)\n",
      "\u001b[2K   \u001b[90m━━━━━━━━━━━━━━━━━━━━━━━━━━━━━━━━━━━━━━━━\u001b[0m \u001b[32m401.8/401.8 kB\u001b[0m \u001b[31m20.7 MB/s\u001b[0m eta \u001b[36m0:00:00\u001b[0m\n",
      "\u001b[?25hUsing cached langchain_text_splitters-0.3.0-py3-none-any.whl (25 kB)\n",
      "Downloading langsmith-0.1.132-py3-none-any.whl (294 kB)\n",
      "\u001b[2K   \u001b[90m━━━━━━━━━━━━━━━━━━━━━━━━━━━━━━━━━━━━━━━━\u001b[0m \u001b[32m294.6/294.6 kB\u001b[0m \u001b[31m29.2 MB/s\u001b[0m eta \u001b[36m0:00:00\u001b[0m\n",
      "\u001b[?25hUsing cached tenacity-8.5.0-py3-none-any.whl (28 kB)\n",
      "Using cached jsonpatch-1.33-py2.py3-none-any.whl (12 kB)\n",
      "Using cached packaging-24.1-py3-none-any.whl (53 kB)\n",
      "Using cached requests_toolbelt-1.0.0-py2.py3-none-any.whl (54 kB)\n",
      "Installing collected packages: tenacity, packaging, jsonpatch, requests-toolbelt, langsmith, langchain-core, langchain-text-splitters, langchain\n",
      "  Attempting uninstall: tenacity\n",
      "    Found existing installation: tenacity 9.0.0\n",
      "    Uninstalling tenacity-9.0.0:\n",
      "      Successfully uninstalled tenacity-9.0.0\n",
      "  Attempting uninstall: packaging\n",
      "    Found existing installation: packaging 21.3\n",
      "    Uninstalling packaging-21.3:\n",
      "      Successfully uninstalled packaging-21.3\n",
      "\u001b[31mERROR: pip's dependency resolver does not currently take into account all the packages that are installed. This behaviour is the source of the following dependency conflicts.\n",
      "sparkmagic 0.21.0 requires pandas<2.0.0,>=0.17.1, but you have pandas 2.2.3 which is incompatible.\n",
      "sphinx 8.0.2 requires docutils<0.22,>=0.20, but you have docutils 0.16 which is incompatible.\u001b[0m\u001b[31m\n",
      "\u001b[0mSuccessfully installed jsonpatch-1.33 langchain-0.3.2 langchain-core-0.3.9 langchain-text-splitters-0.3.0 langsmith-0.1.132 packaging-24.1 requests-toolbelt-1.0.0 tenacity-8.5.0\n",
      "Requirement already satisfied: avahiplatform in /home/ec2-user/anaconda3/envs/python3/lib/python3.10/site-packages (0.0.12)\n",
      "Requirement already satisfied: boto3>=1.34.160 in /home/ec2-user/anaconda3/envs/python3/lib/python3.10/site-packages (from avahiplatform) (1.35.16)\n",
      "Requirement already satisfied: loguru>=0.7.2 in /home/ec2-user/anaconda3/envs/python3/lib/python3.10/site-packages (from avahiplatform) (0.7.2)\n",
      "Requirement already satisfied: python-docx>=1.1.2 in /home/ec2-user/anaconda3/envs/python3/lib/python3.10/site-packages (from avahiplatform) (1.1.2)\n",
      "Requirement already satisfied: PyMuPDF>=1.24.9 in /home/ec2-user/anaconda3/envs/python3/lib/python3.10/site-packages (from avahiplatform) (1.24.11)\n",
      "Requirement already satisfied: psycopg2>=2.9.9 in /home/ec2-user/anaconda3/envs/python3/lib/python3.10/site-packages (from avahiplatform) (2.9.9)\n",
      "Requirement already satisfied: PyMySQL>=1.1.1 in /home/ec2-user/anaconda3/envs/python3/lib/python3.10/site-packages (from avahiplatform) (1.1.1)\n",
      "Requirement already satisfied: tabulate>=0.9.0 in /home/ec2-user/anaconda3/envs/python3/lib/python3.10/site-packages (from avahiplatform) (0.9.0)\n",
      "Requirement already satisfied: chromadb==0.5.3 in /home/ec2-user/anaconda3/envs/python3/lib/python3.10/site-packages (from avahiplatform) (0.5.3)\n",
      "Requirement already satisfied: pillow>=10.4.0 in /home/ec2-user/anaconda3/envs/python3/lib/python3.10/site-packages (from avahiplatform) (10.4.0)\n",
      "Requirement already satisfied: sqlalchemy>=2.0.35 in /home/ec2-user/anaconda3/envs/python3/lib/python3.10/site-packages (from avahiplatform) (2.0.35)\n",
      "Requirement already satisfied: pandas>=2.2.3 in /home/ec2-user/anaconda3/envs/python3/lib/python3.10/site-packages (from avahiplatform) (2.2.3)\n",
      "Requirement already satisfied: gradio>=4.44.0 in /home/ec2-user/anaconda3/envs/python3/lib/python3.10/site-packages (from avahiplatform) (4.44.1)\n",
      "Requirement already satisfied: typing-extensions>=4.0.0 in /home/ec2-user/anaconda3/envs/python3/lib/python3.10/site-packages (from avahiplatform) (4.12.2)\n",
      "Requirement already satisfied: prometheus-client>=0.21.0 in /home/ec2-user/anaconda3/envs/python3/lib/python3.10/site-packages (from avahiplatform) (0.21.0)\n",
      "Requirement already satisfied: build>=1.0.3 in /home/ec2-user/anaconda3/envs/python3/lib/python3.10/site-packages (from chromadb==0.5.3->avahiplatform) (1.2.2)\n",
      "Requirement already satisfied: requests>=2.28 in /home/ec2-user/anaconda3/envs/python3/lib/python3.10/site-packages (from chromadb==0.5.3->avahiplatform) (2.32.3)\n",
      "Requirement already satisfied: pydantic>=1.9 in /home/ec2-user/anaconda3/envs/python3/lib/python3.10/site-packages (from chromadb==0.5.3->avahiplatform) (2.9.1)\n",
      "Requirement already satisfied: chroma-hnswlib==0.7.3 in /home/ec2-user/anaconda3/envs/python3/lib/python3.10/site-packages (from chromadb==0.5.3->avahiplatform) (0.7.3)\n",
      "Requirement already satisfied: fastapi>=0.95.2 in /home/ec2-user/anaconda3/envs/python3/lib/python3.10/site-packages (from chromadb==0.5.3->avahiplatform) (0.115.0)\n",
      "Requirement already satisfied: uvicorn>=0.18.3 in /home/ec2-user/anaconda3/envs/python3/lib/python3.10/site-packages (from uvicorn[standard]>=0.18.3->chromadb==0.5.3->avahiplatform) (0.31.0)\n",
      "Requirement already satisfied: numpy<2.0.0,>=1.22.5 in /home/ec2-user/anaconda3/envs/python3/lib/python3.10/site-packages (from chromadb==0.5.3->avahiplatform) (1.26.4)\n",
      "Requirement already satisfied: posthog>=2.4.0 in /home/ec2-user/anaconda3/envs/python3/lib/python3.10/site-packages (from chromadb==0.5.3->avahiplatform) (3.7.0)\n",
      "Requirement already satisfied: onnxruntime>=1.14.1 in /home/ec2-user/anaconda3/envs/python3/lib/python3.10/site-packages (from chromadb==0.5.3->avahiplatform) (1.16.3)\n",
      "Requirement already satisfied: opentelemetry-api>=1.2.0 in /home/ec2-user/anaconda3/envs/python3/lib/python3.10/site-packages (from chromadb==0.5.3->avahiplatform) (1.27.0)\n",
      "Requirement already satisfied: opentelemetry-exporter-otlp-proto-grpc>=1.2.0 in /home/ec2-user/anaconda3/envs/python3/lib/python3.10/site-packages (from chromadb==0.5.3->avahiplatform) (1.27.0)\n",
      "Requirement already satisfied: opentelemetry-instrumentation-fastapi>=0.41b0 in /home/ec2-user/anaconda3/envs/python3/lib/python3.10/site-packages (from chromadb==0.5.3->avahiplatform) (0.48b0)\n",
      "Requirement already satisfied: opentelemetry-sdk>=1.2.0 in /home/ec2-user/anaconda3/envs/python3/lib/python3.10/site-packages (from chromadb==0.5.3->avahiplatform) (1.27.0)\n",
      "Requirement already satisfied: tokenizers>=0.13.2 in /home/ec2-user/anaconda3/envs/python3/lib/python3.10/site-packages (from chromadb==0.5.3->avahiplatform) (0.20.0)\n",
      "Requirement already satisfied: pypika>=0.48.9 in /home/ec2-user/anaconda3/envs/python3/lib/python3.10/site-packages (from chromadb==0.5.3->avahiplatform) (0.48.9)\n",
      "Requirement already satisfied: tqdm>=4.65.0 in /home/ec2-user/anaconda3/envs/python3/lib/python3.10/site-packages (from chromadb==0.5.3->avahiplatform) (4.66.4)\n",
      "Requirement already satisfied: overrides>=7.3.1 in /home/ec2-user/anaconda3/envs/python3/lib/python3.10/site-packages (from chromadb==0.5.3->avahiplatform) (7.7.0)\n",
      "Requirement already satisfied: importlib-resources in /home/ec2-user/anaconda3/envs/python3/lib/python3.10/site-packages (from chromadb==0.5.3->avahiplatform) (6.4.0)\n",
      "Requirement already satisfied: grpcio>=1.58.0 in /home/ec2-user/anaconda3/envs/python3/lib/python3.10/site-packages (from chromadb==0.5.3->avahiplatform) (1.66.2)\n",
      "Requirement already satisfied: bcrypt>=4.0.1 in /home/ec2-user/anaconda3/envs/python3/lib/python3.10/site-packages (from chromadb==0.5.3->avahiplatform) (4.2.0)\n",
      "Requirement already satisfied: typer>=0.9.0 in /home/ec2-user/anaconda3/envs/python3/lib/python3.10/site-packages (from chromadb==0.5.3->avahiplatform) (0.12.5)\n",
      "Requirement already satisfied: kubernetes>=28.1.0 in /home/ec2-user/anaconda3/envs/python3/lib/python3.10/site-packages (from chromadb==0.5.3->avahiplatform) (31.0.0)\n",
      "Requirement already satisfied: tenacity>=8.2.3 in /home/ec2-user/anaconda3/envs/python3/lib/python3.10/site-packages (from chromadb==0.5.3->avahiplatform) (8.5.0)\n",
      "Requirement already satisfied: PyYAML>=6.0.0 in /home/ec2-user/anaconda3/envs/python3/lib/python3.10/site-packages (from chromadb==0.5.3->avahiplatform) (6.0.1)\n",
      "Requirement already satisfied: mmh3>=4.0.1 in /home/ec2-user/anaconda3/envs/python3/lib/python3.10/site-packages (from chromadb==0.5.3->avahiplatform) (5.0.1)\n",
      "Requirement already satisfied: orjson>=3.9.12 in /home/ec2-user/anaconda3/envs/python3/lib/python3.10/site-packages (from chromadb==0.5.3->avahiplatform) (3.10.7)\n",
      "Requirement already satisfied: httpx>=0.27.0 in /home/ec2-user/anaconda3/envs/python3/lib/python3.10/site-packages (from chromadb==0.5.3->avahiplatform) (0.27.0)\n",
      "Requirement already satisfied: botocore<1.36.0,>=1.35.16 in /home/ec2-user/anaconda3/envs/python3/lib/python3.10/site-packages (from boto3>=1.34.160->avahiplatform) (1.35.16)\n",
      "Requirement already satisfied: jmespath<2.0.0,>=0.7.1 in /home/ec2-user/anaconda3/envs/python3/lib/python3.10/site-packages (from boto3>=1.34.160->avahiplatform) (1.0.1)\n",
      "Requirement already satisfied: s3transfer<0.11.0,>=0.10.0 in /home/ec2-user/anaconda3/envs/python3/lib/python3.10/site-packages (from boto3>=1.34.160->avahiplatform) (0.10.2)\n",
      "Requirement already satisfied: aiofiles<24.0,>=22.0 in /home/ec2-user/anaconda3/envs/python3/lib/python3.10/site-packages (from gradio>=4.44.0->avahiplatform) (23.2.1)\n",
      "Requirement already satisfied: anyio<5.0,>=3.0 in /home/ec2-user/anaconda3/envs/python3/lib/python3.10/site-packages (from gradio>=4.44.0->avahiplatform) (4.4.0)\n",
      "Requirement already satisfied: ffmpy in /home/ec2-user/anaconda3/envs/python3/lib/python3.10/site-packages (from gradio>=4.44.0->avahiplatform) (0.4.0)\n",
      "Requirement already satisfied: gradio-client==1.3.0 in /home/ec2-user/anaconda3/envs/python3/lib/python3.10/site-packages (from gradio>=4.44.0->avahiplatform) (1.3.0)\n",
      "Requirement already satisfied: huggingface-hub>=0.19.3 in /home/ec2-user/anaconda3/envs/python3/lib/python3.10/site-packages (from gradio>=4.44.0->avahiplatform) (0.25.1)\n",
      "Requirement already satisfied: jinja2<4.0 in /home/ec2-user/anaconda3/envs/python3/lib/python3.10/site-packages (from gradio>=4.44.0->avahiplatform) (3.1.4)\n",
      "Requirement already satisfied: markupsafe~=2.0 in /home/ec2-user/anaconda3/envs/python3/lib/python3.10/site-packages (from gradio>=4.44.0->avahiplatform) (2.1.5)\n",
      "Requirement already satisfied: matplotlib~=3.0 in /home/ec2-user/anaconda3/envs/python3/lib/python3.10/site-packages (from gradio>=4.44.0->avahiplatform) (3.8.4)\n",
      "Requirement already satisfied: packaging in /home/ec2-user/anaconda3/envs/python3/lib/python3.10/site-packages (from gradio>=4.44.0->avahiplatform) (24.1)\n",
      "Requirement already satisfied: pydub in /home/ec2-user/anaconda3/envs/python3/lib/python3.10/site-packages (from gradio>=4.44.0->avahiplatform) (0.25.1)\n",
      "Requirement already satisfied: python-multipart>=0.0.9 in /home/ec2-user/anaconda3/envs/python3/lib/python3.10/site-packages (from gradio>=4.44.0->avahiplatform) (0.0.12)\n",
      "Requirement already satisfied: ruff>=0.2.2 in /home/ec2-user/anaconda3/envs/python3/lib/python3.10/site-packages (from gradio>=4.44.0->avahiplatform) (0.6.9)\n",
      "Requirement already satisfied: semantic-version~=2.0 in /home/ec2-user/anaconda3/envs/python3/lib/python3.10/site-packages (from gradio>=4.44.0->avahiplatform) (2.10.0)\n",
      "Requirement already satisfied: tomlkit==0.12.0 in /home/ec2-user/anaconda3/envs/python3/lib/python3.10/site-packages (from gradio>=4.44.0->avahiplatform) (0.12.0)\n",
      "Requirement already satisfied: urllib3~=2.0 in /home/ec2-user/anaconda3/envs/python3/lib/python3.10/site-packages (from gradio>=4.44.0->avahiplatform) (2.2.2)\n",
      "Requirement already satisfied: fsspec in /home/ec2-user/anaconda3/envs/python3/lib/python3.10/site-packages (from gradio-client==1.3.0->gradio>=4.44.0->avahiplatform) (2024.6.1)\n",
      "Requirement already satisfied: websockets<13.0,>=10.0 in /home/ec2-user/anaconda3/envs/python3/lib/python3.10/site-packages (from gradio-client==1.3.0->gradio>=4.44.0->avahiplatform) (12.0)\n",
      "Requirement already satisfied: python-dateutil>=2.8.2 in /home/ec2-user/anaconda3/envs/python3/lib/python3.10/site-packages (from pandas>=2.2.3->avahiplatform) (2.9.0)\n",
      "Requirement already satisfied: pytz>=2020.1 in /home/ec2-user/anaconda3/envs/python3/lib/python3.10/site-packages (from pandas>=2.2.3->avahiplatform) (2024.1)\n",
      "Requirement already satisfied: tzdata>=2022.7 in /home/ec2-user/anaconda3/envs/python3/lib/python3.10/site-packages (from pandas>=2.2.3->avahiplatform) (2024.1)\n",
      "Requirement already satisfied: lxml>=3.1.0 in /home/ec2-user/anaconda3/envs/python3/lib/python3.10/site-packages (from python-docx>=1.1.2->avahiplatform) (5.3.0)\n",
      "Requirement already satisfied: greenlet!=0.4.17 in /home/ec2-user/anaconda3/envs/python3/lib/python3.10/site-packages (from sqlalchemy>=2.0.35->avahiplatform) (3.0.3)\n",
      "Requirement already satisfied: idna>=2.8 in /home/ec2-user/anaconda3/envs/python3/lib/python3.10/site-packages (from anyio<5.0,>=3.0->gradio>=4.44.0->avahiplatform) (3.7)\n",
      "Requirement already satisfied: sniffio>=1.1 in /home/ec2-user/anaconda3/envs/python3/lib/python3.10/site-packages (from anyio<5.0,>=3.0->gradio>=4.44.0->avahiplatform) (1.3.1)\n",
      "Requirement already satisfied: exceptiongroup>=1.0.2 in /home/ec2-user/anaconda3/envs/python3/lib/python3.10/site-packages (from anyio<5.0,>=3.0->gradio>=4.44.0->avahiplatform) (1.2.2)\n",
      "Requirement already satisfied: pyproject_hooks in /home/ec2-user/anaconda3/envs/python3/lib/python3.10/site-packages (from build>=1.0.3->chromadb==0.5.3->avahiplatform) (1.2.0)\n",
      "Requirement already satisfied: tomli>=1.1.0 in /home/ec2-user/anaconda3/envs/python3/lib/python3.10/site-packages (from build>=1.0.3->chromadb==0.5.3->avahiplatform) (2.0.1)\n",
      "Requirement already satisfied: starlette<0.39.0,>=0.37.2 in /home/ec2-user/anaconda3/envs/python3/lib/python3.10/site-packages (from fastapi>=0.95.2->chromadb==0.5.3->avahiplatform) (0.38.6)\n",
      "Requirement already satisfied: certifi in /home/ec2-user/anaconda3/envs/python3/lib/python3.10/site-packages (from httpx>=0.27.0->chromadb==0.5.3->avahiplatform) (2024.7.4)\n",
      "Requirement already satisfied: httpcore==1.* in /home/ec2-user/anaconda3/envs/python3/lib/python3.10/site-packages (from httpx>=0.27.0->chromadb==0.5.3->avahiplatform) (1.0.5)\n",
      "Requirement already satisfied: h11<0.15,>=0.13 in /home/ec2-user/anaconda3/envs/python3/lib/python3.10/site-packages (from httpcore==1.*->httpx>=0.27.0->chromadb==0.5.3->avahiplatform) (0.14.0)\n",
      "Requirement already satisfied: filelock in /home/ec2-user/anaconda3/envs/python3/lib/python3.10/site-packages (from huggingface-hub>=0.19.3->gradio>=4.44.0->avahiplatform) (3.15.4)\n",
      "Requirement already satisfied: six>=1.9.0 in /home/ec2-user/anaconda3/envs/python3/lib/python3.10/site-packages (from kubernetes>=28.1.0->chromadb==0.5.3->avahiplatform) (1.16.0)\n",
      "Requirement already satisfied: google-auth>=1.0.1 in /home/ec2-user/anaconda3/envs/python3/lib/python3.10/site-packages (from kubernetes>=28.1.0->chromadb==0.5.3->avahiplatform) (2.35.0)\n",
      "Requirement already satisfied: websocket-client!=0.40.0,!=0.41.*,!=0.42.*,>=0.32.0 in /home/ec2-user/anaconda3/envs/python3/lib/python3.10/site-packages (from kubernetes>=28.1.0->chromadb==0.5.3->avahiplatform) (1.8.0)\n",
      "Requirement already satisfied: requests-oauthlib in /home/ec2-user/anaconda3/envs/python3/lib/python3.10/site-packages (from kubernetes>=28.1.0->chromadb==0.5.3->avahiplatform) (2.0.0)\n",
      "Requirement already satisfied: oauthlib>=3.2.2 in /home/ec2-user/anaconda3/envs/python3/lib/python3.10/site-packages (from kubernetes>=28.1.0->chromadb==0.5.3->avahiplatform) (3.2.2)\n",
      "Requirement already satisfied: durationpy>=0.7 in /home/ec2-user/anaconda3/envs/python3/lib/python3.10/site-packages (from kubernetes>=28.1.0->chromadb==0.5.3->avahiplatform) (0.9)\n",
      "Requirement already satisfied: contourpy>=1.0.1 in /home/ec2-user/anaconda3/envs/python3/lib/python3.10/site-packages (from matplotlib~=3.0->gradio>=4.44.0->avahiplatform) (1.2.1)\n",
      "Requirement already satisfied: cycler>=0.10 in /home/ec2-user/anaconda3/envs/python3/lib/python3.10/site-packages (from matplotlib~=3.0->gradio>=4.44.0->avahiplatform) (0.12.1)\n",
      "Requirement already satisfied: fonttools>=4.22.0 in /home/ec2-user/anaconda3/envs/python3/lib/python3.10/site-packages (from matplotlib~=3.0->gradio>=4.44.0->avahiplatform) (4.53.1)\n",
      "Requirement already satisfied: kiwisolver>=1.3.1 in /home/ec2-user/anaconda3/envs/python3/lib/python3.10/site-packages (from matplotlib~=3.0->gradio>=4.44.0->avahiplatform) (1.4.5)\n",
      "Requirement already satisfied: pyparsing>=2.3.1 in /home/ec2-user/anaconda3/envs/python3/lib/python3.10/site-packages (from matplotlib~=3.0->gradio>=4.44.0->avahiplatform) (3.1.2)\n",
      "Requirement already satisfied: coloredlogs in /home/ec2-user/anaconda3/envs/python3/lib/python3.10/site-packages (from onnxruntime>=1.14.1->chromadb==0.5.3->avahiplatform) (15.0.1)\n",
      "Requirement already satisfied: flatbuffers in /home/ec2-user/anaconda3/envs/python3/lib/python3.10/site-packages (from onnxruntime>=1.14.1->chromadb==0.5.3->avahiplatform) (24.3.25)\n",
      "Requirement already satisfied: protobuf in /home/ec2-user/anaconda3/envs/python3/lib/python3.10/site-packages (from onnxruntime>=1.14.1->chromadb==0.5.3->avahiplatform) (4.25.4)\n",
      "Requirement already satisfied: sympy in /home/ec2-user/anaconda3/envs/python3/lib/python3.10/site-packages (from onnxruntime>=1.14.1->chromadb==0.5.3->avahiplatform) (1.13.0)\n",
      "Requirement already satisfied: deprecated>=1.2.6 in /home/ec2-user/anaconda3/envs/python3/lib/python3.10/site-packages (from opentelemetry-api>=1.2.0->chromadb==0.5.3->avahiplatform) (1.2.14)\n",
      "Requirement already satisfied: importlib-metadata<=8.4.0,>=6.0 in /home/ec2-user/anaconda3/envs/python3/lib/python3.10/site-packages (from opentelemetry-api>=1.2.0->chromadb==0.5.3->avahiplatform) (6.11.0)\n",
      "Requirement already satisfied: googleapis-common-protos~=1.52 in /home/ec2-user/anaconda3/envs/python3/lib/python3.10/site-packages (from opentelemetry-exporter-otlp-proto-grpc>=1.2.0->chromadb==0.5.3->avahiplatform) (1.65.0)\n",
      "Requirement already satisfied: opentelemetry-exporter-otlp-proto-common==1.27.0 in /home/ec2-user/anaconda3/envs/python3/lib/python3.10/site-packages (from opentelemetry-exporter-otlp-proto-grpc>=1.2.0->chromadb==0.5.3->avahiplatform) (1.27.0)\n",
      "Requirement already satisfied: opentelemetry-proto==1.27.0 in /home/ec2-user/anaconda3/envs/python3/lib/python3.10/site-packages (from opentelemetry-exporter-otlp-proto-grpc>=1.2.0->chromadb==0.5.3->avahiplatform) (1.27.0)\n",
      "Requirement already satisfied: opentelemetry-instrumentation-asgi==0.48b0 in /home/ec2-user/anaconda3/envs/python3/lib/python3.10/site-packages (from opentelemetry-instrumentation-fastapi>=0.41b0->chromadb==0.5.3->avahiplatform) (0.48b0)\n",
      "Requirement already satisfied: opentelemetry-instrumentation==0.48b0 in /home/ec2-user/anaconda3/envs/python3/lib/python3.10/site-packages (from opentelemetry-instrumentation-fastapi>=0.41b0->chromadb==0.5.3->avahiplatform) (0.48b0)\n",
      "Requirement already satisfied: opentelemetry-semantic-conventions==0.48b0 in /home/ec2-user/anaconda3/envs/python3/lib/python3.10/site-packages (from opentelemetry-instrumentation-fastapi>=0.41b0->chromadb==0.5.3->avahiplatform) (0.48b0)\n",
      "Requirement already satisfied: opentelemetry-util-http==0.48b0 in /home/ec2-user/anaconda3/envs/python3/lib/python3.10/site-packages (from opentelemetry-instrumentation-fastapi>=0.41b0->chromadb==0.5.3->avahiplatform) (0.48b0)\n",
      "Requirement already satisfied: setuptools>=16.0 in /home/ec2-user/anaconda3/envs/python3/lib/python3.10/site-packages (from opentelemetry-instrumentation==0.48b0->opentelemetry-instrumentation-fastapi>=0.41b0->chromadb==0.5.3->avahiplatform) (56.0.0)\n",
      "Requirement already satisfied: wrapt<2.0.0,>=1.0.0 in /home/ec2-user/anaconda3/envs/python3/lib/python3.10/site-packages (from opentelemetry-instrumentation==0.48b0->opentelemetry-instrumentation-fastapi>=0.41b0->chromadb==0.5.3->avahiplatform) (1.16.0)\n",
      "Requirement already satisfied: asgiref~=3.0 in /home/ec2-user/anaconda3/envs/python3/lib/python3.10/site-packages (from opentelemetry-instrumentation-asgi==0.48b0->opentelemetry-instrumentation-fastapi>=0.41b0->chromadb==0.5.3->avahiplatform) (3.8.1)\n",
      "Requirement already satisfied: monotonic>=1.5 in /home/ec2-user/anaconda3/envs/python3/lib/python3.10/site-packages (from posthog>=2.4.0->chromadb==0.5.3->avahiplatform) (1.6)\n",
      "Requirement already satisfied: backoff>=1.10.0 in /home/ec2-user/anaconda3/envs/python3/lib/python3.10/site-packages (from posthog>=2.4.0->chromadb==0.5.3->avahiplatform) (2.2.1)\n",
      "Requirement already satisfied: annotated-types>=0.6.0 in /home/ec2-user/anaconda3/envs/python3/lib/python3.10/site-packages (from pydantic>=1.9->chromadb==0.5.3->avahiplatform) (0.7.0)\n",
      "Requirement already satisfied: pydantic-core==2.23.3 in /home/ec2-user/anaconda3/envs/python3/lib/python3.10/site-packages (from pydantic>=1.9->chromadb==0.5.3->avahiplatform) (2.23.3)\n",
      "Requirement already satisfied: charset-normalizer<4,>=2 in /home/ec2-user/anaconda3/envs/python3/lib/python3.10/site-packages (from requests>=2.28->chromadb==0.5.3->avahiplatform) (3.3.2)\n",
      "Requirement already satisfied: click>=8.0.0 in /home/ec2-user/anaconda3/envs/python3/lib/python3.10/site-packages (from typer>=0.9.0->chromadb==0.5.3->avahiplatform) (8.1.7)\n",
      "Requirement already satisfied: shellingham>=1.3.0 in /home/ec2-user/anaconda3/envs/python3/lib/python3.10/site-packages (from typer>=0.9.0->chromadb==0.5.3->avahiplatform) (1.5.4)\n",
      "Requirement already satisfied: rich>=10.11.0 in /home/ec2-user/anaconda3/envs/python3/lib/python3.10/site-packages (from typer>=0.9.0->chromadb==0.5.3->avahiplatform) (13.7.1)\n",
      "Requirement already satisfied: httptools>=0.5.0 in /home/ec2-user/anaconda3/envs/python3/lib/python3.10/site-packages (from uvicorn[standard]>=0.18.3->chromadb==0.5.3->avahiplatform) (0.6.1)\n",
      "Requirement already satisfied: python-dotenv>=0.13 in /home/ec2-user/anaconda3/envs/python3/lib/python3.10/site-packages (from uvicorn[standard]>=0.18.3->chromadb==0.5.3->avahiplatform) (1.0.1)\n",
      "Requirement already satisfied: uvloop!=0.15.0,!=0.15.1,>=0.14.0 in /home/ec2-user/anaconda3/envs/python3/lib/python3.10/site-packages (from uvicorn[standard]>=0.18.3->chromadb==0.5.3->avahiplatform) (0.20.0)\n",
      "Requirement already satisfied: watchfiles>=0.13 in /home/ec2-user/anaconda3/envs/python3/lib/python3.10/site-packages (from uvicorn[standard]>=0.18.3->chromadb==0.5.3->avahiplatform) (0.24.0)\n",
      "Requirement already satisfied: cachetools<6.0,>=2.0.0 in /home/ec2-user/anaconda3/envs/python3/lib/python3.10/site-packages (from google-auth>=1.0.1->kubernetes>=28.1.0->chromadb==0.5.3->avahiplatform) (5.5.0)\n",
      "Requirement already satisfied: pyasn1-modules>=0.2.1 in /home/ec2-user/anaconda3/envs/python3/lib/python3.10/site-packages (from google-auth>=1.0.1->kubernetes>=28.1.0->chromadb==0.5.3->avahiplatform) (0.4.1)\n",
      "Requirement already satisfied: rsa<5,>=3.1.4 in /home/ec2-user/anaconda3/envs/python3/lib/python3.10/site-packages (from google-auth>=1.0.1->kubernetes>=28.1.0->chromadb==0.5.3->avahiplatform) (4.7.2)\n",
      "Requirement already satisfied: zipp>=0.5 in /home/ec2-user/anaconda3/envs/python3/lib/python3.10/site-packages (from importlib-metadata<=8.4.0,>=6.0->opentelemetry-api>=1.2.0->chromadb==0.5.3->avahiplatform) (3.19.2)\n",
      "Requirement already satisfied: markdown-it-py>=2.2.0 in /home/ec2-user/anaconda3/envs/python3/lib/python3.10/site-packages (from rich>=10.11.0->typer>=0.9.0->chromadb==0.5.3->avahiplatform) (3.0.0)\n",
      "Requirement already satisfied: pygments<3.0.0,>=2.13.0 in /home/ec2-user/anaconda3/envs/python3/lib/python3.10/site-packages (from rich>=10.11.0->typer>=0.9.0->chromadb==0.5.3->avahiplatform) (2.18.0)\n",
      "Requirement already satisfied: humanfriendly>=9.1 in /home/ec2-user/anaconda3/envs/python3/lib/python3.10/site-packages (from coloredlogs->onnxruntime>=1.14.1->chromadb==0.5.3->avahiplatform) (10.0)\n",
      "Requirement already satisfied: mpmath<1.4,>=1.1.0 in /home/ec2-user/anaconda3/envs/python3/lib/python3.10/site-packages (from sympy->onnxruntime>=1.14.1->chromadb==0.5.3->avahiplatform) (1.3.0)\n",
      "Requirement already satisfied: mdurl~=0.1 in /home/ec2-user/anaconda3/envs/python3/lib/python3.10/site-packages (from markdown-it-py>=2.2.0->rich>=10.11.0->typer>=0.9.0->chromadb==0.5.3->avahiplatform) (0.1.2)\n",
      "Requirement already satisfied: pyasn1<0.7.0,>=0.4.6 in /home/ec2-user/anaconda3/envs/python3/lib/python3.10/site-packages (from pyasn1-modules>=0.2.1->google-auth>=1.0.1->kubernetes>=28.1.0->chromadb==0.5.3->avahiplatform) (0.6.1)\n",
      "Collecting langchain-community\n",
      "  Using cached langchain_community-0.3.1-py3-none-any.whl.metadata (2.8 kB)\n",
      "Requirement already satisfied: PyYAML>=5.3 in /home/ec2-user/anaconda3/envs/python3/lib/python3.10/site-packages (from langchain-community) (6.0.1)\n",
      "Requirement already satisfied: SQLAlchemy<3,>=1.4 in /home/ec2-user/anaconda3/envs/python3/lib/python3.10/site-packages (from langchain-community) (2.0.35)\n",
      "Requirement already satisfied: aiohttp<4.0.0,>=3.8.3 in /home/ec2-user/anaconda3/envs/python3/lib/python3.10/site-packages (from langchain-community) (3.9.5)\n",
      "Collecting dataclasses-json<0.7,>=0.5.7 (from langchain-community)\n",
      "  Using cached dataclasses_json-0.6.7-py3-none-any.whl.metadata (25 kB)\n",
      "Requirement already satisfied: langchain<0.4.0,>=0.3.1 in /home/ec2-user/anaconda3/envs/python3/lib/python3.10/site-packages (from langchain-community) (0.3.2)\n",
      "Requirement already satisfied: langchain-core<0.4.0,>=0.3.6 in /home/ec2-user/anaconda3/envs/python3/lib/python3.10/site-packages (from langchain-community) (0.3.9)\n",
      "Requirement already satisfied: langsmith<0.2.0,>=0.1.125 in /home/ec2-user/anaconda3/envs/python3/lib/python3.10/site-packages (from langchain-community) (0.1.132)\n",
      "Requirement already satisfied: numpy<2,>=1 in /home/ec2-user/anaconda3/envs/python3/lib/python3.10/site-packages (from langchain-community) (1.26.4)\n",
      "Collecting pydantic-settings<3.0.0,>=2.4.0 (from langchain-community)\n",
      "  Using cached pydantic_settings-2.5.2-py3-none-any.whl.metadata (3.5 kB)\n",
      "Requirement already satisfied: requests<3,>=2 in /home/ec2-user/anaconda3/envs/python3/lib/python3.10/site-packages (from langchain-community) (2.32.3)\n",
      "Requirement already satisfied: tenacity!=8.4.0,<9.0.0,>=8.1.0 in /home/ec2-user/anaconda3/envs/python3/lib/python3.10/site-packages (from langchain-community) (8.5.0)\n",
      "Requirement already satisfied: aiosignal>=1.1.2 in /home/ec2-user/anaconda3/envs/python3/lib/python3.10/site-packages (from aiohttp<4.0.0,>=3.8.3->langchain-community) (1.3.1)\n",
      "Requirement already satisfied: attrs>=17.3.0 in /home/ec2-user/anaconda3/envs/python3/lib/python3.10/site-packages (from aiohttp<4.0.0,>=3.8.3->langchain-community) (23.2.0)\n",
      "Requirement already satisfied: frozenlist>=1.1.1 in /home/ec2-user/anaconda3/envs/python3/lib/python3.10/site-packages (from aiohttp<4.0.0,>=3.8.3->langchain-community) (1.4.1)\n",
      "Requirement already satisfied: multidict<7.0,>=4.5 in /home/ec2-user/anaconda3/envs/python3/lib/python3.10/site-packages (from aiohttp<4.0.0,>=3.8.3->langchain-community) (6.0.5)\n",
      "Requirement already satisfied: yarl<2.0,>=1.0 in /home/ec2-user/anaconda3/envs/python3/lib/python3.10/site-packages (from aiohttp<4.0.0,>=3.8.3->langchain-community) (1.9.4)\n",
      "Requirement already satisfied: async-timeout<5.0,>=4.0 in /home/ec2-user/anaconda3/envs/python3/lib/python3.10/site-packages (from aiohttp<4.0.0,>=3.8.3->langchain-community) (4.0.3)\n",
      "Collecting marshmallow<4.0.0,>=3.18.0 (from dataclasses-json<0.7,>=0.5.7->langchain-community)\n",
      "  Using cached marshmallow-3.22.0-py3-none-any.whl.metadata (7.2 kB)\n",
      "Collecting typing-inspect<1,>=0.4.0 (from dataclasses-json<0.7,>=0.5.7->langchain-community)\n",
      "  Using cached typing_inspect-0.9.0-py3-none-any.whl.metadata (1.5 kB)\n",
      "Requirement already satisfied: langchain-text-splitters<0.4.0,>=0.3.0 in /home/ec2-user/anaconda3/envs/python3/lib/python3.10/site-packages (from langchain<0.4.0,>=0.3.1->langchain-community) (0.3.0)\n",
      "Requirement already satisfied: pydantic<3.0.0,>=2.7.4 in /home/ec2-user/anaconda3/envs/python3/lib/python3.10/site-packages (from langchain<0.4.0,>=0.3.1->langchain-community) (2.9.1)\n",
      "Requirement already satisfied: jsonpatch<2.0,>=1.33 in /home/ec2-user/anaconda3/envs/python3/lib/python3.10/site-packages (from langchain-core<0.4.0,>=0.3.6->langchain-community) (1.33)\n",
      "Requirement already satisfied: packaging<25,>=23.2 in /home/ec2-user/anaconda3/envs/python3/lib/python3.10/site-packages (from langchain-core<0.4.0,>=0.3.6->langchain-community) (24.1)\n",
      "Requirement already satisfied: typing-extensions>=4.7 in /home/ec2-user/anaconda3/envs/python3/lib/python3.10/site-packages (from langchain-core<0.4.0,>=0.3.6->langchain-community) (4.12.2)\n",
      "Requirement already satisfied: httpx<1,>=0.23.0 in /home/ec2-user/anaconda3/envs/python3/lib/python3.10/site-packages (from langsmith<0.2.0,>=0.1.125->langchain-community) (0.27.0)\n",
      "Requirement already satisfied: orjson<4.0.0,>=3.9.14 in /home/ec2-user/anaconda3/envs/python3/lib/python3.10/site-packages (from langsmith<0.2.0,>=0.1.125->langchain-community) (3.10.7)\n",
      "Requirement already satisfied: requests-toolbelt<2.0.0,>=1.0.0 in /home/ec2-user/anaconda3/envs/python3/lib/python3.10/site-packages (from langsmith<0.2.0,>=0.1.125->langchain-community) (1.0.0)\n",
      "Requirement already satisfied: python-dotenv>=0.21.0 in /home/ec2-user/anaconda3/envs/python3/lib/python3.10/site-packages (from pydantic-settings<3.0.0,>=2.4.0->langchain-community) (1.0.1)\n",
      "Requirement already satisfied: charset-normalizer<4,>=2 in /home/ec2-user/anaconda3/envs/python3/lib/python3.10/site-packages (from requests<3,>=2->langchain-community) (3.3.2)\n",
      "Requirement already satisfied: idna<4,>=2.5 in /home/ec2-user/anaconda3/envs/python3/lib/python3.10/site-packages (from requests<3,>=2->langchain-community) (3.7)\n",
      "Requirement already satisfied: urllib3<3,>=1.21.1 in /home/ec2-user/anaconda3/envs/python3/lib/python3.10/site-packages (from requests<3,>=2->langchain-community) (2.2.2)\n",
      "Requirement already satisfied: certifi>=2017.4.17 in /home/ec2-user/anaconda3/envs/python3/lib/python3.10/site-packages (from requests<3,>=2->langchain-community) (2024.7.4)\n",
      "Requirement already satisfied: greenlet!=0.4.17 in /home/ec2-user/anaconda3/envs/python3/lib/python3.10/site-packages (from SQLAlchemy<3,>=1.4->langchain-community) (3.0.3)\n",
      "Requirement already satisfied: anyio in /home/ec2-user/anaconda3/envs/python3/lib/python3.10/site-packages (from httpx<1,>=0.23.0->langsmith<0.2.0,>=0.1.125->langchain-community) (4.4.0)\n",
      "Requirement already satisfied: httpcore==1.* in /home/ec2-user/anaconda3/envs/python3/lib/python3.10/site-packages (from httpx<1,>=0.23.0->langsmith<0.2.0,>=0.1.125->langchain-community) (1.0.5)\n",
      "Requirement already satisfied: sniffio in /home/ec2-user/anaconda3/envs/python3/lib/python3.10/site-packages (from httpx<1,>=0.23.0->langsmith<0.2.0,>=0.1.125->langchain-community) (1.3.1)\n",
      "Requirement already satisfied: h11<0.15,>=0.13 in /home/ec2-user/anaconda3/envs/python3/lib/python3.10/site-packages (from httpcore==1.*->httpx<1,>=0.23.0->langsmith<0.2.0,>=0.1.125->langchain-community) (0.14.0)\n",
      "Requirement already satisfied: jsonpointer>=1.9 in /home/ec2-user/anaconda3/envs/python3/lib/python3.10/site-packages (from jsonpatch<2.0,>=1.33->langchain-core<0.4.0,>=0.3.6->langchain-community) (3.0.0)\n",
      "Requirement already satisfied: annotated-types>=0.6.0 in /home/ec2-user/anaconda3/envs/python3/lib/python3.10/site-packages (from pydantic<3.0.0,>=2.7.4->langchain<0.4.0,>=0.3.1->langchain-community) (0.7.0)\n",
      "Requirement already satisfied: pydantic-core==2.23.3 in /home/ec2-user/anaconda3/envs/python3/lib/python3.10/site-packages (from pydantic<3.0.0,>=2.7.4->langchain<0.4.0,>=0.3.1->langchain-community) (2.23.3)\n",
      "Requirement already satisfied: mypy-extensions>=0.3.0 in /home/ec2-user/anaconda3/envs/python3/lib/python3.10/site-packages (from typing-inspect<1,>=0.4.0->dataclasses-json<0.7,>=0.5.7->langchain-community) (1.0.0)\n",
      "Requirement already satisfied: exceptiongroup>=1.0.2 in /home/ec2-user/anaconda3/envs/python3/lib/python3.10/site-packages (from anyio->httpx<1,>=0.23.0->langsmith<0.2.0,>=0.1.125->langchain-community) (1.2.2)\n",
      "Using cached langchain_community-0.3.1-py3-none-any.whl (2.4 MB)\n",
      "Using cached dataclasses_json-0.6.7-py3-none-any.whl (28 kB)\n",
      "Using cached pydantic_settings-2.5.2-py3-none-any.whl (26 kB)\n",
      "Using cached marshmallow-3.22.0-py3-none-any.whl (49 kB)\n",
      "Using cached typing_inspect-0.9.0-py3-none-any.whl (8.8 kB)\n",
      "Installing collected packages: typing-inspect, marshmallow, dataclasses-json, pydantic-settings, langchain-community\n",
      "Successfully installed dataclasses-json-0.6.7 langchain-community-0.3.1 marshmallow-3.22.0 pydantic-settings-2.5.2 typing-inspect-0.9.0\n",
      "Collecting langchain_aws\n",
      "  Downloading langchain_aws-0.2.2-py3-none-any.whl.metadata (3.2 kB)\n",
      "Requirement already satisfied: boto3>=1.34.131 in /home/ec2-user/anaconda3/envs/python3/lib/python3.10/site-packages (from langchain_aws) (1.35.16)\n",
      "Requirement already satisfied: langchain-core<0.4,>=0.3.2 in /home/ec2-user/anaconda3/envs/python3/lib/python3.10/site-packages (from langchain_aws) (0.3.9)\n",
      "Requirement already satisfied: numpy<2,>=1 in /home/ec2-user/anaconda3/envs/python3/lib/python3.10/site-packages (from langchain_aws) (1.26.4)\n",
      "Requirement already satisfied: pydantic<3,>=2 in /home/ec2-user/anaconda3/envs/python3/lib/python3.10/site-packages (from langchain_aws) (2.9.1)\n",
      "Requirement already satisfied: botocore<1.36.0,>=1.35.16 in /home/ec2-user/anaconda3/envs/python3/lib/python3.10/site-packages (from boto3>=1.34.131->langchain_aws) (1.35.16)\n",
      "Requirement already satisfied: jmespath<2.0.0,>=0.7.1 in /home/ec2-user/anaconda3/envs/python3/lib/python3.10/site-packages (from boto3>=1.34.131->langchain_aws) (1.0.1)\n",
      "Requirement already satisfied: s3transfer<0.11.0,>=0.10.0 in /home/ec2-user/anaconda3/envs/python3/lib/python3.10/site-packages (from boto3>=1.34.131->langchain_aws) (0.10.2)\n",
      "Requirement already satisfied: PyYAML>=5.3 in /home/ec2-user/anaconda3/envs/python3/lib/python3.10/site-packages (from langchain-core<0.4,>=0.3.2->langchain_aws) (6.0.1)\n",
      "Requirement already satisfied: jsonpatch<2.0,>=1.33 in /home/ec2-user/anaconda3/envs/python3/lib/python3.10/site-packages (from langchain-core<0.4,>=0.3.2->langchain_aws) (1.33)\n",
      "Requirement already satisfied: langsmith<0.2.0,>=0.1.125 in /home/ec2-user/anaconda3/envs/python3/lib/python3.10/site-packages (from langchain-core<0.4,>=0.3.2->langchain_aws) (0.1.132)\n",
      "Requirement already satisfied: packaging<25,>=23.2 in /home/ec2-user/anaconda3/envs/python3/lib/python3.10/site-packages (from langchain-core<0.4,>=0.3.2->langchain_aws) (24.1)\n",
      "Requirement already satisfied: tenacity!=8.4.0,<9.0.0,>=8.1.0 in /home/ec2-user/anaconda3/envs/python3/lib/python3.10/site-packages (from langchain-core<0.4,>=0.3.2->langchain_aws) (8.5.0)\n",
      "Requirement already satisfied: typing-extensions>=4.7 in /home/ec2-user/anaconda3/envs/python3/lib/python3.10/site-packages (from langchain-core<0.4,>=0.3.2->langchain_aws) (4.12.2)\n",
      "Requirement already satisfied: annotated-types>=0.6.0 in /home/ec2-user/anaconda3/envs/python3/lib/python3.10/site-packages (from pydantic<3,>=2->langchain_aws) (0.7.0)\n",
      "Requirement already satisfied: pydantic-core==2.23.3 in /home/ec2-user/anaconda3/envs/python3/lib/python3.10/site-packages (from pydantic<3,>=2->langchain_aws) (2.23.3)\n",
      "Requirement already satisfied: python-dateutil<3.0.0,>=2.1 in /home/ec2-user/anaconda3/envs/python3/lib/python3.10/site-packages (from botocore<1.36.0,>=1.35.16->boto3>=1.34.131->langchain_aws) (2.9.0)\n",
      "Requirement already satisfied: urllib3!=2.2.0,<3,>=1.25.4 in /home/ec2-user/anaconda3/envs/python3/lib/python3.10/site-packages (from botocore<1.36.0,>=1.35.16->boto3>=1.34.131->langchain_aws) (2.2.2)\n",
      "Requirement already satisfied: jsonpointer>=1.9 in /home/ec2-user/anaconda3/envs/python3/lib/python3.10/site-packages (from jsonpatch<2.0,>=1.33->langchain-core<0.4,>=0.3.2->langchain_aws) (3.0.0)\n",
      "Requirement already satisfied: httpx<1,>=0.23.0 in /home/ec2-user/anaconda3/envs/python3/lib/python3.10/site-packages (from langsmith<0.2.0,>=0.1.125->langchain-core<0.4,>=0.3.2->langchain_aws) (0.27.0)\n",
      "Requirement already satisfied: orjson<4.0.0,>=3.9.14 in /home/ec2-user/anaconda3/envs/python3/lib/python3.10/site-packages (from langsmith<0.2.0,>=0.1.125->langchain-core<0.4,>=0.3.2->langchain_aws) (3.10.7)\n",
      "Requirement already satisfied: requests<3,>=2 in /home/ec2-user/anaconda3/envs/python3/lib/python3.10/site-packages (from langsmith<0.2.0,>=0.1.125->langchain-core<0.4,>=0.3.2->langchain_aws) (2.32.3)\n",
      "Requirement already satisfied: requests-toolbelt<2.0.0,>=1.0.0 in /home/ec2-user/anaconda3/envs/python3/lib/python3.10/site-packages (from langsmith<0.2.0,>=0.1.125->langchain-core<0.4,>=0.3.2->langchain_aws) (1.0.0)\n",
      "Requirement already satisfied: anyio in /home/ec2-user/anaconda3/envs/python3/lib/python3.10/site-packages (from httpx<1,>=0.23.0->langsmith<0.2.0,>=0.1.125->langchain-core<0.4,>=0.3.2->langchain_aws) (4.4.0)\n",
      "Requirement already satisfied: certifi in /home/ec2-user/anaconda3/envs/python3/lib/python3.10/site-packages (from httpx<1,>=0.23.0->langsmith<0.2.0,>=0.1.125->langchain-core<0.4,>=0.3.2->langchain_aws) (2024.7.4)\n",
      "Requirement already satisfied: httpcore==1.* in /home/ec2-user/anaconda3/envs/python3/lib/python3.10/site-packages (from httpx<1,>=0.23.0->langsmith<0.2.0,>=0.1.125->langchain-core<0.4,>=0.3.2->langchain_aws) (1.0.5)\n",
      "Requirement already satisfied: idna in /home/ec2-user/anaconda3/envs/python3/lib/python3.10/site-packages (from httpx<1,>=0.23.0->langsmith<0.2.0,>=0.1.125->langchain-core<0.4,>=0.3.2->langchain_aws) (3.7)\n",
      "Requirement already satisfied: sniffio in /home/ec2-user/anaconda3/envs/python3/lib/python3.10/site-packages (from httpx<1,>=0.23.0->langsmith<0.2.0,>=0.1.125->langchain-core<0.4,>=0.3.2->langchain_aws) (1.3.1)\n",
      "Requirement already satisfied: h11<0.15,>=0.13 in /home/ec2-user/anaconda3/envs/python3/lib/python3.10/site-packages (from httpcore==1.*->httpx<1,>=0.23.0->langsmith<0.2.0,>=0.1.125->langchain-core<0.4,>=0.3.2->langchain_aws) (0.14.0)\n",
      "Requirement already satisfied: six>=1.5 in /home/ec2-user/anaconda3/envs/python3/lib/python3.10/site-packages (from python-dateutil<3.0.0,>=2.1->botocore<1.36.0,>=1.35.16->boto3>=1.34.131->langchain_aws) (1.16.0)\n",
      "Requirement already satisfied: charset-normalizer<4,>=2 in /home/ec2-user/anaconda3/envs/python3/lib/python3.10/site-packages (from requests<3,>=2->langsmith<0.2.0,>=0.1.125->langchain-core<0.4,>=0.3.2->langchain_aws) (3.3.2)\n",
      "Requirement already satisfied: exceptiongroup>=1.0.2 in /home/ec2-user/anaconda3/envs/python3/lib/python3.10/site-packages (from anyio->httpx<1,>=0.23.0->langsmith<0.2.0,>=0.1.125->langchain-core<0.4,>=0.3.2->langchain_aws) (1.2.2)\n",
      "Downloading langchain_aws-0.2.2-py3-none-any.whl (84 kB)\n",
      "\u001b[2K   \u001b[90m━━━━━━━━━━━━━━━━━━━━━━━━━━━━━━━━━━━━━━━━\u001b[0m \u001b[32m84.3/84.3 kB\u001b[0m \u001b[31m11.0 MB/s\u001b[0m eta \u001b[36m0:00:00\u001b[0m\n",
      "\u001b[?25hInstalling collected packages: langchain_aws\n",
      "Successfully installed langchain_aws-0.2.2\n",
      "Collecting langchain_experimental\n",
      "  Using cached langchain_experimental-0.3.2-py3-none-any.whl.metadata (1.7 kB)\n",
      "Requirement already satisfied: langchain-community<0.4.0,>=0.3.0 in /home/ec2-user/anaconda3/envs/python3/lib/python3.10/site-packages (from langchain_experimental) (0.3.1)\n",
      "Requirement already satisfied: langchain-core<0.4.0,>=0.3.6 in /home/ec2-user/anaconda3/envs/python3/lib/python3.10/site-packages (from langchain_experimental) (0.3.9)\n",
      "Requirement already satisfied: PyYAML>=5.3 in /home/ec2-user/anaconda3/envs/python3/lib/python3.10/site-packages (from langchain-community<0.4.0,>=0.3.0->langchain_experimental) (6.0.1)\n",
      "Requirement already satisfied: SQLAlchemy<3,>=1.4 in /home/ec2-user/anaconda3/envs/python3/lib/python3.10/site-packages (from langchain-community<0.4.0,>=0.3.0->langchain_experimental) (2.0.35)\n",
      "Requirement already satisfied: aiohttp<4.0.0,>=3.8.3 in /home/ec2-user/anaconda3/envs/python3/lib/python3.10/site-packages (from langchain-community<0.4.0,>=0.3.0->langchain_experimental) (3.9.5)\n",
      "Requirement already satisfied: dataclasses-json<0.7,>=0.5.7 in /home/ec2-user/anaconda3/envs/python3/lib/python3.10/site-packages (from langchain-community<0.4.0,>=0.3.0->langchain_experimental) (0.6.7)\n",
      "Requirement already satisfied: langchain<0.4.0,>=0.3.1 in /home/ec2-user/anaconda3/envs/python3/lib/python3.10/site-packages (from langchain-community<0.4.0,>=0.3.0->langchain_experimental) (0.3.2)\n",
      "Requirement already satisfied: langsmith<0.2.0,>=0.1.125 in /home/ec2-user/anaconda3/envs/python3/lib/python3.10/site-packages (from langchain-community<0.4.0,>=0.3.0->langchain_experimental) (0.1.132)\n",
      "Requirement already satisfied: numpy<2,>=1 in /home/ec2-user/anaconda3/envs/python3/lib/python3.10/site-packages (from langchain-community<0.4.0,>=0.3.0->langchain_experimental) (1.26.4)\n",
      "Requirement already satisfied: pydantic-settings<3.0.0,>=2.4.0 in /home/ec2-user/anaconda3/envs/python3/lib/python3.10/site-packages (from langchain-community<0.4.0,>=0.3.0->langchain_experimental) (2.5.2)\n",
      "Requirement already satisfied: requests<3,>=2 in /home/ec2-user/anaconda3/envs/python3/lib/python3.10/site-packages (from langchain-community<0.4.0,>=0.3.0->langchain_experimental) (2.32.3)\n",
      "Requirement already satisfied: tenacity!=8.4.0,<9.0.0,>=8.1.0 in /home/ec2-user/anaconda3/envs/python3/lib/python3.10/site-packages (from langchain-community<0.4.0,>=0.3.0->langchain_experimental) (8.5.0)\n",
      "Requirement already satisfied: jsonpatch<2.0,>=1.33 in /home/ec2-user/anaconda3/envs/python3/lib/python3.10/site-packages (from langchain-core<0.4.0,>=0.3.6->langchain_experimental) (1.33)\n",
      "Requirement already satisfied: packaging<25,>=23.2 in /home/ec2-user/anaconda3/envs/python3/lib/python3.10/site-packages (from langchain-core<0.4.0,>=0.3.6->langchain_experimental) (24.1)\n",
      "Requirement already satisfied: pydantic<3.0.0,>=2.5.2 in /home/ec2-user/anaconda3/envs/python3/lib/python3.10/site-packages (from langchain-core<0.4.0,>=0.3.6->langchain_experimental) (2.9.1)\n",
      "Requirement already satisfied: typing-extensions>=4.7 in /home/ec2-user/anaconda3/envs/python3/lib/python3.10/site-packages (from langchain-core<0.4.0,>=0.3.6->langchain_experimental) (4.12.2)\n",
      "Requirement already satisfied: aiosignal>=1.1.2 in /home/ec2-user/anaconda3/envs/python3/lib/python3.10/site-packages (from aiohttp<4.0.0,>=3.8.3->langchain-community<0.4.0,>=0.3.0->langchain_experimental) (1.3.1)\n",
      "Requirement already satisfied: attrs>=17.3.0 in /home/ec2-user/anaconda3/envs/python3/lib/python3.10/site-packages (from aiohttp<4.0.0,>=3.8.3->langchain-community<0.4.0,>=0.3.0->langchain_experimental) (23.2.0)\n",
      "Requirement already satisfied: frozenlist>=1.1.1 in /home/ec2-user/anaconda3/envs/python3/lib/python3.10/site-packages (from aiohttp<4.0.0,>=3.8.3->langchain-community<0.4.0,>=0.3.0->langchain_experimental) (1.4.1)\n",
      "Requirement already satisfied: multidict<7.0,>=4.5 in /home/ec2-user/anaconda3/envs/python3/lib/python3.10/site-packages (from aiohttp<4.0.0,>=3.8.3->langchain-community<0.4.0,>=0.3.0->langchain_experimental) (6.0.5)\n",
      "Requirement already satisfied: yarl<2.0,>=1.0 in /home/ec2-user/anaconda3/envs/python3/lib/python3.10/site-packages (from aiohttp<4.0.0,>=3.8.3->langchain-community<0.4.0,>=0.3.0->langchain_experimental) (1.9.4)\n",
      "Requirement already satisfied: async-timeout<5.0,>=4.0 in /home/ec2-user/anaconda3/envs/python3/lib/python3.10/site-packages (from aiohttp<4.0.0,>=3.8.3->langchain-community<0.4.0,>=0.3.0->langchain_experimental) (4.0.3)\n",
      "Requirement already satisfied: marshmallow<4.0.0,>=3.18.0 in /home/ec2-user/anaconda3/envs/python3/lib/python3.10/site-packages (from dataclasses-json<0.7,>=0.5.7->langchain-community<0.4.0,>=0.3.0->langchain_experimental) (3.22.0)\n",
      "Requirement already satisfied: typing-inspect<1,>=0.4.0 in /home/ec2-user/anaconda3/envs/python3/lib/python3.10/site-packages (from dataclasses-json<0.7,>=0.5.7->langchain-community<0.4.0,>=0.3.0->langchain_experimental) (0.9.0)\n",
      "Requirement already satisfied: jsonpointer>=1.9 in /home/ec2-user/anaconda3/envs/python3/lib/python3.10/site-packages (from jsonpatch<2.0,>=1.33->langchain-core<0.4.0,>=0.3.6->langchain_experimental) (3.0.0)\n",
      "Requirement already satisfied: langchain-text-splitters<0.4.0,>=0.3.0 in /home/ec2-user/anaconda3/envs/python3/lib/python3.10/site-packages (from langchain<0.4.0,>=0.3.1->langchain-community<0.4.0,>=0.3.0->langchain_experimental) (0.3.0)\n",
      "Requirement already satisfied: httpx<1,>=0.23.0 in /home/ec2-user/anaconda3/envs/python3/lib/python3.10/site-packages (from langsmith<0.2.0,>=0.1.125->langchain-community<0.4.0,>=0.3.0->langchain_experimental) (0.27.0)\n",
      "Requirement already satisfied: orjson<4.0.0,>=3.9.14 in /home/ec2-user/anaconda3/envs/python3/lib/python3.10/site-packages (from langsmith<0.2.0,>=0.1.125->langchain-community<0.4.0,>=0.3.0->langchain_experimental) (3.10.7)\n",
      "Requirement already satisfied: requests-toolbelt<2.0.0,>=1.0.0 in /home/ec2-user/anaconda3/envs/python3/lib/python3.10/site-packages (from langsmith<0.2.0,>=0.1.125->langchain-community<0.4.0,>=0.3.0->langchain_experimental) (1.0.0)\n",
      "Requirement already satisfied: annotated-types>=0.6.0 in /home/ec2-user/anaconda3/envs/python3/lib/python3.10/site-packages (from pydantic<3.0.0,>=2.5.2->langchain-core<0.4.0,>=0.3.6->langchain_experimental) (0.7.0)\n",
      "Requirement already satisfied: pydantic-core==2.23.3 in /home/ec2-user/anaconda3/envs/python3/lib/python3.10/site-packages (from pydantic<3.0.0,>=2.5.2->langchain-core<0.4.0,>=0.3.6->langchain_experimental) (2.23.3)\n",
      "Requirement already satisfied: python-dotenv>=0.21.0 in /home/ec2-user/anaconda3/envs/python3/lib/python3.10/site-packages (from pydantic-settings<3.0.0,>=2.4.0->langchain-community<0.4.0,>=0.3.0->langchain_experimental) (1.0.1)\n",
      "Requirement already satisfied: charset-normalizer<4,>=2 in /home/ec2-user/anaconda3/envs/python3/lib/python3.10/site-packages (from requests<3,>=2->langchain-community<0.4.0,>=0.3.0->langchain_experimental) (3.3.2)\n",
      "Requirement already satisfied: idna<4,>=2.5 in /home/ec2-user/anaconda3/envs/python3/lib/python3.10/site-packages (from requests<3,>=2->langchain-community<0.4.0,>=0.3.0->langchain_experimental) (3.7)\n",
      "Requirement already satisfied: urllib3<3,>=1.21.1 in /home/ec2-user/anaconda3/envs/python3/lib/python3.10/site-packages (from requests<3,>=2->langchain-community<0.4.0,>=0.3.0->langchain_experimental) (2.2.2)\n",
      "Requirement already satisfied: certifi>=2017.4.17 in /home/ec2-user/anaconda3/envs/python3/lib/python3.10/site-packages (from requests<3,>=2->langchain-community<0.4.0,>=0.3.0->langchain_experimental) (2024.7.4)\n",
      "Requirement already satisfied: greenlet!=0.4.17 in /home/ec2-user/anaconda3/envs/python3/lib/python3.10/site-packages (from SQLAlchemy<3,>=1.4->langchain-community<0.4.0,>=0.3.0->langchain_experimental) (3.0.3)\n",
      "Requirement already satisfied: anyio in /home/ec2-user/anaconda3/envs/python3/lib/python3.10/site-packages (from httpx<1,>=0.23.0->langsmith<0.2.0,>=0.1.125->langchain-community<0.4.0,>=0.3.0->langchain_experimental) (4.4.0)\n",
      "Requirement already satisfied: httpcore==1.* in /home/ec2-user/anaconda3/envs/python3/lib/python3.10/site-packages (from httpx<1,>=0.23.0->langsmith<0.2.0,>=0.1.125->langchain-community<0.4.0,>=0.3.0->langchain_experimental) (1.0.5)\n",
      "Requirement already satisfied: sniffio in /home/ec2-user/anaconda3/envs/python3/lib/python3.10/site-packages (from httpx<1,>=0.23.0->langsmith<0.2.0,>=0.1.125->langchain-community<0.4.0,>=0.3.0->langchain_experimental) (1.3.1)\n",
      "Requirement already satisfied: h11<0.15,>=0.13 in /home/ec2-user/anaconda3/envs/python3/lib/python3.10/site-packages (from httpcore==1.*->httpx<1,>=0.23.0->langsmith<0.2.0,>=0.1.125->langchain-community<0.4.0,>=0.3.0->langchain_experimental) (0.14.0)\n",
      "Requirement already satisfied: mypy-extensions>=0.3.0 in /home/ec2-user/anaconda3/envs/python3/lib/python3.10/site-packages (from typing-inspect<1,>=0.4.0->dataclasses-json<0.7,>=0.5.7->langchain-community<0.4.0,>=0.3.0->langchain_experimental) (1.0.0)\n",
      "Requirement already satisfied: exceptiongroup>=1.0.2 in /home/ec2-user/anaconda3/envs/python3/lib/python3.10/site-packages (from anyio->httpx<1,>=0.23.0->langsmith<0.2.0,>=0.1.125->langchain-community<0.4.0,>=0.3.0->langchain_experimental) (1.2.2)\n",
      "Using cached langchain_experimental-0.3.2-py3-none-any.whl (208 kB)\n",
      "Installing collected packages: langchain_experimental\n",
      "Successfully installed langchain_experimental-0.3.2\n"
     ]
    }
   ],
   "source": [
    "!pip install -U langchain\n",
    "!pip install avahiplatform -U\n",
    "!pip install -U langchain-community\n",
    "!pip install langchain_aws\n",
    "!pip install langchain_experimental"
   ]
  },
  {
   "cell_type": "code",
   "execution_count": 2,
   "id": "ac38d872-2184-4448-9ccf-842442c1e725",
   "metadata": {
    "tags": []
   },
   "outputs": [],
   "source": [
    "from langchain_aws import ChatBedrock\n",
    "from langchain_experimental.agents.agent_toolkits import create_pandas_dataframe_agent\n",
    "import time\n",
    "import avahiplatform\n",
    "import pandas as pd\n",
    "from langchain.agents import create_sql_agent\n",
    "from langchain.agents.agent_types import AgentType\n",
    "from langchain.sql_database import SQLDatabase\n",
    "from langchain_community.agent_toolkits import SQLDatabaseToolkit\n",
    "from dotenv import load_dotenv\n",
    "import os"
   ]
  },
  {
   "cell_type": "code",
   "execution_count": 3,
   "id": "4792d76c-7eda-4251-918d-88ce0e3a64ae",
   "metadata": {
    "tags": []
   },
   "outputs": [
    {
     "data": {
      "text/plain": [
       "True"
      ]
     },
     "execution_count": 3,
     "metadata": {},
     "output_type": "execute_result"
    }
   ],
   "source": [
    "load_dotenv(\"sdk.env\")"
   ]
  },
  {
   "cell_type": "code",
   "execution_count": 5,
   "id": "7ad8a8b9-423b-4724-ba2b-444646ee1548",
   "metadata": {
    "tags": []
   },
   "outputs": [],
   "source": [
    "article_1 = \"\"\"\"**Apple Camp returns with free sessions for kids aged 6 to 10 years old**\n",
    "*By Rich Demuro*\n",
    "*(KTLA) -- Apple Camp is back in session, offering free workshops at Apple stores across the country. The theme this year: Exploring new worlds and telling stories inspired by kindness.*\n",
    "*\"\"It taught me how to do stuff that I never knew how to do,\"\" said Grace Kinsera, an Apple Creative Pro.*\n",
    "*The free, 90-minute sessions are designed for children ages 6 to 10 years old. They're held throughout the summer.*\n",
    "*This particular session focuses on using the iPad to create an interactive storybook.*\n",
    "*\"\"They're creating animations, they're adding AR shapes, 3D shapes, taking AR photos where they place the 3D shapes in the world around them,\"\" said Kinsera.*\n",
    "*Kids learn new skills on familiar devices, and sometimes parents do too.*\n",
    "*\"\"I'm watching some stuff now that I was like, 'I didn't know that my iPad could do that,'\"\" said Mili Patel, a parent.*\n",
    "*There are bigger lessons as well.*\n",
    "*The apple company is located in California and Mumbai and Pune.*\n",
    "*\"\"There's always room for more kindness, and to get these kids thinking about it in a thoughtful, creative way early on is wonderful,\"\" said Kinsera.*\n",
    "*Apple Camp is part of a larger initiative called Today at Apple, which offers free, hands-on sessions that teach valuable skills and hidden tricks.*\n",
    "*\"\"We all want our kids to learn about technology, but in a safe way. This is a great opportunity for them to do that,\"\" said Patel.*\n",
    "*Sign-up is open now. Sessions run through the end of July. All campers get a free T-shirt, too!*\n",
    "*My name is John and my mail id is johnwick009@gmail.com*. I live in 132, My Street, Kingston, New York 12401, America. My phone number is 98989898987. And my Social security number is AAA-GG-SSSS.\n",
    "*To sign up, visit apple.com/today.*\n",
    "*Copyright 2023 Nexstar Media Inc. All rights reserved. This material may not be published, broadcast, rewritten, or redistributed.*\"\n",
    "\"\"\"\n",
    "\n",
    "article_2 = \"\"\"\n",
    "Understanding Cybersecurity Threats in 2024\n",
    "Cybersecurity has become a paramount concern for businesses globally. As hackers grow more sophisticated, the need for robust cybersecurity strategies is essential. John Doe, an IT specialist at SecureNet Solutions, commented on the evolving nature of threats, stating, \"We're seeing more targeted attacks than ever before.\" His email, john.doe@securenetsolutions.com, is often flooded with phishing attempts that mimic legitimate business communications. One such attack targeted the financial department, requesting sensitive details such as Jane Smith's social security number (SSN: 123-45-6789). These fraudulent emails have become increasingly difficult to detect.\n",
    "\n",
    "In 2023 alone, it was estimated that over 80% of companies experienced some form of cyberattack. The CEO of CyberTech Corp, Michael Thompson, mentioned in a recent interview that \"organizations must invest in advanced encryption technologies to safeguard their data.\" Michael can be reached for further insights at michael.thompson@cybertech.com. With a growing number of ransomware cases, protecting sensitive data like social security numbers, banking information, and personal identification has never been more critical.\n",
    "\"\"\"\n",
    "\n",
    "article_3 = \"\"\"\n",
    "The Role of Artificial Intelligence in Healthcare\n",
    "Artificial Intelligence (AI) is revolutionizing the healthcare industry, from diagnostics to patient care. Dr. Sarah Lee, a leading AI researcher at MediTech Innovations, has been instrumental in developing AI tools that help doctors make faster, more accurate diagnoses. \"AI has the potential to change the way we treat diseases like cancer,\" she said in a recent webinar. Sarah’s contact, sarah.lee@meditechinnovations.com, is available for further inquiries about the project.\n",
    "\n",
    "An exciting development from MediTech is a new AI-powered tool that can analyze medical records and flag potential health risks. This tool has helped Robert Miller, a patient who had an undiagnosed heart condition, receive timely treatment. \"If it wasn't for this technology, I wouldn't be here today,\" Robert mentioned. His patient ID (Patient ID: RM2023H567) was flagged during a routine check-up. Privacy and patient confidentiality remain a top priority, with all sensitive data encrypted and stored securely.\n",
    "\"\"\"\n",
    "\n",
    "article_4 = \"\"\"\n",
    "The Growing Importance of Data Privacy\n",
    "Data privacy has become one of the most critical issues in the digital age. With the introduction of stricter regulations like the General Data Protection Regulation (GDPR), companies are under increasing pressure to protect user information. Anna Roberts, a data privacy consultant at SecureData Solutions, noted that \"businesses must be transparent about how they handle customer data.\" For more information, Anna can be reached at anna.roberts@securedata.com.\n",
    "\n",
    "One case involved client ID 1459, where a data breach led to the exposure of David Harris's personal information, including his credit card number (CC: 1234 5678 9012 3456). The breach highlighted the vulnerabilities in data storage systems and the need for regular security audits. David's situation is not unique, as over 5 million records were compromised last year in similar attacks.\n",
    "\"\"\"\n",
    "\n",
    "article_5 = \"\"\"\n",
    "The Future of Electric Vehicles (EVs)\n",
    "As the world moves towards sustainability, electric vehicles (EVs) are becoming more popular. Tom Jenkins, an automotive engineer at GreenDrive Motors, shared his thoughts on the future of EVs, stating, \"We are on the brink of a transportation revolution.\" You can contact Tom at tom.jenkins@greendrive.com for more details on their upcoming projects.\n",
    "\n",
    "One recent buyer, Emily Parker, registered her vehicle under Vehicle Registration Number: EV456789. She commented, \"Switching to an electric vehicle has been a game-changer for me.\" Emily's experience highlights the growing consumer demand for eco-friendly transportation options. However, the industry still faces challenges such as battery longevity and charging infrastructure.\n",
    "\"\"\"\n",
    "\n",
    "article_6 = \"\"\"\n",
    "The Evolution of E-commerce\n",
    "E-commerce has transformed the way we shop, especially in the post-pandemic era. Mark Wilson, the CEO of ShopEase, a popular online marketplace, noted that \"e-commerce will continue to grow as more consumers embrace online shopping.\" Mark can be contacted for media inquiries at mark.wilson@shopease.com.\n",
    "\n",
    "One of ShopEase’s regular customers, Customer ID: 456123, Lily Watson, recently shared her experience shopping online: \"It's convenient, but there are still concerns about data security.\" Lily had a scare when a phishing email requested her billing information, falsely claiming it was from ShopEase. These incidents have raised awareness about online fraud and the importance of secure payment systems.\n",
    "\"\"\"\n",
    "\n",
    "article_7 = \"\"\"\n",
    "The Benefits of Cloud Computing\n",
    "Cloud computing is becoming the backbone of modern IT infrastructures. Chris Evans, a cloud solutions architect at CloudSync, said, \"The cloud has revolutionized the way businesses store and access data.\" Chris can be contacted at chris.evans@cloudsync.com for more insights on cloud migration strategies.\n",
    "\n",
    "Recently, Project ID CS7890, led by Amy Johnson, moved their entire IT infrastructure to the cloud, saving them significant costs. \"We were initially concerned about data security,\" said Amy, \"but after implementing encryption and multi-factor authentication, we feel more secure than ever.\" Amy's team ensured that sensitive customer data, including John Peterson's personal records (SSN: 987-65-4321), were securely stored on encrypted cloud servers.\n",
    "\"\"\"\n",
    "\n",
    "article_8 = \"\"\"\n",
    "The Rise of Cryptocurrency\n",
    "Cryptocurrency continues to gain momentum as an alternative financial system. Daniel Carter, a blockchain developer at CryptoBase, noted, \"We are seeing more mainstream adoption of cryptocurrencies like Bitcoin and Ethereum.\" Daniel can be reached at daniel.carter@cryptobase.com for more insights.\n",
    "\n",
    "Recently, CryptoWallet ID: BTC987654, owned by Rachel Adams, saw a significant increase in value. Rachel shared, \"Investing in cryptocurrency has been both exciting and nerve-wracking. The volatility is real, but the potential returns are worth it.\" As more people like Rachel invest in cryptocurrencies, ensuring the security of digital wallets and transactions remains a top priority.\n",
    "\"\"\"\n",
    "\n",
    "article_9 = \"\"\"\n",
    "Advancements in Renewable Energy\n",
    "The renewable energy sector is seeing unprecedented growth, with innovations in solar, wind, and geothermal energy. Laura King, a renewable energy specialist at EcoPower Solutions, explained, \"We are on the verge of a green energy revolution.\" Laura’s contact, laura.king@ecopowersolutions.com, is available for any renewable energy-related queries.\n",
    "\n",
    "EcoPower recently installed a solar energy system for Client ID: SOL12345, George Williams, who commented, \"Switching to solar energy has reduced my electricity bills by 60%.\" George's installation is part of a larger trend of individuals and businesses adopting clean energy solutions to reduce their carbon footprint.\n",
    "\"\"\"\n",
    "\n",
    "article_10 = \"\"\"\n",
    "The Future of Smart Homes\n",
    "Smart homes are no longer a futuristic concept; they are becoming a reality. James Turner, a smart home technology consultant at HomeTech Innovations, believes that \"the integration of smart devices will redefine the way we live.\" James is reachable at james.turner@hometech.com for inquiries on smart home installations.\n",
    "\n",
    "Susan Brooks, who recently installed a complete smart home system under HomeTech ID: HT99876, mentioned, \"It’s incredible how much control I have over my home—from security to lighting, all from my phone.\" Susan’s home is now equipped with the latest in smart security systems, ensuring that her sensitive personal data, including her home address (123 Main St., Anytown, USA), remains protected with top-tier encryption.\n",
    "\"\"\""
   ]
  },
  {
   "cell_type": "code",
   "execution_count": 7,
   "id": "13eba3bc-729e-44e6-8b56-09c6b23e3165",
   "metadata": {
    "tags": []
   },
   "outputs": [],
   "source": [
    "all_articles_list = [article_1, article_2, article_3, article_4, article_5,\n",
    "                     article_6, article_7, article_8, article_9, article_10]"
   ]
  },
  {
   "cell_type": "markdown",
   "id": "0e2acc8b-80ef-450c-9319-751ca18cc475",
   "metadata": {},
   "source": [
    "# Summarization"
   ]
  },
  {
   "cell_type": "code",
   "execution_count": 9,
   "id": "56f3e0f8-875c-4160-b699-acc69931104b",
   "metadata": {
    "tags": []
   },
   "outputs": [
    {
     "name": "stdout",
     "output_type": "stream",
     "text": [
      "5.795977210998535\n",
      "Total time taken by langchain-aws for 10 articles: 57.95977210998535\n",
      "Avaerage time taken by langchain-aws for 10 articles: 5.795977210998535\n"
     ]
    }
   ],
   "source": [
    "total_time = 0\n",
    "all_response_list = []\n",
    "\n",
    "for text in all_articles_list:\n",
    "    start_time = time.time()\n",
    "    model_kwargs_claude = {\"temperature\": 0, \"top_p\": 0.2, \"max_tokens\": 1000}\n",
    "    llm = ChatBedrock(model_id=\"anthropic.claude-3-sonnet-20240229-v1:0\", model_kwargs=model_kwargs_claude)\n",
    "    prompt = f\"\"\"Please summarize the following text: {text}\"\"\"\n",
    "    response = llm.invoke(prompt)\n",
    "    all_response_list.append(response)\n",
    "    time_taken = time.time() - start_time\n",
    "    total_time += time_taken\n",
    "    # print(response)\n",
    "average_time = total_time / len(all_articles_list)\n",
    "\n",
    "print(f\"Total time taken by langchain-aws for 10 articles: {total_time}\")\n",
    "print(f\"Avaerage time taken by langchain-aws for 10 articles: {average_time}\")"
   ]
  },
  {
   "cell_type": "code",
   "execution_count": 11,
   "id": "f9c8ef1f-a1aa-4348-9559-42835e22196b",
   "metadata": {
    "tags": []
   },
   "outputs": [
    {
     "name": "stderr",
     "output_type": "stream",
     "text": [
      "\u001b[32m2024-10-08 10:44:24.790\u001b[0m | \u001b[1mINFO    \u001b[0m | \u001b[36mavahiplatform.summarizer\u001b[0m:\u001b[36m_get_bedrock_client\u001b[0m:\u001b[36m31\u001b[0m - \u001b[1mNo explicit credentials provided. Attempting to use default credentials.\u001b[0m\n",
      "\u001b[32m2024-10-08 10:44:24.798\u001b[0m | \u001b[1mINFO    \u001b[0m | \u001b[36mavahiplatform.summarizer\u001b[0m:\u001b[36m_get_model_details\u001b[0m:\u001b[36m112\u001b[0m - \u001b[1mUsing model: anthropic.claude-3-sonnet-20240229-v1:0\u001b[0m\n",
      "\u001b[32m2024-10-08 10:44:24.799\u001b[0m | \u001b[1mINFO    \u001b[0m | \u001b[36mavahiplatform.summarizer\u001b[0m:\u001b[36mmodel_invoke\u001b[0m:\u001b[36m62\u001b[0m - \u001b[1mInvoking model to summarize content.\u001b[0m\n",
      "\u001b[32m2024-10-08 10:44:33.374\u001b[0m | \u001b[1mINFO    \u001b[0m | \u001b[36mavahiplatform.summarizer\u001b[0m:\u001b[36mmodel_invoke\u001b[0m:\u001b[36m80\u001b[0m - \u001b[1mModel invocation successful. Total cost: $0.004548\u001b[0m\n",
      "\u001b[32m2024-10-08 10:44:33.382\u001b[0m | \u001b[1mINFO    \u001b[0m | \u001b[36mavahiplatform.summarizer\u001b[0m:\u001b[36m_get_bedrock_client\u001b[0m:\u001b[36m31\u001b[0m - \u001b[1mNo explicit credentials provided. Attempting to use default credentials.\u001b[0m\n",
      "\u001b[32m2024-10-08 10:44:33.387\u001b[0m | \u001b[1mINFO    \u001b[0m | \u001b[36mavahiplatform.summarizer\u001b[0m:\u001b[36m_get_model_details\u001b[0m:\u001b[36m112\u001b[0m - \u001b[1mUsing model: anthropic.claude-3-sonnet-20240229-v1:0\u001b[0m\n",
      "\u001b[32m2024-10-08 10:44:33.389\u001b[0m | \u001b[1mINFO    \u001b[0m | \u001b[36mavahiplatform.summarizer\u001b[0m:\u001b[36mmodel_invoke\u001b[0m:\u001b[36m62\u001b[0m - \u001b[1mInvoking model to summarize content.\u001b[0m\n",
      "\u001b[32m2024-10-08 10:44:42.646\u001b[0m | \u001b[1mINFO    \u001b[0m | \u001b[36mavahiplatform.summarizer\u001b[0m:\u001b[36mmodel_invoke\u001b[0m:\u001b[36m80\u001b[0m - \u001b[1mModel invocation successful. Total cost: $0.003462\u001b[0m\n",
      "\u001b[32m2024-10-08 10:44:42.652\u001b[0m | \u001b[1mINFO    \u001b[0m | \u001b[36mavahiplatform.summarizer\u001b[0m:\u001b[36m_get_bedrock_client\u001b[0m:\u001b[36m31\u001b[0m - \u001b[1mNo explicit credentials provided. Attempting to use default credentials.\u001b[0m\n",
      "\u001b[32m2024-10-08 10:44:42.670\u001b[0m | \u001b[1mINFO    \u001b[0m | \u001b[36mavahiplatform.summarizer\u001b[0m:\u001b[36m_get_model_details\u001b[0m:\u001b[36m112\u001b[0m - \u001b[1mUsing model: anthropic.claude-3-sonnet-20240229-v1:0\u001b[0m\n",
      "\u001b[32m2024-10-08 10:44:42.673\u001b[0m | \u001b[1mINFO    \u001b[0m | \u001b[36mavahiplatform.summarizer\u001b[0m:\u001b[36mmodel_invoke\u001b[0m:\u001b[36m62\u001b[0m - \u001b[1mInvoking model to summarize content.\u001b[0m\n",
      "\u001b[32m2024-10-08 10:44:50.804\u001b[0m | \u001b[1mINFO    \u001b[0m | \u001b[36mavahiplatform.summarizer\u001b[0m:\u001b[36mmodel_invoke\u001b[0m:\u001b[36m80\u001b[0m - \u001b[1mModel invocation successful. Total cost: $0.003903\u001b[0m\n",
      "\u001b[32m2024-10-08 10:44:50.812\u001b[0m | \u001b[1mINFO    \u001b[0m | \u001b[36mavahiplatform.summarizer\u001b[0m:\u001b[36m_get_bedrock_client\u001b[0m:\u001b[36m31\u001b[0m - \u001b[1mNo explicit credentials provided. Attempting to use default credentials.\u001b[0m\n",
      "\u001b[32m2024-10-08 10:44:50.821\u001b[0m | \u001b[1mINFO    \u001b[0m | \u001b[36mavahiplatform.summarizer\u001b[0m:\u001b[36m_get_model_details\u001b[0m:\u001b[36m112\u001b[0m - \u001b[1mUsing model: anthropic.claude-3-sonnet-20240229-v1:0\u001b[0m\n",
      "\u001b[32m2024-10-08 10:44:50.824\u001b[0m | \u001b[1mINFO    \u001b[0m | \u001b[36mavahiplatform.summarizer\u001b[0m:\u001b[36mmodel_invoke\u001b[0m:\u001b[36m62\u001b[0m - \u001b[1mInvoking model to summarize content.\u001b[0m\n",
      "\u001b[32m2024-10-08 10:44:54.446\u001b[0m | \u001b[1mINFO    \u001b[0m | \u001b[36mavahiplatform.summarizer\u001b[0m:\u001b[36mmodel_invoke\u001b[0m:\u001b[36m80\u001b[0m - \u001b[1mModel invocation successful. Total cost: $0.002736\u001b[0m\n",
      "\u001b[32m2024-10-08 10:44:54.452\u001b[0m | \u001b[1mINFO    \u001b[0m | \u001b[36mavahiplatform.summarizer\u001b[0m:\u001b[36m_get_bedrock_client\u001b[0m:\u001b[36m31\u001b[0m - \u001b[1mNo explicit credentials provided. Attempting to use default credentials.\u001b[0m\n",
      "\u001b[32m2024-10-08 10:44:54.458\u001b[0m | \u001b[1mINFO    \u001b[0m | \u001b[36mavahiplatform.summarizer\u001b[0m:\u001b[36m_get_model_details\u001b[0m:\u001b[36m112\u001b[0m - \u001b[1mUsing model: anthropic.claude-3-sonnet-20240229-v1:0\u001b[0m\n",
      "\u001b[32m2024-10-08 10:44:54.460\u001b[0m | \u001b[1mINFO    \u001b[0m | \u001b[36mavahiplatform.summarizer\u001b[0m:\u001b[36mmodel_invoke\u001b[0m:\u001b[36m62\u001b[0m - \u001b[1mInvoking model to summarize content.\u001b[0m\n",
      "\u001b[32m2024-10-08 10:44:59.239\u001b[0m | \u001b[1mINFO    \u001b[0m | \u001b[36mavahiplatform.summarizer\u001b[0m:\u001b[36mmodel_invoke\u001b[0m:\u001b[36m80\u001b[0m - \u001b[1mModel invocation successful. Total cost: $0.002886\u001b[0m\n",
      "\u001b[32m2024-10-08 10:44:59.244\u001b[0m | \u001b[1mINFO    \u001b[0m | \u001b[36mavahiplatform.summarizer\u001b[0m:\u001b[36m_get_bedrock_client\u001b[0m:\u001b[36m31\u001b[0m - \u001b[1mNo explicit credentials provided. Attempting to use default credentials.\u001b[0m\n",
      "\u001b[32m2024-10-08 10:44:59.249\u001b[0m | \u001b[1mINFO    \u001b[0m | \u001b[36mavahiplatform.summarizer\u001b[0m:\u001b[36m_get_model_details\u001b[0m:\u001b[36m112\u001b[0m - \u001b[1mUsing model: anthropic.claude-3-sonnet-20240229-v1:0\u001b[0m\n",
      "\u001b[32m2024-10-08 10:44:59.250\u001b[0m | \u001b[1mINFO    \u001b[0m | \u001b[36mavahiplatform.summarizer\u001b[0m:\u001b[36mmodel_invoke\u001b[0m:\u001b[36m62\u001b[0m - \u001b[1mInvoking model to summarize content.\u001b[0m\n",
      "\u001b[32m2024-10-08 10:45:03.275\u001b[0m | \u001b[1mINFO    \u001b[0m | \u001b[36mavahiplatform.summarizer\u001b[0m:\u001b[36mmodel_invoke\u001b[0m:\u001b[36m80\u001b[0m - \u001b[1mModel invocation successful. Total cost: $0.002349\u001b[0m\n",
      "\u001b[32m2024-10-08 10:45:03.278\u001b[0m | \u001b[1mINFO    \u001b[0m | \u001b[36mavahiplatform.summarizer\u001b[0m:\u001b[36m_get_bedrock_client\u001b[0m:\u001b[36m31\u001b[0m - \u001b[1mNo explicit credentials provided. Attempting to use default credentials.\u001b[0m\n",
      "\u001b[32m2024-10-08 10:45:03.283\u001b[0m | \u001b[1mINFO    \u001b[0m | \u001b[36mavahiplatform.summarizer\u001b[0m:\u001b[36m_get_model_details\u001b[0m:\u001b[36m112\u001b[0m - \u001b[1mUsing model: anthropic.claude-3-sonnet-20240229-v1:0\u001b[0m\n",
      "\u001b[32m2024-10-08 10:45:03.285\u001b[0m | \u001b[1mINFO    \u001b[0m | \u001b[36mavahiplatform.summarizer\u001b[0m:\u001b[36mmodel_invoke\u001b[0m:\u001b[36m62\u001b[0m - \u001b[1mInvoking model to summarize content.\u001b[0m\n",
      "\u001b[32m2024-10-08 10:45:09.326\u001b[0m | \u001b[1mINFO    \u001b[0m | \u001b[36mavahiplatform.summarizer\u001b[0m:\u001b[36mmodel_invoke\u001b[0m:\u001b[36m80\u001b[0m - \u001b[1mModel invocation successful. Total cost: $0.002997\u001b[0m\n",
      "\u001b[32m2024-10-08 10:45:09.331\u001b[0m | \u001b[1mINFO    \u001b[0m | \u001b[36mavahiplatform.summarizer\u001b[0m:\u001b[36m_get_bedrock_client\u001b[0m:\u001b[36m31\u001b[0m - \u001b[1mNo explicit credentials provided. Attempting to use default credentials.\u001b[0m\n",
      "\u001b[32m2024-10-08 10:45:09.340\u001b[0m | \u001b[1mINFO    \u001b[0m | \u001b[36mavahiplatform.summarizer\u001b[0m:\u001b[36m_get_model_details\u001b[0m:\u001b[36m112\u001b[0m - \u001b[1mUsing model: anthropic.claude-3-sonnet-20240229-v1:0\u001b[0m\n",
      "\u001b[32m2024-10-08 10:45:09.344\u001b[0m | \u001b[1mINFO    \u001b[0m | \u001b[36mavahiplatform.summarizer\u001b[0m:\u001b[36mmodel_invoke\u001b[0m:\u001b[36m62\u001b[0m - \u001b[1mInvoking model to summarize content.\u001b[0m\n",
      "\u001b[32m2024-10-08 10:45:14.364\u001b[0m | \u001b[1mINFO    \u001b[0m | \u001b[36mavahiplatform.summarizer\u001b[0m:\u001b[36mmodel_invoke\u001b[0m:\u001b[36m80\u001b[0m - \u001b[1mModel invocation successful. Total cost: $0.002841\u001b[0m\n",
      "\u001b[32m2024-10-08 10:45:14.368\u001b[0m | \u001b[1mINFO    \u001b[0m | \u001b[36mavahiplatform.summarizer\u001b[0m:\u001b[36m_get_bedrock_client\u001b[0m:\u001b[36m31\u001b[0m - \u001b[1mNo explicit credentials provided. Attempting to use default credentials.\u001b[0m\n",
      "\u001b[32m2024-10-08 10:45:14.393\u001b[0m | \u001b[1mINFO    \u001b[0m | \u001b[36mavahiplatform.summarizer\u001b[0m:\u001b[36m_get_model_details\u001b[0m:\u001b[36m112\u001b[0m - \u001b[1mUsing model: anthropic.claude-3-sonnet-20240229-v1:0\u001b[0m\n",
      "\u001b[32m2024-10-08 10:45:14.395\u001b[0m | \u001b[1mINFO    \u001b[0m | \u001b[36mavahiplatform.summarizer\u001b[0m:\u001b[36mmodel_invoke\u001b[0m:\u001b[36m62\u001b[0m - \u001b[1mInvoking model to summarize content.\u001b[0m\n",
      "\u001b[32m2024-10-08 10:45:22.144\u001b[0m | \u001b[1mINFO    \u001b[0m | \u001b[36mavahiplatform.summarizer\u001b[0m:\u001b[36mmodel_invoke\u001b[0m:\u001b[36m80\u001b[0m - \u001b[1mModel invocation successful. Total cost: $0.003105\u001b[0m\n",
      "\u001b[32m2024-10-08 10:45:22.150\u001b[0m | \u001b[1mINFO    \u001b[0m | \u001b[36mavahiplatform.summarizer\u001b[0m:\u001b[36m_get_bedrock_client\u001b[0m:\u001b[36m31\u001b[0m - \u001b[1mNo explicit credentials provided. Attempting to use default credentials.\u001b[0m\n",
      "\u001b[32m2024-10-08 10:45:22.157\u001b[0m | \u001b[1mINFO    \u001b[0m | \u001b[36mavahiplatform.summarizer\u001b[0m:\u001b[36m_get_model_details\u001b[0m:\u001b[36m112\u001b[0m - \u001b[1mUsing model: anthropic.claude-3-sonnet-20240229-v1:0\u001b[0m\n",
      "\u001b[32m2024-10-08 10:45:22.159\u001b[0m | \u001b[1mINFO    \u001b[0m | \u001b[36mavahiplatform.summarizer\u001b[0m:\u001b[36mmodel_invoke\u001b[0m:\u001b[36m62\u001b[0m - \u001b[1mInvoking model to summarize content.\u001b[0m\n",
      "\u001b[32m2024-10-08 10:45:28.391\u001b[0m | \u001b[1mINFO    \u001b[0m | \u001b[36mavahiplatform.summarizer\u001b[0m:\u001b[36mmodel_invoke\u001b[0m:\u001b[36m80\u001b[0m - \u001b[1mModel invocation successful. Total cost: $0.003426\u001b[0m\n"
     ]
    },
    {
     "name": "stdout",
     "output_type": "stream",
     "text": [
      "Total time taken by avahiplatform for 10 articles: 63.60561656951904\n",
      "Avaerage time taken by avahiplatform for 10 articles: 6.360561656951904\n"
     ]
    }
   ],
   "source": [
    "total_time = 0\n",
    "all_response_list = []\n",
    "\n",
    "for text in all_articles_list:\n",
    "    start_time = time.time()\n",
    "    response, input_tokens, output_tokens, cost = avahiplatform.summarize(text)\n",
    "    all_response_list.append(response)\n",
    "    time_taken = time.time() - start_time\n",
    "    total_time += time_taken\n",
    "average_time = total_time / len(all_articles_list)\n",
    "\n",
    "print(f\"Total time taken by avahiplatform for 10 articles: {total_time}\")\n",
    "print(f\"Avaerage time taken by avahiplatform for 10 articles: {average_time}\")"
   ]
  },
  {
   "cell_type": "markdown",
   "id": "a7abe218-67d1-47a0-9f7c-37e850f16103",
   "metadata": {},
   "source": [
    "# Structured information extraction"
   ]
  },
  {
   "cell_type": "code",
   "execution_count": 12,
   "id": "2aab482b-7c8a-403b-b2aa-2c4df2457b47",
   "metadata": {
    "tags": []
   },
   "outputs": [
    {
     "name": "stdout",
     "output_type": "stream",
     "text": [
      "Total time taken by langchain-aws for 10 articles: 14.038135528564453\n",
      "Avaerage time taken by langchain-aws for 10 articles: 1.4038135528564453\n"
     ]
    }
   ],
   "source": [
    "total_time = 0\n",
    "all_response_list = []\n",
    "\n",
    "for text in all_articles_list:\n",
    "    start_time = time.time()\n",
    "    model_kwargs_claude = {\"temperature\": 0, \"top_p\": 0.2, \"max_tokens\": 1000}\n",
    "    llm = ChatBedrock(model_id=\"anthropic.claude-3-sonnet-20240229-v1:0\", model_kwargs=model_kwargs_claude)\n",
    "    prompt = f\"\"\"extract the below entities from this model in structured format:\n",
    "                1. Name:\n",
    "                2. Places:\n",
    "                Text: {text}\n",
    "                response should be json in below format\n",
    "                \"\"\" + \"\"\"response should be json in below format\n",
    "                {\"Name\": [\"Name1\", \"Name2\"],\"Places\": [\"Place1\",\"Place2\"]}\n",
    "                Make sure output has only json output. No other extra words\"\"\"\n",
    "    response = llm.invoke(prompt)\n",
    "    all_response_list.append(response)\n",
    "    time_taken = time.time() - start_time\n",
    "    total_time += time_taken\n",
    "    # print(response)\n",
    "average_time = total_time / len(all_articles_list)\n",
    "\n",
    "print(f\"Total time taken by langchain-aws for 10 articles: {total_time}\")\n",
    "print(f\"Avaerage time taken by langchain-aws for 10 articles: {average_time}\")"
   ]
  },
  {
   "cell_type": "code",
   "execution_count": 14,
   "id": "b9303319-580b-4a51-9274-9920c1b1c4c6",
   "metadata": {
    "tags": []
   },
   "outputs": [
    {
     "name": "stderr",
     "output_type": "stream",
     "text": [
      "\u001b[32m2024-10-08 10:48:27.247\u001b[0m | \u001b[1mINFO    \u001b[0m | \u001b[36mavahiplatform.structredExtraction\u001b[0m:\u001b[36m_get_bedrock_client\u001b[0m:\u001b[36m31\u001b[0m - \u001b[1mNo explicit credentials provided. Attempting to use default credentials.\u001b[0m\n",
      "\u001b[32m2024-10-08 10:48:27.253\u001b[0m | \u001b[1mINFO    \u001b[0m | \u001b[36mavahiplatform.structredExtraction\u001b[0m:\u001b[36m_get_model_details\u001b[0m:\u001b[36m112\u001b[0m - \u001b[1mUsing model: anthropic.claude-3-sonnet-20240229-v1:0\u001b[0m\n",
      "\u001b[32m2024-10-08 10:48:27.255\u001b[0m | \u001b[1mINFO    \u001b[0m | \u001b[36mavahiplatform.structredExtraction\u001b[0m:\u001b[36mmodel_invoke\u001b[0m:\u001b[36m62\u001b[0m - \u001b[1mInvoking model to extracting content.\u001b[0m\n",
      "\u001b[32m2024-10-08 10:48:29.929\u001b[0m | \u001b[1mINFO    \u001b[0m | \u001b[36mavahiplatform.structredExtraction\u001b[0m:\u001b[36mmodel_invoke\u001b[0m:\u001b[36m80\u001b[0m - \u001b[1mModel invocation successful. Total cost: $0.002838\u001b[0m\n",
      "\u001b[32m2024-10-08 10:48:29.933\u001b[0m | \u001b[1mINFO    \u001b[0m | \u001b[36mavahiplatform.structredExtraction\u001b[0m:\u001b[36m_get_bedrock_client\u001b[0m:\u001b[36m31\u001b[0m - \u001b[1mNo explicit credentials provided. Attempting to use default credentials.\u001b[0m\n",
      "\u001b[32m2024-10-08 10:48:29.940\u001b[0m | \u001b[1mINFO    \u001b[0m | \u001b[36mavahiplatform.structredExtraction\u001b[0m:\u001b[36m_get_model_details\u001b[0m:\u001b[36m112\u001b[0m - \u001b[1mUsing model: anthropic.claude-3-sonnet-20240229-v1:0\u001b[0m\n",
      "\u001b[32m2024-10-08 10:48:29.941\u001b[0m | \u001b[1mINFO    \u001b[0m | \u001b[36mavahiplatform.structredExtraction\u001b[0m:\u001b[36mmodel_invoke\u001b[0m:\u001b[36m62\u001b[0m - \u001b[1mInvoking model to extracting content.\u001b[0m\n",
      "\u001b[32m2024-10-08 10:48:30.906\u001b[0m | \u001b[1mINFO    \u001b[0m | \u001b[36mavahiplatform.structredExtraction\u001b[0m:\u001b[36mmodel_invoke\u001b[0m:\u001b[36m80\u001b[0m - \u001b[1mModel invocation successful. Total cost: $0.001527\u001b[0m\n",
      "\u001b[32m2024-10-08 10:48:30.911\u001b[0m | \u001b[1mINFO    \u001b[0m | \u001b[36mavahiplatform.structredExtraction\u001b[0m:\u001b[36m_get_bedrock_client\u001b[0m:\u001b[36m31\u001b[0m - \u001b[1mNo explicit credentials provided. Attempting to use default credentials.\u001b[0m\n",
      "\u001b[32m2024-10-08 10:48:30.932\u001b[0m | \u001b[1mINFO    \u001b[0m | \u001b[36mavahiplatform.structredExtraction\u001b[0m:\u001b[36m_get_model_details\u001b[0m:\u001b[36m112\u001b[0m - \u001b[1mUsing model: anthropic.claude-3-sonnet-20240229-v1:0\u001b[0m\n",
      "\u001b[32m2024-10-08 10:48:30.937\u001b[0m | \u001b[1mINFO    \u001b[0m | \u001b[36mavahiplatform.structredExtraction\u001b[0m:\u001b[36mmodel_invoke\u001b[0m:\u001b[36m62\u001b[0m - \u001b[1mInvoking model to extracting content.\u001b[0m\n",
      "\u001b[32m2024-10-08 10:48:33.116\u001b[0m | \u001b[1mINFO    \u001b[0m | \u001b[36mavahiplatform.structredExtraction\u001b[0m:\u001b[36mmodel_invoke\u001b[0m:\u001b[36m80\u001b[0m - \u001b[1mModel invocation successful. Total cost: $0.001473\u001b[0m\n",
      "\u001b[32m2024-10-08 10:48:33.124\u001b[0m | \u001b[1mINFO    \u001b[0m | \u001b[36mavahiplatform.structredExtraction\u001b[0m:\u001b[36m_get_bedrock_client\u001b[0m:\u001b[36m31\u001b[0m - \u001b[1mNo explicit credentials provided. Attempting to use default credentials.\u001b[0m\n",
      "\u001b[32m2024-10-08 10:48:33.141\u001b[0m | \u001b[1mINFO    \u001b[0m | \u001b[36mavahiplatform.structredExtraction\u001b[0m:\u001b[36m_get_model_details\u001b[0m:\u001b[36m112\u001b[0m - \u001b[1mUsing model: anthropic.claude-3-sonnet-20240229-v1:0\u001b[0m\n",
      "\u001b[32m2024-10-08 10:48:33.143\u001b[0m | \u001b[1mINFO    \u001b[0m | \u001b[36mavahiplatform.structredExtraction\u001b[0m:\u001b[36mmodel_invoke\u001b[0m:\u001b[36m62\u001b[0m - \u001b[1mInvoking model to extracting content.\u001b[0m\n",
      "\u001b[32m2024-10-08 10:48:34.260\u001b[0m | \u001b[1mINFO    \u001b[0m | \u001b[36mavahiplatform.structredExtraction\u001b[0m:\u001b[36mmodel_invoke\u001b[0m:\u001b[36m80\u001b[0m - \u001b[1mModel invocation successful. Total cost: $0.001236\u001b[0m\n",
      "\u001b[32m2024-10-08 10:48:34.265\u001b[0m | \u001b[1mINFO    \u001b[0m | \u001b[36mavahiplatform.structredExtraction\u001b[0m:\u001b[36m_get_bedrock_client\u001b[0m:\u001b[36m31\u001b[0m - \u001b[1mNo explicit credentials provided. Attempting to use default credentials.\u001b[0m\n",
      "\u001b[32m2024-10-08 10:48:34.271\u001b[0m | \u001b[1mINFO    \u001b[0m | \u001b[36mavahiplatform.structredExtraction\u001b[0m:\u001b[36m_get_model_details\u001b[0m:\u001b[36m112\u001b[0m - \u001b[1mUsing model: anthropic.claude-3-sonnet-20240229-v1:0\u001b[0m\n",
      "\u001b[32m2024-10-08 10:48:34.272\u001b[0m | \u001b[1mINFO    \u001b[0m | \u001b[36mavahiplatform.structredExtraction\u001b[0m:\u001b[36mmodel_invoke\u001b[0m:\u001b[36m62\u001b[0m - \u001b[1mInvoking model to extracting content.\u001b[0m\n",
      "\u001b[32m2024-10-08 10:48:37.039\u001b[0m | \u001b[1mINFO    \u001b[0m | \u001b[36mavahiplatform.structredExtraction\u001b[0m:\u001b[36mmodel_invoke\u001b[0m:\u001b[36m80\u001b[0m - \u001b[1mModel invocation successful. Total cost: $0.001161\u001b[0m\n",
      "\u001b[32m2024-10-08 10:48:37.044\u001b[0m | \u001b[1mINFO    \u001b[0m | \u001b[36mavahiplatform.structredExtraction\u001b[0m:\u001b[36m_get_bedrock_client\u001b[0m:\u001b[36m31\u001b[0m - \u001b[1mNo explicit credentials provided. Attempting to use default credentials.\u001b[0m\n",
      "\u001b[32m2024-10-08 10:48:37.053\u001b[0m | \u001b[1mINFO    \u001b[0m | \u001b[36mavahiplatform.structredExtraction\u001b[0m:\u001b[36m_get_model_details\u001b[0m:\u001b[36m112\u001b[0m - \u001b[1mUsing model: anthropic.claude-3-sonnet-20240229-v1:0\u001b[0m\n",
      "\u001b[32m2024-10-08 10:48:37.055\u001b[0m | \u001b[1mINFO    \u001b[0m | \u001b[36mavahiplatform.structredExtraction\u001b[0m:\u001b[36mmodel_invoke\u001b[0m:\u001b[36m62\u001b[0m - \u001b[1mInvoking model to extracting content.\u001b[0m\n",
      "\u001b[32m2024-10-08 10:48:39.044\u001b[0m | \u001b[1mINFO    \u001b[0m | \u001b[36mavahiplatform.structredExtraction\u001b[0m:\u001b[36mmodel_invoke\u001b[0m:\u001b[36m80\u001b[0m - \u001b[1mModel invocation successful. Total cost: $0.001179\u001b[0m\n",
      "\u001b[32m2024-10-08 10:48:39.054\u001b[0m | \u001b[1mINFO    \u001b[0m | \u001b[36mavahiplatform.structredExtraction\u001b[0m:\u001b[36m_get_bedrock_client\u001b[0m:\u001b[36m31\u001b[0m - \u001b[1mNo explicit credentials provided. Attempting to use default credentials.\u001b[0m\n",
      "\u001b[32m2024-10-08 10:48:39.063\u001b[0m | \u001b[1mINFO    \u001b[0m | \u001b[36mavahiplatform.structredExtraction\u001b[0m:\u001b[36m_get_model_details\u001b[0m:\u001b[36m112\u001b[0m - \u001b[1mUsing model: anthropic.claude-3-sonnet-20240229-v1:0\u001b[0m\n",
      "\u001b[32m2024-10-08 10:48:39.068\u001b[0m | \u001b[1mINFO    \u001b[0m | \u001b[36mavahiplatform.structredExtraction\u001b[0m:\u001b[36mmodel_invoke\u001b[0m:\u001b[36m62\u001b[0m - \u001b[1mInvoking model to extracting content.\u001b[0m\n",
      "\u001b[32m2024-10-08 10:48:40.811\u001b[0m | \u001b[1mINFO    \u001b[0m | \u001b[36mavahiplatform.structredExtraction\u001b[0m:\u001b[36mmodel_invoke\u001b[0m:\u001b[36m80\u001b[0m - \u001b[1mModel invocation successful. Total cost: $0.001227\u001b[0m\n",
      "\u001b[32m2024-10-08 10:48:40.826\u001b[0m | \u001b[1mINFO    \u001b[0m | \u001b[36mavahiplatform.structredExtraction\u001b[0m:\u001b[36m_get_bedrock_client\u001b[0m:\u001b[36m31\u001b[0m - \u001b[1mNo explicit credentials provided. Attempting to use default credentials.\u001b[0m\n",
      "\u001b[32m2024-10-08 10:48:40.836\u001b[0m | \u001b[1mINFO    \u001b[0m | \u001b[36mavahiplatform.structredExtraction\u001b[0m:\u001b[36m_get_model_details\u001b[0m:\u001b[36m112\u001b[0m - \u001b[1mUsing model: anthropic.claude-3-sonnet-20240229-v1:0\u001b[0m\n",
      "\u001b[32m2024-10-08 10:48:40.844\u001b[0m | \u001b[1mINFO    \u001b[0m | \u001b[36mavahiplatform.structredExtraction\u001b[0m:\u001b[36mmodel_invoke\u001b[0m:\u001b[36m62\u001b[0m - \u001b[1mInvoking model to extracting content.\u001b[0m\n",
      "\u001b[32m2024-10-08 10:48:41.603\u001b[0m | \u001b[1mINFO    \u001b[0m | \u001b[36mavahiplatform.structredExtraction\u001b[0m:\u001b[36mmodel_invoke\u001b[0m:\u001b[36m80\u001b[0m - \u001b[1mModel invocation successful. Total cost: $0.001131\u001b[0m\n",
      "\u001b[32m2024-10-08 10:48:41.607\u001b[0m | \u001b[1mINFO    \u001b[0m | \u001b[36mavahiplatform.structredExtraction\u001b[0m:\u001b[36m_get_bedrock_client\u001b[0m:\u001b[36m31\u001b[0m - \u001b[1mNo explicit credentials provided. Attempting to use default credentials.\u001b[0m\n",
      "\u001b[32m2024-10-08 10:48:41.612\u001b[0m | \u001b[1mINFO    \u001b[0m | \u001b[36mavahiplatform.structredExtraction\u001b[0m:\u001b[36m_get_model_details\u001b[0m:\u001b[36m112\u001b[0m - \u001b[1mUsing model: anthropic.claude-3-sonnet-20240229-v1:0\u001b[0m\n",
      "\u001b[32m2024-10-08 10:48:41.613\u001b[0m | \u001b[1mINFO    \u001b[0m | \u001b[36mavahiplatform.structredExtraction\u001b[0m:\u001b[36mmodel_invoke\u001b[0m:\u001b[36m62\u001b[0m - \u001b[1mInvoking model to extracting content.\u001b[0m\n",
      "\u001b[32m2024-10-08 10:48:42.323\u001b[0m | \u001b[1mINFO    \u001b[0m | \u001b[36mavahiplatform.structredExtraction\u001b[0m:\u001b[36mmodel_invoke\u001b[0m:\u001b[36m80\u001b[0m - \u001b[1mModel invocation successful. Total cost: $0.001140\u001b[0m\n",
      "\u001b[32m2024-10-08 10:48:42.327\u001b[0m | \u001b[1mINFO    \u001b[0m | \u001b[36mavahiplatform.structredExtraction\u001b[0m:\u001b[36m_get_bedrock_client\u001b[0m:\u001b[36m31\u001b[0m - \u001b[1mNo explicit credentials provided. Attempting to use default credentials.\u001b[0m\n",
      "\u001b[32m2024-10-08 10:48:42.333\u001b[0m | \u001b[1mINFO    \u001b[0m | \u001b[36mavahiplatform.structredExtraction\u001b[0m:\u001b[36m_get_model_details\u001b[0m:\u001b[36m112\u001b[0m - \u001b[1mUsing model: anthropic.claude-3-sonnet-20240229-v1:0\u001b[0m\n",
      "\u001b[32m2024-10-08 10:48:42.334\u001b[0m | \u001b[1mINFO    \u001b[0m | \u001b[36mavahiplatform.structredExtraction\u001b[0m:\u001b[36mmodel_invoke\u001b[0m:\u001b[36m62\u001b[0m - \u001b[1mInvoking model to extracting content.\u001b[0m\n",
      "\u001b[32m2024-10-08 10:48:43.523\u001b[0m | \u001b[1mINFO    \u001b[0m | \u001b[36mavahiplatform.structredExtraction\u001b[0m:\u001b[36mmodel_invoke\u001b[0m:\u001b[36m80\u001b[0m - \u001b[1mModel invocation successful. Total cost: $0.001371\u001b[0m\n"
     ]
    },
    {
     "name": "stdout",
     "output_type": "stream",
     "text": [
      "Total time taken by avahiplatform for 10 articles: 16.280076503753662\n",
      "Avaerage time taken by avahiplatform for 10 articles: 1.6280076503753662\n"
     ]
    }
   ],
   "source": [
    "total_time = 0\n",
    "all_response_list = []\n",
    "\n",
    "for text in all_articles_list:\n",
    "    start_time = time.time()\n",
    "    response, input_tokens, output_tokens, cost = avahiplatform.structredExtraction(text)\n",
    "    all_response_list.append(response)\n",
    "    time_taken = time.time() - start_time\n",
    "    total_time += time_taken\n",
    "average_time = total_time / len(all_articles_list)\n",
    "\n",
    "print(f\"Total time taken by avahiplatform for 10 articles: {total_time}\")\n",
    "print(f\"Avaerage time taken by avahiplatform for 10 articles: {average_time}\")"
   ]
  },
  {
   "cell_type": "markdown",
   "id": "ac96459d-71af-4869-9f51-db49874d8d76",
   "metadata": {
    "tags": []
   },
   "source": [
    "# Data masking"
   ]
  },
  {
   "cell_type": "code",
   "execution_count": 16,
   "id": "4a9e88b1-b7f4-4d06-8e1e-7cc4015a5ca5",
   "metadata": {
    "tags": []
   },
   "outputs": [
    {
     "name": "stdout",
     "output_type": "stream",
     "text": [
      "Total time taken by langchain-aws for 10 articles: 57.614434242248535\n",
      "Avaerage time taken by langchain-aws for 10 articles: 5.761443424224853\n"
     ]
    }
   ],
   "source": [
    "total_time = 0\n",
    "all_response_list = []\n",
    "\n",
    "for text in all_articles_list:\n",
    "    start_time = time.time()\n",
    "    model_kwargs_claude = {\"temperature\": 0, \"top_p\": 0.2, \"max_tokens\": 1000}\n",
    "    llm = ChatBedrock(model_id=\"anthropic.claude-3-sonnet-20240229-v1:0\", model_kwargs=model_kwargs_claude)\n",
    "    prompt = f\"\"\"\n",
    "        Selectively mask specific types of sensitive data in the following text by replacing only the characters of the sensitive information with '*'. Leave all other text unchanged.\n",
    "\n",
    "        Sensitive data types to mask:\n",
    "        1. Names (first and last)\n",
    "        2. Email addresses\n",
    "        3. Social Security Numbers (9-digit numbers)\n",
    "        4. Phone numbers (various formats)\n",
    "\n",
    "        Text to process:\n",
    "        {text}\n",
    "\n",
    "        Instructions:\n",
    "        1. Identify instances of the above sensitive data types in the text.\n",
    "        2. Replace each character of ONLY the identified sensitive data with '*'.\n",
    "        3. Leave all other text completely unchanged.\n",
    "        4. Return the entire text with only the sensitive data masked.\n",
    "        5. Do not add any explanations or additional text to your response.\n",
    "\n",
    "        Example:\n",
    "        Input: \"John Doe's email is john@example.com and SSN is 123-45-6789.\"\n",
    "        Output: \"**** ***'s email is ***************** and SSN is ***********.\"\n",
    "\n",
    "        Processed text:\n",
    "    \"\"\"\n",
    "    response = llm.invoke(prompt)\n",
    "    all_response_list.append(response)\n",
    "    time_taken = time.time() - start_time\n",
    "    total_time += time_taken\n",
    "    # print(response)\n",
    "average_time = total_time / len(all_articles_list)\n",
    "\n",
    "print(f\"Total time taken by langchain-aws for 10 articles: {total_time}\")\n",
    "print(f\"Avaerage time taken by langchain-aws for 10 articles: {average_time}\")"
   ]
  },
  {
   "cell_type": "code",
   "execution_count": 17,
   "id": "410be1b4-27fd-4617-824f-262cd3b0f91d",
   "metadata": {
    "tags": []
   },
   "outputs": [
    {
     "name": "stderr",
     "output_type": "stream",
     "text": [
      "\u001b[32m2024-10-08 10:52:15.807\u001b[0m | \u001b[1mINFO    \u001b[0m | \u001b[36mavahiplatform.data_masking\u001b[0m:\u001b[36m_get_bedrock_client\u001b[0m:\u001b[36m31\u001b[0m - \u001b[1mNo explicit credentials provided. Attempting to use default credentials.\u001b[0m\n",
      "\u001b[32m2024-10-08 10:52:15.817\u001b[0m | \u001b[1mINFO    \u001b[0m | \u001b[36mavahiplatform.data_masking\u001b[0m:\u001b[36m_get_model_details\u001b[0m:\u001b[36m112\u001b[0m - \u001b[1mUsing model: anthropic.claude-3-sonnet-20240229-v1:0\u001b[0m\n",
      "\u001b[32m2024-10-08 10:52:15.818\u001b[0m | \u001b[1mINFO    \u001b[0m | \u001b[36mavahiplatform.data_masking\u001b[0m:\u001b[36mmodel_invoke\u001b[0m:\u001b[36m62\u001b[0m - \u001b[1mInvoking model to extracting content.\u001b[0m\n",
      "\u001b[32m2024-10-08 10:52:28.772\u001b[0m | \u001b[1mINFO    \u001b[0m | \u001b[36mavahiplatform.data_masking\u001b[0m:\u001b[36mmodel_invoke\u001b[0m:\u001b[36m80\u001b[0m - \u001b[1mModel invocation successful. Total cost: $0.009882\u001b[0m\n",
      "\u001b[32m2024-10-08 10:52:28.777\u001b[0m | \u001b[1mINFO    \u001b[0m | \u001b[36mavahiplatform.data_masking\u001b[0m:\u001b[36m_get_bedrock_client\u001b[0m:\u001b[36m31\u001b[0m - \u001b[1mNo explicit credentials provided. Attempting to use default credentials.\u001b[0m\n",
      "\u001b[32m2024-10-08 10:52:28.784\u001b[0m | \u001b[1mINFO    \u001b[0m | \u001b[36mavahiplatform.data_masking\u001b[0m:\u001b[36m_get_model_details\u001b[0m:\u001b[36m112\u001b[0m - \u001b[1mUsing model: anthropic.claude-3-sonnet-20240229-v1:0\u001b[0m\n",
      "\u001b[32m2024-10-08 10:52:28.785\u001b[0m | \u001b[1mINFO    \u001b[0m | \u001b[36mavahiplatform.data_masking\u001b[0m:\u001b[36mmodel_invoke\u001b[0m:\u001b[36m62\u001b[0m - \u001b[1mInvoking model to extracting content.\u001b[0m\n",
      "\u001b[32m2024-10-08 10:52:36.711\u001b[0m | \u001b[1mINFO    \u001b[0m | \u001b[36mavahiplatform.data_masking\u001b[0m:\u001b[36mmodel_invoke\u001b[0m:\u001b[36m80\u001b[0m - \u001b[1mModel invocation successful. Total cost: $0.005145\u001b[0m\n",
      "\u001b[32m2024-10-08 10:52:36.716\u001b[0m | \u001b[1mINFO    \u001b[0m | \u001b[36mavahiplatform.data_masking\u001b[0m:\u001b[36m_get_bedrock_client\u001b[0m:\u001b[36m31\u001b[0m - \u001b[1mNo explicit credentials provided. Attempting to use default credentials.\u001b[0m\n",
      "\u001b[32m2024-10-08 10:52:36.724\u001b[0m | \u001b[1mINFO    \u001b[0m | \u001b[36mavahiplatform.data_masking\u001b[0m:\u001b[36m_get_model_details\u001b[0m:\u001b[36m112\u001b[0m - \u001b[1mUsing model: anthropic.claude-3-sonnet-20240229-v1:0\u001b[0m\n",
      "\u001b[32m2024-10-08 10:52:36.724\u001b[0m | \u001b[1mINFO    \u001b[0m | \u001b[36mavahiplatform.data_masking\u001b[0m:\u001b[36mmodel_invoke\u001b[0m:\u001b[36m62\u001b[0m - \u001b[1mInvoking model to extracting content.\u001b[0m\n",
      "\u001b[32m2024-10-08 10:52:43.087\u001b[0m | \u001b[1mINFO    \u001b[0m | \u001b[36mavahiplatform.data_masking\u001b[0m:\u001b[36mmodel_invoke\u001b[0m:\u001b[36m80\u001b[0m - \u001b[1mModel invocation successful. Total cost: $0.004686\u001b[0m\n",
      "\u001b[32m2024-10-08 10:52:43.092\u001b[0m | \u001b[1mINFO    \u001b[0m | \u001b[36mavahiplatform.data_masking\u001b[0m:\u001b[36m_get_bedrock_client\u001b[0m:\u001b[36m31\u001b[0m - \u001b[1mNo explicit credentials provided. Attempting to use default credentials.\u001b[0m\n",
      "\u001b[32m2024-10-08 10:52:43.098\u001b[0m | \u001b[1mINFO    \u001b[0m | \u001b[36mavahiplatform.data_masking\u001b[0m:\u001b[36m_get_model_details\u001b[0m:\u001b[36m112\u001b[0m - \u001b[1mUsing model: anthropic.claude-3-sonnet-20240229-v1:0\u001b[0m\n",
      "\u001b[32m2024-10-08 10:52:43.099\u001b[0m | \u001b[1mINFO    \u001b[0m | \u001b[36mavahiplatform.data_masking\u001b[0m:\u001b[36mmodel_invoke\u001b[0m:\u001b[36m62\u001b[0m - \u001b[1mInvoking model to extracting content.\u001b[0m\n",
      "\u001b[32m2024-10-08 10:52:48.767\u001b[0m | \u001b[1mINFO    \u001b[0m | \u001b[36mavahiplatform.data_masking\u001b[0m:\u001b[36mmodel_invoke\u001b[0m:\u001b[36m80\u001b[0m - \u001b[1mModel invocation successful. Total cost: $0.003984\u001b[0m\n",
      "\u001b[32m2024-10-08 10:52:48.771\u001b[0m | \u001b[1mINFO    \u001b[0m | \u001b[36mavahiplatform.data_masking\u001b[0m:\u001b[36m_get_bedrock_client\u001b[0m:\u001b[36m31\u001b[0m - \u001b[1mNo explicit credentials provided. Attempting to use default credentials.\u001b[0m\n",
      "\u001b[32m2024-10-08 10:52:48.777\u001b[0m | \u001b[1mINFO    \u001b[0m | \u001b[36mavahiplatform.data_masking\u001b[0m:\u001b[36m_get_model_details\u001b[0m:\u001b[36m112\u001b[0m - \u001b[1mUsing model: anthropic.claude-3-sonnet-20240229-v1:0\u001b[0m\n",
      "\u001b[32m2024-10-08 10:52:48.778\u001b[0m | \u001b[1mINFO    \u001b[0m | \u001b[36mavahiplatform.data_masking\u001b[0m:\u001b[36mmodel_invoke\u001b[0m:\u001b[36m62\u001b[0m - \u001b[1mInvoking model to extracting content.\u001b[0m\n",
      "\u001b[32m2024-10-08 10:52:51.916\u001b[0m | \u001b[1mINFO    \u001b[0m | \u001b[36mavahiplatform.data_masking\u001b[0m:\u001b[36mmodel_invoke\u001b[0m:\u001b[36m80\u001b[0m - \u001b[1mModel invocation successful. Total cost: $0.003564\u001b[0m\n",
      "\u001b[32m2024-10-08 10:52:51.920\u001b[0m | \u001b[1mINFO    \u001b[0m | \u001b[36mavahiplatform.data_masking\u001b[0m:\u001b[36m_get_bedrock_client\u001b[0m:\u001b[36m31\u001b[0m - \u001b[1mNo explicit credentials provided. Attempting to use default credentials.\u001b[0m\n",
      "\u001b[32m2024-10-08 10:52:51.926\u001b[0m | \u001b[1mINFO    \u001b[0m | \u001b[36mavahiplatform.data_masking\u001b[0m:\u001b[36m_get_model_details\u001b[0m:\u001b[36m112\u001b[0m - \u001b[1mUsing model: anthropic.claude-3-sonnet-20240229-v1:0\u001b[0m\n",
      "\u001b[32m2024-10-08 10:52:51.927\u001b[0m | \u001b[1mINFO    \u001b[0m | \u001b[36mavahiplatform.data_masking\u001b[0m:\u001b[36mmodel_invoke\u001b[0m:\u001b[36m62\u001b[0m - \u001b[1mInvoking model to extracting content.\u001b[0m\n",
      "\u001b[32m2024-10-08 10:52:55.321\u001b[0m | \u001b[1mINFO    \u001b[0m | \u001b[36mavahiplatform.data_masking\u001b[0m:\u001b[36mmodel_invoke\u001b[0m:\u001b[36m80\u001b[0m - \u001b[1mModel invocation successful. Total cost: $0.003567\u001b[0m\n",
      "\u001b[32m2024-10-08 10:52:55.331\u001b[0m | \u001b[1mINFO    \u001b[0m | \u001b[36mavahiplatform.data_masking\u001b[0m:\u001b[36m_get_bedrock_client\u001b[0m:\u001b[36m31\u001b[0m - \u001b[1mNo explicit credentials provided. Attempting to use default credentials.\u001b[0m\n",
      "\u001b[32m2024-10-08 10:52:55.341\u001b[0m | \u001b[1mINFO    \u001b[0m | \u001b[36mavahiplatform.data_masking\u001b[0m:\u001b[36m_get_model_details\u001b[0m:\u001b[36m112\u001b[0m - \u001b[1mUsing model: anthropic.claude-3-sonnet-20240229-v1:0\u001b[0m\n",
      "\u001b[32m2024-10-08 10:52:55.345\u001b[0m | \u001b[1mINFO    \u001b[0m | \u001b[36mavahiplatform.data_masking\u001b[0m:\u001b[36mmodel_invoke\u001b[0m:\u001b[36m62\u001b[0m - \u001b[1mInvoking model to extracting content.\u001b[0m\n",
      "\u001b[32m2024-10-08 10:52:59.132\u001b[0m | \u001b[1mINFO    \u001b[0m | \u001b[36mavahiplatform.data_masking\u001b[0m:\u001b[36mmodel_invoke\u001b[0m:\u001b[36m80\u001b[0m - \u001b[1mModel invocation successful. Total cost: $0.003555\u001b[0m\n",
      "\u001b[32m2024-10-08 10:52:59.137\u001b[0m | \u001b[1mINFO    \u001b[0m | \u001b[36mavahiplatform.data_masking\u001b[0m:\u001b[36m_get_bedrock_client\u001b[0m:\u001b[36m31\u001b[0m - \u001b[1mNo explicit credentials provided. Attempting to use default credentials.\u001b[0m\n",
      "\u001b[32m2024-10-08 10:52:59.149\u001b[0m | \u001b[1mINFO    \u001b[0m | \u001b[36mavahiplatform.data_masking\u001b[0m:\u001b[36m_get_model_details\u001b[0m:\u001b[36m112\u001b[0m - \u001b[1mUsing model: anthropic.claude-3-sonnet-20240229-v1:0\u001b[0m\n",
      "\u001b[32m2024-10-08 10:52:59.152\u001b[0m | \u001b[1mINFO    \u001b[0m | \u001b[36mavahiplatform.data_masking\u001b[0m:\u001b[36mmodel_invoke\u001b[0m:\u001b[36m62\u001b[0m - \u001b[1mInvoking model to extracting content.\u001b[0m\n",
      "\u001b[32m2024-10-08 10:53:02.728\u001b[0m | \u001b[1mINFO    \u001b[0m | \u001b[36mavahiplatform.data_masking\u001b[0m:\u001b[36mmodel_invoke\u001b[0m:\u001b[36m80\u001b[0m - \u001b[1mModel invocation successful. Total cost: $0.003384\u001b[0m\n",
      "\u001b[32m2024-10-08 10:53:02.732\u001b[0m | \u001b[1mINFO    \u001b[0m | \u001b[36mavahiplatform.data_masking\u001b[0m:\u001b[36m_get_bedrock_client\u001b[0m:\u001b[36m31\u001b[0m - \u001b[1mNo explicit credentials provided. Attempting to use default credentials.\u001b[0m\n",
      "\u001b[32m2024-10-08 10:53:02.740\u001b[0m | \u001b[1mINFO    \u001b[0m | \u001b[36mavahiplatform.data_masking\u001b[0m:\u001b[36m_get_model_details\u001b[0m:\u001b[36m112\u001b[0m - \u001b[1mUsing model: anthropic.claude-3-sonnet-20240229-v1:0\u001b[0m\n",
      "\u001b[32m2024-10-08 10:53:02.742\u001b[0m | \u001b[1mINFO    \u001b[0m | \u001b[36mavahiplatform.data_masking\u001b[0m:\u001b[36mmodel_invoke\u001b[0m:\u001b[36m62\u001b[0m - \u001b[1mInvoking model to extracting content.\u001b[0m\n",
      "\u001b[32m2024-10-08 10:53:06.881\u001b[0m | \u001b[1mINFO    \u001b[0m | \u001b[36mavahiplatform.data_masking\u001b[0m:\u001b[36mmodel_invoke\u001b[0m:\u001b[36m80\u001b[0m - \u001b[1mModel invocation successful. Total cost: $0.003408\u001b[0m\n",
      "\u001b[32m2024-10-08 10:53:06.889\u001b[0m | \u001b[1mINFO    \u001b[0m | \u001b[36mavahiplatform.data_masking\u001b[0m:\u001b[36m_get_bedrock_client\u001b[0m:\u001b[36m31\u001b[0m - \u001b[1mNo explicit credentials provided. Attempting to use default credentials.\u001b[0m\n",
      "\u001b[32m2024-10-08 10:53:06.901\u001b[0m | \u001b[1mINFO    \u001b[0m | \u001b[36mavahiplatform.data_masking\u001b[0m:\u001b[36m_get_model_details\u001b[0m:\u001b[36m112\u001b[0m - \u001b[1mUsing model: anthropic.claude-3-sonnet-20240229-v1:0\u001b[0m\n",
      "\u001b[32m2024-10-08 10:53:06.909\u001b[0m | \u001b[1mINFO    \u001b[0m | \u001b[36mavahiplatform.data_masking\u001b[0m:\u001b[36mmodel_invoke\u001b[0m:\u001b[36m62\u001b[0m - \u001b[1mInvoking model to extracting content.\u001b[0m\n",
      "\u001b[32m2024-10-08 10:53:20.953\u001b[0m | \u001b[1mINFO    \u001b[0m | \u001b[36mavahiplatform.data_masking\u001b[0m:\u001b[36mmodel_invoke\u001b[0m:\u001b[36m80\u001b[0m - \u001b[1mModel invocation successful. Total cost: $0.003759\u001b[0m\n"
     ]
    },
    {
     "name": "stdout",
     "output_type": "stream",
     "text": [
      "Total time taken by avahiplatform for 10 articles: 65.15433835983276\n",
      "Avaerage time taken by avahiplatform for 10 articles: 6.515433835983276\n"
     ]
    }
   ],
   "source": [
    "total_time = 0\n",
    "all_response_list = []\n",
    "\n",
    "for text in all_articles_list:\n",
    "    start_time = time.time()\n",
    "    response, input_tokens, output_tokens, cost = avahiplatform.DataMasking(text)\n",
    "    all_response_list.append(response)\n",
    "    time_taken = time.time() - start_time\n",
    "    total_time += time_taken\n",
    "average_time = total_time / len(all_articles_list)\n",
    "\n",
    "print(f\"Total time taken by avahiplatform for 10 articles: {total_time}\")\n",
    "print(f\"Avaerage time taken by avahiplatform for 10 articles: {average_time}\")"
   ]
  },
  {
   "cell_type": "markdown",
   "id": "3c357f2d-7267-4271-9f5b-3d2bf502101f",
   "metadata": {},
   "source": [
    "# Grammar correction"
   ]
  },
  {
   "cell_type": "code",
   "execution_count": 18,
   "id": "1e9076cd-4369-40fa-9511-df29198cba5e",
   "metadata": {
    "tags": []
   },
   "outputs": [
    {
     "name": "stdout",
     "output_type": "stream",
     "text": [
      "Total time taken by langchain-aws for 10 articles: 48.86798810958862\n",
      "Avaerage time taken by langchain-aws for 10 articles: 4.8867988109588625\n"
     ]
    }
   ],
   "source": [
    "total_time = 0\n",
    "all_response_list = []\n",
    "\n",
    "for text in all_articles_list:\n",
    "    start_time = time.time()\n",
    "    model_kwargs_claude = {\"temperature\": 0, \"top_p\": 0.2, \"max_tokens\": 1000}\n",
    "    llm = ChatBedrock(model_id=\"anthropic.claude-3-sonnet-20240229-v1:0\", model_kwargs=model_kwargs_claude)\n",
    "    prompt = f\"\"\"\n",
    "        Please rectify grammar and spelling of the following text: {text}\n",
    "    \"\"\"\n",
    "    response = llm.invoke(prompt)\n",
    "    all_response_list.append(response)\n",
    "    time_taken = time.time() - start_time\n",
    "    total_time += time_taken\n",
    "    # print(response)\n",
    "average_time = total_time / len(all_articles_list)\n",
    "\n",
    "print(f\"Total time taken by langchain-aws for 10 articles: {total_time}\")\n",
    "print(f\"Avaerage time taken by langchain-aws for 10 articles: {average_time}\")"
   ]
  },
  {
   "cell_type": "code",
   "execution_count": 19,
   "id": "0905eb52-0094-4050-884a-1fa8c87ba075",
   "metadata": {
    "tags": []
   },
   "outputs": [
    {
     "name": "stderr",
     "output_type": "stream",
     "text": [
      "\u001b[32m2024-10-08 10:57:06.418\u001b[0m | \u001b[1mINFO    \u001b[0m | \u001b[36mavahiplatform.grammarCorrection\u001b[0m:\u001b[36m_get_bedrock_client\u001b[0m:\u001b[36m31\u001b[0m - \u001b[1mNo explicit credentials provided. Attempting to use default credentials.\u001b[0m\n",
      "\u001b[32m2024-10-08 10:57:06.423\u001b[0m | \u001b[1mINFO    \u001b[0m | \u001b[36mavahiplatform.grammarCorrection\u001b[0m:\u001b[36m_get_model_details\u001b[0m:\u001b[36m112\u001b[0m - \u001b[1mUsing model: anthropic.claude-3-sonnet-20240229-v1:0\u001b[0m\n",
      "\u001b[32m2024-10-08 10:57:06.425\u001b[0m | \u001b[1mINFO    \u001b[0m | \u001b[36mavahiplatform.grammarCorrection\u001b[0m:\u001b[36mmodel_invoke\u001b[0m:\u001b[36m62\u001b[0m - \u001b[1mInvoking model to rectify grammar and spelling of the content.\u001b[0m\n",
      "\u001b[32m2024-10-08 10:57:19.737\u001b[0m | \u001b[1mINFO    \u001b[0m | \u001b[36mavahiplatform.grammarCorrection\u001b[0m:\u001b[36mmodel_invoke\u001b[0m:\u001b[36m80\u001b[0m - \u001b[1mModel invocation successful. Total cost: $0.009615\u001b[0m\n",
      "\u001b[32m2024-10-08 10:57:19.741\u001b[0m | \u001b[1mINFO    \u001b[0m | \u001b[36mavahiplatform.grammarCorrection\u001b[0m:\u001b[36m_get_bedrock_client\u001b[0m:\u001b[36m31\u001b[0m - \u001b[1mNo explicit credentials provided. Attempting to use default credentials.\u001b[0m\n",
      "\u001b[32m2024-10-08 10:57:19.745\u001b[0m | \u001b[1mINFO    \u001b[0m | \u001b[36mavahiplatform.grammarCorrection\u001b[0m:\u001b[36m_get_model_details\u001b[0m:\u001b[36m112\u001b[0m - \u001b[1mUsing model: anthropic.claude-3-sonnet-20240229-v1:0\u001b[0m\n",
      "\u001b[32m2024-10-08 10:57:19.747\u001b[0m | \u001b[1mINFO    \u001b[0m | \u001b[36mavahiplatform.grammarCorrection\u001b[0m:\u001b[36mmodel_invoke\u001b[0m:\u001b[36m62\u001b[0m - \u001b[1mInvoking model to rectify grammar and spelling of the content.\u001b[0m\n",
      "\u001b[32m2024-10-08 10:57:25.771\u001b[0m | \u001b[1mINFO    \u001b[0m | \u001b[36mavahiplatform.grammarCorrection\u001b[0m:\u001b[36mmodel_invoke\u001b[0m:\u001b[36m80\u001b[0m - \u001b[1mModel invocation successful. Total cost: $0.005034\u001b[0m\n",
      "\u001b[32m2024-10-08 10:57:25.777\u001b[0m | \u001b[1mINFO    \u001b[0m | \u001b[36mavahiplatform.grammarCorrection\u001b[0m:\u001b[36m_get_bedrock_client\u001b[0m:\u001b[36m31\u001b[0m - \u001b[1mNo explicit credentials provided. Attempting to use default credentials.\u001b[0m\n",
      "\u001b[32m2024-10-08 10:57:25.784\u001b[0m | \u001b[1mINFO    \u001b[0m | \u001b[36mavahiplatform.grammarCorrection\u001b[0m:\u001b[36m_get_model_details\u001b[0m:\u001b[36m112\u001b[0m - \u001b[1mUsing model: anthropic.claude-3-sonnet-20240229-v1:0\u001b[0m\n",
      "\u001b[32m2024-10-08 10:57:25.785\u001b[0m | \u001b[1mINFO    \u001b[0m | \u001b[36mavahiplatform.grammarCorrection\u001b[0m:\u001b[36mmodel_invoke\u001b[0m:\u001b[36m62\u001b[0m - \u001b[1mInvoking model to rectify grammar and spelling of the content.\u001b[0m\n",
      "\u001b[32m2024-10-08 10:57:35.117\u001b[0m | \u001b[1mINFO    \u001b[0m | \u001b[36mavahiplatform.grammarCorrection\u001b[0m:\u001b[36mmodel_invoke\u001b[0m:\u001b[36m80\u001b[0m - \u001b[1mModel invocation successful. Total cost: $0.004230\u001b[0m\n",
      "\u001b[32m2024-10-08 10:57:35.122\u001b[0m | \u001b[1mINFO    \u001b[0m | \u001b[36mavahiplatform.grammarCorrection\u001b[0m:\u001b[36m_get_bedrock_client\u001b[0m:\u001b[36m31\u001b[0m - \u001b[1mNo explicit credentials provided. Attempting to use default credentials.\u001b[0m\n",
      "\u001b[32m2024-10-08 10:57:35.128\u001b[0m | \u001b[1mINFO    \u001b[0m | \u001b[36mavahiplatform.grammarCorrection\u001b[0m:\u001b[36m_get_model_details\u001b[0m:\u001b[36m112\u001b[0m - \u001b[1mUsing model: anthropic.claude-3-sonnet-20240229-v1:0\u001b[0m\n",
      "\u001b[32m2024-10-08 10:57:35.129\u001b[0m | \u001b[1mINFO    \u001b[0m | \u001b[36mavahiplatform.grammarCorrection\u001b[0m:\u001b[36mmodel_invoke\u001b[0m:\u001b[36m62\u001b[0m - \u001b[1mInvoking model to rectify grammar and spelling of the content.\u001b[0m\n",
      "\u001b[32m2024-10-08 10:57:41.384\u001b[0m | \u001b[1mINFO    \u001b[0m | \u001b[36mavahiplatform.grammarCorrection\u001b[0m:\u001b[36mmodel_invoke\u001b[0m:\u001b[36m80\u001b[0m - \u001b[1mModel invocation successful. Total cost: $0.003228\u001b[0m\n",
      "\u001b[32m2024-10-08 10:57:41.390\u001b[0m | \u001b[1mINFO    \u001b[0m | \u001b[36mavahiplatform.grammarCorrection\u001b[0m:\u001b[36m_get_bedrock_client\u001b[0m:\u001b[36m31\u001b[0m - \u001b[1mNo explicit credentials provided. Attempting to use default credentials.\u001b[0m\n",
      "\u001b[32m2024-10-08 10:57:41.401\u001b[0m | \u001b[1mINFO    \u001b[0m | \u001b[36mavahiplatform.grammarCorrection\u001b[0m:\u001b[36m_get_model_details\u001b[0m:\u001b[36m112\u001b[0m - \u001b[1mUsing model: anthropic.claude-3-sonnet-20240229-v1:0\u001b[0m\n",
      "\u001b[32m2024-10-08 10:57:41.402\u001b[0m | \u001b[1mINFO    \u001b[0m | \u001b[36mavahiplatform.grammarCorrection\u001b[0m:\u001b[36mmodel_invoke\u001b[0m:\u001b[36m62\u001b[0m - \u001b[1mInvoking model to rectify grammar and spelling of the content.\u001b[0m\n",
      "\u001b[32m2024-10-08 10:57:44.238\u001b[0m | \u001b[1mINFO    \u001b[0m | \u001b[36mavahiplatform.grammarCorrection\u001b[0m:\u001b[36mmodel_invoke\u001b[0m:\u001b[36m80\u001b[0m - \u001b[1mModel invocation successful. Total cost: $0.003003\u001b[0m\n",
      "\u001b[32m2024-10-08 10:57:44.242\u001b[0m | \u001b[1mINFO    \u001b[0m | \u001b[36mavahiplatform.grammarCorrection\u001b[0m:\u001b[36m_get_bedrock_client\u001b[0m:\u001b[36m31\u001b[0m - \u001b[1mNo explicit credentials provided. Attempting to use default credentials.\u001b[0m\n",
      "\u001b[32m2024-10-08 10:57:44.248\u001b[0m | \u001b[1mINFO    \u001b[0m | \u001b[36mavahiplatform.grammarCorrection\u001b[0m:\u001b[36m_get_model_details\u001b[0m:\u001b[36m112\u001b[0m - \u001b[1mUsing model: anthropic.claude-3-sonnet-20240229-v1:0\u001b[0m\n",
      "\u001b[32m2024-10-08 10:57:44.249\u001b[0m | \u001b[1mINFO    \u001b[0m | \u001b[36mavahiplatform.grammarCorrection\u001b[0m:\u001b[36mmodel_invoke\u001b[0m:\u001b[36m62\u001b[0m - \u001b[1mInvoking model to rectify grammar and spelling of the content.\u001b[0m\n",
      "\u001b[32m2024-10-08 10:57:46.861\u001b[0m | \u001b[1mINFO    \u001b[0m | \u001b[36mavahiplatform.grammarCorrection\u001b[0m:\u001b[36mmodel_invoke\u001b[0m:\u001b[36m80\u001b[0m - \u001b[1mModel invocation successful. Total cost: $0.003021\u001b[0m\n",
      "\u001b[32m2024-10-08 10:57:46.865\u001b[0m | \u001b[1mINFO    \u001b[0m | \u001b[36mavahiplatform.grammarCorrection\u001b[0m:\u001b[36m_get_bedrock_client\u001b[0m:\u001b[36m31\u001b[0m - \u001b[1mNo explicit credentials provided. Attempting to use default credentials.\u001b[0m\n",
      "\u001b[32m2024-10-08 10:57:46.871\u001b[0m | \u001b[1mINFO    \u001b[0m | \u001b[36mavahiplatform.grammarCorrection\u001b[0m:\u001b[36m_get_model_details\u001b[0m:\u001b[36m112\u001b[0m - \u001b[1mUsing model: anthropic.claude-3-sonnet-20240229-v1:0\u001b[0m\n",
      "\u001b[32m2024-10-08 10:57:46.873\u001b[0m | \u001b[1mINFO    \u001b[0m | \u001b[36mavahiplatform.grammarCorrection\u001b[0m:\u001b[36mmodel_invoke\u001b[0m:\u001b[36m62\u001b[0m - \u001b[1mInvoking model to rectify grammar and spelling of the content.\u001b[0m\n",
      "\u001b[32m2024-10-08 10:57:52.675\u001b[0m | \u001b[1mINFO    \u001b[0m | \u001b[36mavahiplatform.grammarCorrection\u001b[0m:\u001b[36mmodel_invoke\u001b[0m:\u001b[36m80\u001b[0m - \u001b[1mModel invocation successful. Total cost: $0.002829\u001b[0m\n",
      "\u001b[32m2024-10-08 10:57:52.684\u001b[0m | \u001b[1mINFO    \u001b[0m | \u001b[36mavahiplatform.grammarCorrection\u001b[0m:\u001b[36m_get_bedrock_client\u001b[0m:\u001b[36m31\u001b[0m - \u001b[1mNo explicit credentials provided. Attempting to use default credentials.\u001b[0m\n",
      "\u001b[32m2024-10-08 10:57:52.690\u001b[0m | \u001b[1mINFO    \u001b[0m | \u001b[36mavahiplatform.grammarCorrection\u001b[0m:\u001b[36m_get_model_details\u001b[0m:\u001b[36m112\u001b[0m - \u001b[1mUsing model: anthropic.claude-3-sonnet-20240229-v1:0\u001b[0m\n",
      "\u001b[32m2024-10-08 10:57:52.691\u001b[0m | \u001b[1mINFO    \u001b[0m | \u001b[36mavahiplatform.grammarCorrection\u001b[0m:\u001b[36mmodel_invoke\u001b[0m:\u001b[36m62\u001b[0m - \u001b[1mInvoking model to rectify grammar and spelling of the content.\u001b[0m\n",
      "\u001b[32m2024-10-08 10:57:56.212\u001b[0m | \u001b[1mINFO    \u001b[0m | \u001b[36mavahiplatform.grammarCorrection\u001b[0m:\u001b[36mmodel_invoke\u001b[0m:\u001b[36m80\u001b[0m - \u001b[1mModel invocation successful. Total cost: $0.002823\u001b[0m\n",
      "\u001b[32m2024-10-08 10:57:56.216\u001b[0m | \u001b[1mINFO    \u001b[0m | \u001b[36mavahiplatform.grammarCorrection\u001b[0m:\u001b[36m_get_bedrock_client\u001b[0m:\u001b[36m31\u001b[0m - \u001b[1mNo explicit credentials provided. Attempting to use default credentials.\u001b[0m\n",
      "\u001b[32m2024-10-08 10:57:56.222\u001b[0m | \u001b[1mINFO    \u001b[0m | \u001b[36mavahiplatform.grammarCorrection\u001b[0m:\u001b[36m_get_model_details\u001b[0m:\u001b[36m112\u001b[0m - \u001b[1mUsing model: anthropic.claude-3-sonnet-20240229-v1:0\u001b[0m\n",
      "\u001b[32m2024-10-08 10:57:56.222\u001b[0m | \u001b[1mINFO    \u001b[0m | \u001b[36mavahiplatform.grammarCorrection\u001b[0m:\u001b[36mmodel_invoke\u001b[0m:\u001b[36m62\u001b[0m - \u001b[1mInvoking model to rectify grammar and spelling of the content.\u001b[0m\n",
      "\u001b[32m2024-10-08 10:58:01.307\u001b[0m | \u001b[1mINFO    \u001b[0m | \u001b[36mavahiplatform.grammarCorrection\u001b[0m:\u001b[36mmodel_invoke\u001b[0m:\u001b[36m80\u001b[0m - \u001b[1mModel invocation successful. Total cost: $0.003147\u001b[0m\n",
      "\u001b[32m2024-10-08 10:58:01.311\u001b[0m | \u001b[1mINFO    \u001b[0m | \u001b[36mavahiplatform.grammarCorrection\u001b[0m:\u001b[36m_get_bedrock_client\u001b[0m:\u001b[36m31\u001b[0m - \u001b[1mNo explicit credentials provided. Attempting to use default credentials.\u001b[0m\n",
      "\u001b[32m2024-10-08 10:58:01.325\u001b[0m | \u001b[1mINFO    \u001b[0m | \u001b[36mavahiplatform.grammarCorrection\u001b[0m:\u001b[36m_get_model_details\u001b[0m:\u001b[36m112\u001b[0m - \u001b[1mUsing model: anthropic.claude-3-sonnet-20240229-v1:0\u001b[0m\n",
      "\u001b[32m2024-10-08 10:58:01.326\u001b[0m | \u001b[1mINFO    \u001b[0m | \u001b[36mavahiplatform.grammarCorrection\u001b[0m:\u001b[36mmodel_invoke\u001b[0m:\u001b[36m62\u001b[0m - \u001b[1mInvoking model to rectify grammar and spelling of the content.\u001b[0m\n",
      "\u001b[32m2024-10-08 10:58:03.871\u001b[0m | \u001b[1mINFO    \u001b[0m | \u001b[36mavahiplatform.grammarCorrection\u001b[0m:\u001b[36mmodel_invoke\u001b[0m:\u001b[36m80\u001b[0m - \u001b[1mModel invocation successful. Total cost: $0.002928\u001b[0m\n"
     ]
    },
    {
     "name": "stdout",
     "output_type": "stream",
     "text": [
      "Total time taken by avahiplatform for 10 articles: 57.456849575042725\n",
      "Avaerage time taken by avahiplatform for 10 articles: 5.745684957504272\n"
     ]
    }
   ],
   "source": [
    "total_time = 0\n",
    "all_response_list = []\n",
    "\n",
    "for text in all_articles_list:\n",
    "    start_time = time.time()\n",
    "    response, input_tokens, output_tokens, cost = avahiplatform.grammarAssistant(text)\n",
    "    all_response_list.append(response)\n",
    "    time_taken = time.time() - start_time\n",
    "    total_time += time_taken\n",
    "average_time = total_time / len(all_articles_list)\n",
    "\n",
    "print(f\"Total time taken by avahiplatform for 10 articles: {total_time}\")\n",
    "print(f\"Avaerage time taken by avahiplatform for 10 articles: {average_time}\")"
   ]
  },
  {
   "cell_type": "markdown",
   "id": "3b9c4add-98c1-4a89-92fc-4acf3dfcdb48",
   "metadata": {},
   "source": [
    "# CSV querying"
   ]
  },
  {
   "cell_type": "code",
   "execution_count": 20,
   "id": "8fc75699-6168-488c-8bd7-5239bf8d25a4",
   "metadata": {
    "tags": []
   },
   "outputs": [
    {
     "name": "stdout",
     "output_type": "stream",
     "text": [
      "The average hours studied when parental involvement is low is 20.13462976813762.\n",
      "Total time taken by langchain-aws: 7.44120192527771\n"
     ]
    }
   ],
   "source": [
    "start_time = time.time()\n",
    "query = \"What are the average hours studies when parental involvement is low?\"\n",
    "model_kwargs_claude = {\"temperature\": 0, \"top_p\": 0.2, \"max_tokens\": 250}\n",
    "llm = ChatBedrock(model_id=\"anthropic.claude-3-sonnet-20240229-v1:0\", model_kwargs=model_kwargs_claude)\n",
    "df = pd.read_csv(\"./StudentPerformanceFactors.csv\")\n",
    "agent = create_pandas_dataframe_agent(\n",
    "            llm,\n",
    "            df,\n",
    "            verbose=False,\n",
    "            agent_type=AgentType.ZERO_SHOT_REACT_DESCRIPTION,\n",
    "            allow_dangerous_code=True\n",
    "            )\n",
    "\n",
    "agent_response = agent.invoke(query)['output']\n",
    "total_time = time.time() - start_time\n",
    "print(agent_response)\n",
    "print(f\"Total time taken by langchain-aws: {total_time}\")"
   ]
  },
  {
   "cell_type": "code",
   "execution_count": 21,
   "id": "24196a0e-876f-434f-aa1b-34b66ea33bc3",
   "metadata": {
    "tags": []
   },
   "outputs": [
    {
     "name": "stderr",
     "output_type": "stream",
     "text": [
      "\u001b[32m2024-10-08 11:07:51.705\u001b[0m | \u001b[1mINFO    \u001b[0m | \u001b[36mavahiplatform.query_csv\u001b[0m:\u001b[36m_get_bedrock_client\u001b[0m:\u001b[36m86\u001b[0m - \u001b[1mNo explicit credentials provided. Attempting to use default credentials.\u001b[0m\n",
      "\u001b[32m2024-10-08 11:07:51.739\u001b[0m | \u001b[1mINFO    \u001b[0m | \u001b[36mavahiplatform.query_csv\u001b[0m:\u001b[36m_get_model_details\u001b[0m:\u001b[36m226\u001b[0m - \u001b[1mUsing model: anthropic.claude-3-sonnet-20240229-v1:0\u001b[0m\n"
     ]
    },
    {
     "name": "stdout",
     "output_type": "stream",
     "text": [
      "<class 'pandas.core.frame.DataFrame'>\n",
      "RangeIndex: 6607 entries, 0 to 6606\n",
      "Columns: 20 entries, Hours_Studied to Exam_Score\n",
      "dtypes: int64(7), object(13)\n",
      "memory usage: 1.0+ MB\n"
     ]
    },
    {
     "name": "stderr",
     "output_type": "stream",
     "text": [
      "\u001b[32m2024-10-08 11:07:54.120\u001b[0m | \u001b[1mINFO    \u001b[0m | \u001b[36mavahiplatform.query_csv\u001b[0m:\u001b[36m_execute_query\u001b[0m:\u001b[36m165\u001b[0m - \u001b[1massistant_message: df1.loc[df1['Parental_Involvement'] == 'Low', 'Hours_Studied'].mean()\u001b[0m\n",
      "\u001b[32m2024-10-08 11:07:54.122\u001b[0m | \u001b[1mINFO    \u001b[0m | \u001b[36mavahiplatform.query_csv\u001b[0m:\u001b[36mmodel_invoke\u001b[0m:\u001b[36m104\u001b[0m - \u001b[1mquery output: 20.13462976813762\u001b[0m\n"
     ]
    },
    {
     "name": "stdout",
     "output_type": "stream",
     "text": [
      "The average hours studied when parental involvement is low is 20.13462976813762.\n",
      "Total time taken by avahiplatform: 2.9465699195861816\n"
     ]
    }
   ],
   "source": [
    "start_time = time.time()\n",
    "user_query = \"What are the average hours studies when parental involvement is low?\"\n",
    "csv_files = {\n",
    "    \"df1\": \"./StudentPerformanceFactors.csv\"\n",
    "}\n",
    "csv_file_path = \"./StudentPerformanceFactors.csv\"\n",
    "csv_answer = avahiplatform.query_csv(user_query, csv_files)\n",
    "total_time = time.time() - start_time\n",
    "print(csv_answer)\n",
    "print(f\"Total time taken by avahiplatform: {total_time}\")"
   ]
  },
  {
   "cell_type": "markdown",
   "id": "03c821d4-2e73-4c37-872b-4a9cf3192e69",
   "metadata": {},
   "source": [
    "# NL2SQL"
   ]
  },
  {
   "cell_type": "code",
   "execution_count": 22,
   "id": "99aada50-4dfb-45e7-8aa9-7203a078bf0a",
   "metadata": {
    "tags": []
   },
   "outputs": [],
   "source": [
    "db_type=os.getenv(\"db_type\")\n",
    "username_db=os.getenv(\"username_db\")\n",
    "password=os.getenv(\"password\")\n",
    "host=os.getenv(\"host\")\n",
    "dbname=os.getenv(\"dbname\")"
   ]
  },
  {
   "cell_type": "code",
   "execution_count": 23,
   "id": "7c899d6b-c843-43d9-9a23-358cd82db1b5",
   "metadata": {
    "tags": []
   },
   "outputs": [
    {
     "name": "stdout",
     "output_type": "stream",
     "text": [
      "This database is used for managing user accounts, defining permissions, and potentially issuing API keys to users based on their granted permissions. It allows tracking which users belong to which teams, have admin privileges, and have been granted specific permissions and API keys for accessing tools or services.\n",
      "Total time taken by langchain-aws: 26.77446722984314\n"
     ]
    }
   ],
   "source": [
    "start_time = time.time()\n",
    "# Setup database\n",
    "db = SQLDatabase.from_uri(\n",
    "    f\"postgresql+psycopg2://{username_db}:{password}@{host}:5432/{dbname}\",\n",
    ")\n",
    "# question = \"what this table is about?\"\n",
    "model_kwargs_claude = {\"temperature\": 0, \"top_p\": 0.2, \"max_tokens\": 250}\n",
    "llm = ChatBedrock(model_id=\"anthropic.claude-3-sonnet-20240229-v1:0\", model_kwargs=model_kwargs_claude)\n",
    "toolkit = SQLDatabaseToolkit(db=db, llm=llm)\n",
    "\n",
    "agent_executor = create_sql_agent(\n",
    "llm=llm,\n",
    "toolkit=toolkit,\n",
    "verbose=False,\n",
    "agent_type=AgentType.ZERO_SHOT_REACT_DESCRIPTION,\n",
    ")\n",
    "answer = agent_executor.invoke(\"what this table is about?\")[\"output\"]\n",
    "print(answer)\n",
    "total_time = time.time() - start_time\n",
    "print(f\"Total time taken by langchain-aws: {total_time}\")"
   ]
  },
  {
   "cell_type": "code",
   "execution_count": 24,
   "id": "c0619db6-e0bb-4e36-90c2-fdbcf82e4cde",
   "metadata": {
    "tags": []
   },
   "outputs": [
    {
     "name": "stderr",
     "output_type": "stream",
     "text": [
      "\u001b[32m2024-10-08 11:09:54.943\u001b[0m | \u001b[1mINFO    \u001b[0m | \u001b[36mavahiplatform.nl2sql\u001b[0m:\u001b[36m_get_bedrock_client\u001b[0m:\u001b[36m30\u001b[0m - \u001b[1mNo explicit credentials provided. Attempting to use default credentials.\u001b[0m\n",
      "\u001b[32m2024-10-08 11:09:54.951\u001b[0m | \u001b[1mINFO    \u001b[0m | \u001b[36mavahiplatform.nl2sql\u001b[0m:\u001b[36m_get_model_details\u001b[0m:\u001b[36m158\u001b[0m - \u001b[1mUsing model: anthropic.claude-3-sonnet-20240229-v1:0\u001b[0m\n"
     ]
    },
    {
     "name": "stdout",
     "output_type": "stream",
     "text": [
      "NL2SQL Result: The database schema you provided consists of four tables:\n",
      "\n",
      "1. **users**: This table stores information about users, including their user_id, username, password, name, email, team, admin status, archive status, and timestamps for when the record was created and last updated.\n",
      "\n",
      "2. **apikeys**: This table stores API keys associated with users. It contains columns for the api_key_id, user_id (linking it to the users table), openai_api_key, bedrock_api_key, archive status, and timestamps for creation and last update.\n",
      "\n",
      "3. **userpermissions**: This table acts as a junction table between users and permissions. It contains columns for the user_permission_id, user_id (linking it to the users table), and permission_id (linking it to the permissions table).\n",
      "\n",
      "4. **permissions**: This table stores information about different permissions. It has columns for the permission_id and permission_name.\n",
      "\n",
      "The schema suggests that this database is used to manage user accounts, their associated API keys, and permissions. The userpermissions table allows for a many-to-many relationship between users and permissions, enabling flexible permission management for different user roles or access levels.\n",
      "Total time taken by avahiplatform: 6.856053352355957\n"
     ]
    }
   ],
   "source": [
    "start_time = time.time()\n",
    "nl2sql_result = avahiplatform.nl2sql(\"what this table is about?\",\n",
    "                                      db_type=db_type, username=username_db, password=password,\n",
    "                                      host=host, port=5432, dbname=dbname)\n",
    "print(\"NL2SQL Result:\", nl2sql_result)\n",
    "total_time = time.time() - start_time\n",
    "print(f\"Total time taken by avahiplatform: {total_time}\")"
   ]
  },
  {
   "cell_type": "code",
   "execution_count": null,
   "id": "72027f7d-9396-44af-b8f9-2f6e05ae27e8",
   "metadata": {},
   "outputs": [],
   "source": []
  }
 ],
 "metadata": {
  "kernelspec": {
   "display_name": "conda_python3",
   "language": "python",
   "name": "conda_python3"
  },
  "language_info": {
   "codemirror_mode": {
    "name": "ipython",
    "version": 3
   },
   "file_extension": ".py",
   "mimetype": "text/x-python",
   "name": "python",
   "nbconvert_exporter": "python",
   "pygments_lexer": "ipython3",
   "version": "3.10.14"
  }
 },
 "nbformat": 4,
 "nbformat_minor": 5
}
