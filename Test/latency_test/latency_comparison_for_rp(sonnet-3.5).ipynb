{
 "cells": [
  {
   "cell_type": "code",
   "execution_count": 1,
   "id": "327aa61c-6546-4a8c-a728-2c268cc3cf39",
   "metadata": {
    "tags": []
   },
   "outputs": [],
   "source": [
    "from langchain_aws import ChatBedrock\n",
    "from langchain_experimental.agents.agent_toolkits import create_pandas_dataframe_agent\n",
    "import time\n",
    "import avahiplatform\n",
    "import pandas as pd\n",
    "from langchain.agents import create_sql_agent\n",
    "from langchain.agents.agent_types import AgentType\n",
    "from langchain.sql_database import SQLDatabase\n",
    "from langchain_community.agent_toolkits import SQLDatabaseToolkit\n",
    "from dotenv import load_dotenv\n",
    "import os"
   ]
  },
  {
   "cell_type": "code",
   "execution_count": 2,
   "id": "373d5f9a-4031-4445-a557-9f1aaade8c95",
   "metadata": {
    "tags": []
   },
   "outputs": [
    {
     "data": {
      "text/plain": [
       "True"
      ]
     },
     "execution_count": 2,
     "metadata": {},
     "output_type": "execute_result"
    }
   ],
   "source": [
    "load_dotenv(\"sdk.env\")"
   ]
  },
  {
   "cell_type": "code",
   "execution_count": 3,
   "id": "4e42973d-995c-4871-b4ce-691a93b746ed",
   "metadata": {
    "tags": []
   },
   "outputs": [],
   "source": [
    "article_1 = \"\"\"\"**Apple Camp returns with free sessions for kids aged 6 to 10 years old**\n",
    "*By Rich Demuro*\n",
    "*(KTLA) -- Apple Camp is back in session, offering free workshops at Apple stores across the country. The theme this year: Exploring new worlds and telling stories inspired by kindness.*\n",
    "*\"\"It taught me how to do stuff that I never knew how to do,\"\" said Grace Kinsera, an Apple Creative Pro.*\n",
    "*The free, 90-minute sessions are designed for children ages 6 to 10 years old. They're held throughout the summer.*\n",
    "*This particular session focuses on using the iPad to create an interactive storybook.*\n",
    "*\"\"They're creating animations, they're adding AR shapes, 3D shapes, taking AR photos where they place the 3D shapes in the world around them,\"\" said Kinsera.*\n",
    "*Kids learn new skills on familiar devices, and sometimes parents do too.*\n",
    "*\"\"I'm watching some stuff now that I was like, 'I didn't know that my iPad could do that,'\"\" said Mili Patel, a parent.*\n",
    "*There are bigger lessons as well.*\n",
    "*The apple company is located in California and Mumbai and Pune.*\n",
    "*\"\"There's always room for more kindness, and to get these kids thinking about it in a thoughtful, creative way early on is wonderful,\"\" said Kinsera.*\n",
    "*Apple Camp is part of a larger initiative called Today at Apple, which offers free, hands-on sessions that teach valuable skills and hidden tricks.*\n",
    "*\"\"We all want our kids to learn about technology, but in a safe way. This is a great opportunity for them to do that,\"\" said Patel.*\n",
    "*Sign-up is open now. Sessions run through the end of July. All campers get a free T-shirt, too!*\n",
    "*My name is John and my mail id is johnwick009@gmail.com*. I live in 132, My Street, Kingston, New York 12401, America. My phone number is 98989898987. And my Social security number is AAA-GG-SSSS.\n",
    "*To sign up, visit apple.com/today.*\n",
    "*Copyright 2023 Nexstar Media Inc. All rights reserved. This material may not be published, broadcast, rewritten, or redistributed.*\"\n",
    "\"\"\"\n",
    "\n",
    "article_2 = \"\"\"\n",
    "Understanding Cybersecurity Threats in 2024\n",
    "Cybersecurity has become a paramount concern for businesses globally. As hackers grow more sophisticated, the need for robust cybersecurity strategies is essential. John Doe, an IT specialist at SecureNet Solutions, commented on the evolving nature of threats, stating, \"We're seeing more targeted attacks than ever before.\" His email, john.doe@securenetsolutions.com, is often flooded with phishing attempts that mimic legitimate business communications. One such attack targeted the financial department, requesting sensitive details such as Jane Smith's social security number (SSN: 123-45-6789). These fraudulent emails have become increasingly difficult to detect.\n",
    "\n",
    "In 2023 alone, it was estimated that over 80% of companies experienced some form of cyberattack. The CEO of CyberTech Corp, Michael Thompson, mentioned in a recent interview that \"organizations must invest in advanced encryption technologies to safeguard their data.\" Michael can be reached for further insights at michael.thompson@cybertech.com. With a growing number of ransomware cases, protecting sensitive data like social security numbers, banking information, and personal identification has never been more critical.\n",
    "\"\"\"\n",
    "\n",
    "article_3 = \"\"\"\n",
    "The Role of Artificial Intelligence in Healthcare\n",
    "Artificial Intelligence (AI) is revolutionizing the healthcare industry, from diagnostics to patient care. Dr. Sarah Lee, a leading AI researcher at MediTech Innovations, has been instrumental in developing AI tools that help doctors make faster, more accurate diagnoses. \"AI has the potential to change the way we treat diseases like cancer,\" she said in a recent webinar. Sarah’s contact, sarah.lee@meditechinnovations.com, is available for further inquiries about the project.\n",
    "\n",
    "An exciting development from MediTech is a new AI-powered tool that can analyze medical records and flag potential health risks. This tool has helped Robert Miller, a patient who had an undiagnosed heart condition, receive timely treatment. \"If it wasn't for this technology, I wouldn't be here today,\" Robert mentioned. His patient ID (Patient ID: RM2023H567) was flagged during a routine check-up. Privacy and patient confidentiality remain a top priority, with all sensitive data encrypted and stored securely.\n",
    "\"\"\"\n",
    "\n",
    "article_4 = \"\"\"\n",
    "The Growing Importance of Data Privacy\n",
    "Data privacy has become one of the most critical issues in the digital age. With the introduction of stricter regulations like the General Data Protection Regulation (GDPR), companies are under increasing pressure to protect user information. Anna Roberts, a data privacy consultant at SecureData Solutions, noted that \"businesses must be transparent about how they handle customer data.\" For more information, Anna can be reached at anna.roberts@securedata.com.\n",
    "\n",
    "One case involved client ID 1459, where a data breach led to the exposure of David Harris's personal information, including his credit card number (CC: 1234 5678 9012 3456). The breach highlighted the vulnerabilities in data storage systems and the need for regular security audits. David's situation is not unique, as over 5 million records were compromised last year in similar attacks.\n",
    "\"\"\"\n",
    "\n",
    "article_5 = \"\"\"\n",
    "The Future of Electric Vehicles (EVs)\n",
    "As the world moves towards sustainability, electric vehicles (EVs) are becoming more popular. Tom Jenkins, an automotive engineer at GreenDrive Motors, shared his thoughts on the future of EVs, stating, \"We are on the brink of a transportation revolution.\" You can contact Tom at tom.jenkins@greendrive.com for more details on their upcoming projects.\n",
    "\n",
    "One recent buyer, Emily Parker, registered her vehicle under Vehicle Registration Number: EV456789. She commented, \"Switching to an electric vehicle has been a game-changer for me.\" Emily's experience highlights the growing consumer demand for eco-friendly transportation options. However, the industry still faces challenges such as battery longevity and charging infrastructure.\n",
    "\"\"\"\n",
    "\n",
    "article_6 = \"\"\"\n",
    "The Evolution of E-commerce\n",
    "E-commerce has transformed the way we shop, especially in the post-pandemic era. Mark Wilson, the CEO of ShopEase, a popular online marketplace, noted that \"e-commerce will continue to grow as more consumers embrace online shopping.\" Mark can be contacted for media inquiries at mark.wilson@shopease.com.\n",
    "\n",
    "One of ShopEase’s regular customers, Customer ID: 456123, Lily Watson, recently shared her experience shopping online: \"It's convenient, but there are still concerns about data security.\" Lily had a scare when a phishing email requested her billing information, falsely claiming it was from ShopEase. These incidents have raised awareness about online fraud and the importance of secure payment systems.\n",
    "\"\"\"\n",
    "\n",
    "article_7 = \"\"\"\n",
    "The Benefits of Cloud Computing\n",
    "Cloud computing is becoming the backbone of modern IT infrastructures. Chris Evans, a cloud solutions architect at CloudSync, said, \"The cloud has revolutionized the way businesses store and access data.\" Chris can be contacted at chris.evans@cloudsync.com for more insights on cloud migration strategies.\n",
    "\n",
    "Recently, Project ID CS7890, led by Amy Johnson, moved their entire IT infrastructure to the cloud, saving them significant costs. \"We were initially concerned about data security,\" said Amy, \"but after implementing encryption and multi-factor authentication, we feel more secure than ever.\" Amy's team ensured that sensitive customer data, including John Peterson's personal records (SSN: 987-65-4321), were securely stored on encrypted cloud servers.\n",
    "\"\"\"\n",
    "\n",
    "article_8 = \"\"\"\n",
    "The Rise of Cryptocurrency\n",
    "Cryptocurrency continues to gain momentum as an alternative financial system. Daniel Carter, a blockchain developer at CryptoBase, noted, \"We are seeing more mainstream adoption of cryptocurrencies like Bitcoin and Ethereum.\" Daniel can be reached at daniel.carter@cryptobase.com for more insights.\n",
    "\n",
    "Recently, CryptoWallet ID: BTC987654, owned by Rachel Adams, saw a significant increase in value. Rachel shared, \"Investing in cryptocurrency has been both exciting and nerve-wracking. The volatility is real, but the potential returns are worth it.\" As more people like Rachel invest in cryptocurrencies, ensuring the security of digital wallets and transactions remains a top priority.\n",
    "\"\"\"\n",
    "\n",
    "article_9 = \"\"\"\n",
    "Advancements in Renewable Energy\n",
    "The renewable energy sector is seeing unprecedented growth, with innovations in solar, wind, and geothermal energy. Laura King, a renewable energy specialist at EcoPower Solutions, explained, \"We are on the verge of a green energy revolution.\" Laura’s contact, laura.king@ecopowersolutions.com, is available for any renewable energy-related queries.\n",
    "\n",
    "EcoPower recently installed a solar energy system for Client ID: SOL12345, George Williams, who commented, \"Switching to solar energy has reduced my electricity bills by 60%.\" George's installation is part of a larger trend of individuals and businesses adopting clean energy solutions to reduce their carbon footprint.\n",
    "\"\"\"\n",
    "\n",
    "article_10 = \"\"\"\n",
    "The Future of Smart Homes\n",
    "Smart homes are no longer a futuristic concept; they are becoming a reality. James Turner, a smart home technology consultant at HomeTech Innovations, believes that \"the integration of smart devices will redefine the way we live.\" James is reachable at james.turner@hometech.com for inquiries on smart home installations.\n",
    "\n",
    "Susan Brooks, who recently installed a complete smart home system under HomeTech ID: HT99876, mentioned, \"It’s incredible how much control I have over my home—from security to lighting, all from my phone.\" Susan’s home is now equipped with the latest in smart security systems, ensuring that her sensitive personal data, including her home address (123 Main St., Anytown, USA), remains protected with top-tier encryption.\n",
    "\"\"\""
   ]
  },
  {
   "cell_type": "code",
   "execution_count": 4,
   "id": "0b8e0edc-d517-4ad1-9ffe-a9c5299046f4",
   "metadata": {
    "tags": []
   },
   "outputs": [],
   "source": [
    "all_articles_list = [article_1, article_2, article_3, article_4, article_5,\n",
    "                     article_6, article_7, article_8, article_9, article_10]"
   ]
  },
  {
   "cell_type": "markdown",
   "id": "51cbfb82-52a6-43d9-b8b9-ddc06e071689",
   "metadata": {
    "tags": []
   },
   "source": [
    "# Summarization"
   ]
  },
  {
   "cell_type": "code",
   "execution_count": 6,
   "id": "f5367c96-5c1c-4a39-a40a-0122a0d91145",
   "metadata": {
    "tags": []
   },
   "outputs": [
    {
     "name": "stdout",
     "output_type": "stream",
     "text": [
      "Total time taken by langchain-aws for 10 articles: 33.98214101791382\n",
      "Avaerage time taken by langchain-aws for 10 articles: 3.398214101791382\n"
     ]
    }
   ],
   "source": [
    "total_time = 0\n",
    "all_response_list = []\n",
    "\n",
    "for text in all_articles_list:\n",
    "    start_time = time.time()\n",
    "    model_kwargs_claude = {\"temperature\": 0, \"top_p\": 0.2, \"max_tokens\": 1000}\n",
    "    llm = ChatBedrock(model_id=\"anthropic.claude-3-5-sonnet-20240620-v1:0\", model_kwargs=model_kwargs_claude)\n",
    "    prompt = f\"\"\"Please summarize the following text: {text}\"\"\"\n",
    "    response = llm.invoke(prompt)\n",
    "    all_response_list.append(response)\n",
    "    time_taken = time.time() - start_time\n",
    "    total_time += time_taken\n",
    "    # print(response)\n",
    "average_time = total_time / len(all_articles_list)\n",
    "\n",
    "print(f\"Total time taken by langchain-aws for 10 articles: {total_time}\")\n",
    "print(f\"Avaerage time taken by langchain-aws for 10 articles: {average_time}\")"
   ]
  },
  {
   "cell_type": "code",
   "execution_count": 7,
   "id": "ccc67df6-6f61-40b3-9f24-68a29927c639",
   "metadata": {
    "tags": []
   },
   "outputs": [
    {
     "name": "stderr",
     "output_type": "stream",
     "text": [
      "\u001b[32m2024-10-08 11:24:36.268\u001b[0m | \u001b[1mINFO    \u001b[0m | \u001b[36mavahiplatform.summarizer\u001b[0m:\u001b[36m_get_bedrock_client\u001b[0m:\u001b[36m31\u001b[0m - \u001b[1mNo explicit credentials provided. Attempting to use default credentials.\u001b[0m\n",
      "\u001b[32m2024-10-08 11:24:36.362\u001b[0m | \u001b[1mINFO    \u001b[0m | \u001b[36mavahiplatform.summarizer\u001b[0m:\u001b[36m_get_model_details\u001b[0m:\u001b[36m112\u001b[0m - \u001b[1mUsing model: anthropic.claude-3-5-sonnet-20240620-v1:0\u001b[0m\n",
      "\u001b[32m2024-10-08 11:24:36.364\u001b[0m | \u001b[1mINFO    \u001b[0m | \u001b[36mavahiplatform.summarizer\u001b[0m:\u001b[36mmodel_invoke\u001b[0m:\u001b[36m62\u001b[0m - \u001b[1mInvoking model to summarize content.\u001b[0m\n",
      "\u001b[32m2024-10-08 11:24:41.211\u001b[0m | \u001b[1mINFO    \u001b[0m | \u001b[36mavahiplatform.summarizer\u001b[0m:\u001b[36mmodel_invoke\u001b[0m:\u001b[36m80\u001b[0m - \u001b[1mModel invocation successful. Total cost: $0.004428\u001b[0m\n",
      "\u001b[32m2024-10-08 11:24:41.214\u001b[0m | \u001b[1mINFO    \u001b[0m | \u001b[36mavahiplatform.summarizer\u001b[0m:\u001b[36m_get_bedrock_client\u001b[0m:\u001b[36m31\u001b[0m - \u001b[1mNo explicit credentials provided. Attempting to use default credentials.\u001b[0m\n",
      "\u001b[32m2024-10-08 11:24:41.219\u001b[0m | \u001b[1mINFO    \u001b[0m | \u001b[36mavahiplatform.summarizer\u001b[0m:\u001b[36m_get_model_details\u001b[0m:\u001b[36m112\u001b[0m - \u001b[1mUsing model: anthropic.claude-3-5-sonnet-20240620-v1:0\u001b[0m\n",
      "\u001b[32m2024-10-08 11:24:41.220\u001b[0m | \u001b[1mINFO    \u001b[0m | \u001b[36mavahiplatform.summarizer\u001b[0m:\u001b[36mmodel_invoke\u001b[0m:\u001b[36m62\u001b[0m - \u001b[1mInvoking model to summarize content.\u001b[0m\n",
      "\u001b[32m2024-10-08 11:24:45.438\u001b[0m | \u001b[1mINFO    \u001b[0m | \u001b[36mavahiplatform.summarizer\u001b[0m:\u001b[36mmodel_invoke\u001b[0m:\u001b[36m80\u001b[0m - \u001b[1mModel invocation successful. Total cost: $0.003447\u001b[0m\n",
      "\u001b[32m2024-10-08 11:24:45.442\u001b[0m | \u001b[1mINFO    \u001b[0m | \u001b[36mavahiplatform.summarizer\u001b[0m:\u001b[36m_get_bedrock_client\u001b[0m:\u001b[36m31\u001b[0m - \u001b[1mNo explicit credentials provided. Attempting to use default credentials.\u001b[0m\n",
      "\u001b[32m2024-10-08 11:24:45.446\u001b[0m | \u001b[1mINFO    \u001b[0m | \u001b[36mavahiplatform.summarizer\u001b[0m:\u001b[36m_get_model_details\u001b[0m:\u001b[36m112\u001b[0m - \u001b[1mUsing model: anthropic.claude-3-5-sonnet-20240620-v1:0\u001b[0m\n",
      "\u001b[32m2024-10-08 11:24:45.447\u001b[0m | \u001b[1mINFO    \u001b[0m | \u001b[36mavahiplatform.summarizer\u001b[0m:\u001b[36mmodel_invoke\u001b[0m:\u001b[36m62\u001b[0m - \u001b[1mInvoking model to summarize content.\u001b[0m\n",
      "\u001b[32m2024-10-08 11:24:48.893\u001b[0m | \u001b[1mINFO    \u001b[0m | \u001b[36mavahiplatform.summarizer\u001b[0m:\u001b[36mmodel_invoke\u001b[0m:\u001b[36m80\u001b[0m - \u001b[1mModel invocation successful. Total cost: $0.002928\u001b[0m\n",
      "\u001b[32m2024-10-08 11:24:48.897\u001b[0m | \u001b[1mINFO    \u001b[0m | \u001b[36mavahiplatform.summarizer\u001b[0m:\u001b[36m_get_bedrock_client\u001b[0m:\u001b[36m31\u001b[0m - \u001b[1mNo explicit credentials provided. Attempting to use default credentials.\u001b[0m\n",
      "\u001b[32m2024-10-08 11:24:48.907\u001b[0m | \u001b[1mINFO    \u001b[0m | \u001b[36mavahiplatform.summarizer\u001b[0m:\u001b[36m_get_model_details\u001b[0m:\u001b[36m112\u001b[0m - \u001b[1mUsing model: anthropic.claude-3-5-sonnet-20240620-v1:0\u001b[0m\n",
      "\u001b[32m2024-10-08 11:24:48.908\u001b[0m | \u001b[1mINFO    \u001b[0m | \u001b[36mavahiplatform.summarizer\u001b[0m:\u001b[36mmodel_invoke\u001b[0m:\u001b[36m62\u001b[0m - \u001b[1mInvoking model to summarize content.\u001b[0m\n",
      "\u001b[32m2024-10-08 11:24:52.003\u001b[0m | \u001b[1mINFO    \u001b[0m | \u001b[36mavahiplatform.summarizer\u001b[0m:\u001b[36mmodel_invoke\u001b[0m:\u001b[36m80\u001b[0m - \u001b[1mModel invocation successful. Total cost: $0.002571\u001b[0m\n",
      "\u001b[32m2024-10-08 11:24:52.010\u001b[0m | \u001b[1mINFO    \u001b[0m | \u001b[36mavahiplatform.summarizer\u001b[0m:\u001b[36m_get_bedrock_client\u001b[0m:\u001b[36m31\u001b[0m - \u001b[1mNo explicit credentials provided. Attempting to use default credentials.\u001b[0m\n",
      "\u001b[32m2024-10-08 11:24:52.377\u001b[0m | \u001b[1mINFO    \u001b[0m | \u001b[36mavahiplatform.summarizer\u001b[0m:\u001b[36m_get_model_details\u001b[0m:\u001b[36m112\u001b[0m - \u001b[1mUsing model: anthropic.claude-3-5-sonnet-20240620-v1:0\u001b[0m\n",
      "\u001b[32m2024-10-08 11:24:52.378\u001b[0m | \u001b[1mINFO    \u001b[0m | \u001b[36mavahiplatform.summarizer\u001b[0m:\u001b[36mmodel_invoke\u001b[0m:\u001b[36m62\u001b[0m - \u001b[1mInvoking model to summarize content.\u001b[0m\n",
      "\u001b[32m2024-10-08 11:24:55.618\u001b[0m | \u001b[1mINFO    \u001b[0m | \u001b[36mavahiplatform.summarizer\u001b[0m:\u001b[36mmodel_invoke\u001b[0m:\u001b[36m80\u001b[0m - \u001b[1mModel invocation successful. Total cost: $0.002436\u001b[0m\n",
      "\u001b[32m2024-10-08 11:24:55.625\u001b[0m | \u001b[1mINFO    \u001b[0m | \u001b[36mavahiplatform.summarizer\u001b[0m:\u001b[36m_get_bedrock_client\u001b[0m:\u001b[36m31\u001b[0m - \u001b[1mNo explicit credentials provided. Attempting to use default credentials.\u001b[0m\n",
      "\u001b[32m2024-10-08 11:24:55.634\u001b[0m | \u001b[1mINFO    \u001b[0m | \u001b[36mavahiplatform.summarizer\u001b[0m:\u001b[36m_get_model_details\u001b[0m:\u001b[36m112\u001b[0m - \u001b[1mUsing model: anthropic.claude-3-5-sonnet-20240620-v1:0\u001b[0m\n",
      "\u001b[32m2024-10-08 11:24:55.637\u001b[0m | \u001b[1mINFO    \u001b[0m | \u001b[36mavahiplatform.summarizer\u001b[0m:\u001b[36mmodel_invoke\u001b[0m:\u001b[36m62\u001b[0m - \u001b[1mInvoking model to summarize content.\u001b[0m\n",
      "\u001b[32m2024-10-08 11:24:57.785\u001b[0m | \u001b[1mINFO    \u001b[0m | \u001b[36mavahiplatform.summarizer\u001b[0m:\u001b[36mmodel_invoke\u001b[0m:\u001b[36m80\u001b[0m - \u001b[1mModel invocation successful. Total cost: $0.001884\u001b[0m\n",
      "\u001b[32m2024-10-08 11:24:57.789\u001b[0m | \u001b[1mINFO    \u001b[0m | \u001b[36mavahiplatform.summarizer\u001b[0m:\u001b[36m_get_bedrock_client\u001b[0m:\u001b[36m31\u001b[0m - \u001b[1mNo explicit credentials provided. Attempting to use default credentials.\u001b[0m\n",
      "\u001b[32m2024-10-08 11:24:57.795\u001b[0m | \u001b[1mINFO    \u001b[0m | \u001b[36mavahiplatform.summarizer\u001b[0m:\u001b[36m_get_model_details\u001b[0m:\u001b[36m112\u001b[0m - \u001b[1mUsing model: anthropic.claude-3-5-sonnet-20240620-v1:0\u001b[0m\n",
      "\u001b[32m2024-10-08 11:24:57.796\u001b[0m | \u001b[1mINFO    \u001b[0m | \u001b[36mavahiplatform.summarizer\u001b[0m:\u001b[36mmodel_invoke\u001b[0m:\u001b[36m62\u001b[0m - \u001b[1mInvoking model to summarize content.\u001b[0m\n",
      "\u001b[32m2024-10-08 11:25:00.136\u001b[0m | \u001b[1mINFO    \u001b[0m | \u001b[36mavahiplatform.summarizer\u001b[0m:\u001b[36mmodel_invoke\u001b[0m:\u001b[36m80\u001b[0m - \u001b[1mModel invocation successful. Total cost: $0.002067\u001b[0m\n",
      "\u001b[32m2024-10-08 11:25:00.140\u001b[0m | \u001b[1mINFO    \u001b[0m | \u001b[36mavahiplatform.summarizer\u001b[0m:\u001b[36m_get_bedrock_client\u001b[0m:\u001b[36m31\u001b[0m - \u001b[1mNo explicit credentials provided. Attempting to use default credentials.\u001b[0m\n",
      "\u001b[32m2024-10-08 11:25:00.150\u001b[0m | \u001b[1mINFO    \u001b[0m | \u001b[36mavahiplatform.summarizer\u001b[0m:\u001b[36m_get_model_details\u001b[0m:\u001b[36m112\u001b[0m - \u001b[1mUsing model: anthropic.claude-3-5-sonnet-20240620-v1:0\u001b[0m\n",
      "\u001b[32m2024-10-08 11:25:00.154\u001b[0m | \u001b[1mINFO    \u001b[0m | \u001b[36mavahiplatform.summarizer\u001b[0m:\u001b[36mmodel_invoke\u001b[0m:\u001b[36m62\u001b[0m - \u001b[1mInvoking model to summarize content.\u001b[0m\n",
      "\u001b[32m2024-10-08 11:25:03.722\u001b[0m | \u001b[1mINFO    \u001b[0m | \u001b[36mavahiplatform.summarizer\u001b[0m:\u001b[36mmodel_invoke\u001b[0m:\u001b[36m80\u001b[0m - \u001b[1mModel invocation successful. Total cost: $0.002211\u001b[0m\n",
      "\u001b[32m2024-10-08 11:25:03.726\u001b[0m | \u001b[1mINFO    \u001b[0m | \u001b[36mavahiplatform.summarizer\u001b[0m:\u001b[36m_get_bedrock_client\u001b[0m:\u001b[36m31\u001b[0m - \u001b[1mNo explicit credentials provided. Attempting to use default credentials.\u001b[0m\n",
      "\u001b[32m2024-10-08 11:25:03.737\u001b[0m | \u001b[1mINFO    \u001b[0m | \u001b[36mavahiplatform.summarizer\u001b[0m:\u001b[36m_get_model_details\u001b[0m:\u001b[36m112\u001b[0m - \u001b[1mUsing model: anthropic.claude-3-5-sonnet-20240620-v1:0\u001b[0m\n",
      "\u001b[32m2024-10-08 11:25:03.739\u001b[0m | \u001b[1mINFO    \u001b[0m | \u001b[36mavahiplatform.summarizer\u001b[0m:\u001b[36mmodel_invoke\u001b[0m:\u001b[36m62\u001b[0m - \u001b[1mInvoking model to summarize content.\u001b[0m\n",
      "\u001b[32m2024-10-08 11:25:06.617\u001b[0m | \u001b[1mINFO    \u001b[0m | \u001b[36mavahiplatform.summarizer\u001b[0m:\u001b[36mmodel_invoke\u001b[0m:\u001b[36m80\u001b[0m - \u001b[1mModel invocation successful. Total cost: $0.002280\u001b[0m\n",
      "\u001b[32m2024-10-08 11:25:06.622\u001b[0m | \u001b[1mINFO    \u001b[0m | \u001b[36mavahiplatform.summarizer\u001b[0m:\u001b[36m_get_bedrock_client\u001b[0m:\u001b[36m31\u001b[0m - \u001b[1mNo explicit credentials provided. Attempting to use default credentials.\u001b[0m\n",
      "\u001b[32m2024-10-08 11:25:06.626\u001b[0m | \u001b[1mINFO    \u001b[0m | \u001b[36mavahiplatform.summarizer\u001b[0m:\u001b[36m_get_model_details\u001b[0m:\u001b[36m112\u001b[0m - \u001b[1mUsing model: anthropic.claude-3-5-sonnet-20240620-v1:0\u001b[0m\n",
      "\u001b[32m2024-10-08 11:25:06.628\u001b[0m | \u001b[1mINFO    \u001b[0m | \u001b[36mavahiplatform.summarizer\u001b[0m:\u001b[36mmodel_invoke\u001b[0m:\u001b[36m62\u001b[0m - \u001b[1mInvoking model to summarize content.\u001b[0m\n",
      "\u001b[32m2024-10-08 11:25:09.468\u001b[0m | \u001b[1mINFO    \u001b[0m | \u001b[36mavahiplatform.summarizer\u001b[0m:\u001b[36mmodel_invoke\u001b[0m:\u001b[36m80\u001b[0m - \u001b[1mModel invocation successful. Total cost: $0.002031\u001b[0m\n"
     ]
    },
    {
     "name": "stdout",
     "output_type": "stream",
     "text": [
      "Total time taken by avahiplatform for 10 articles: 33.204132080078125\n",
      "Avaerage time taken by avahiplatform for 10 articles: 3.3204132080078126\n"
     ]
    }
   ],
   "source": [
    "total_time = 0\n",
    "all_response_list = []\n",
    "\n",
    "for text in all_articles_list:\n",
    "    start_time = time.time()\n",
    "    response, input_tokens, output_tokens, cost = avahiplatform.summarize(text, model_name=\"sonnet-3.5\")\n",
    "    all_response_list.append(response)\n",
    "    time_taken = time.time() - start_time\n",
    "    total_time += time_taken\n",
    "average_time = total_time / len(all_articles_list)\n",
    "\n",
    "print(f\"Total time taken by avahiplatform for 10 articles: {total_time}\")\n",
    "print(f\"Avaerage time taken by avahiplatform for 10 articles: {average_time}\")"
   ]
  },
  {
   "cell_type": "markdown",
   "id": "4d08100f-a5e5-4a8d-b322-0de54fc9bcaf",
   "metadata": {
    "tags": []
   },
   "source": [
    "# Structured information extraction"
   ]
  },
  {
   "cell_type": "code",
   "execution_count": 9,
   "id": "0a222760-83fa-412a-ab68-baaf2e4adacf",
   "metadata": {
    "tags": []
   },
   "outputs": [
    {
     "name": "stdout",
     "output_type": "stream",
     "text": [
      "Total time taken by langchain-aws for 10 articles: 11.964286088943481\n",
      "Avaerage time taken by langchain-aws for 10 articles: 1.196428608894348\n"
     ]
    }
   ],
   "source": [
    "total_time = 0\n",
    "all_response_list = []\n",
    "\n",
    "for text in all_articles_list:\n",
    "    start_time = time.time()\n",
    "    model_kwargs_claude = {\"temperature\": 0, \"top_p\": 0.2, \"max_tokens\": 1000}\n",
    "    llm = ChatBedrock(model_id=\"anthropic.claude-3-5-sonnet-20240620-v1:0\", model_kwargs=model_kwargs_claude)\n",
    "    prompt = f\"\"\"extract the below entities from this model in structured format:\n",
    "                1. Name:\n",
    "                2. Places:\n",
    "                Text: {text}\n",
    "                response should be json in below format\n",
    "                \"\"\" + \"\"\"response should be json in below format\n",
    "                {\"Name\": [\"Name1\", \"Name2\"],\"Places\": [\"Place1\",\"Place2\"]}\n",
    "                Make sure output has only json output. No other extra words\"\"\"\n",
    "    response = llm.invoke(prompt)\n",
    "    all_response_list.append(response)\n",
    "    time_taken = time.time() - start_time\n",
    "    total_time += time_taken\n",
    "    # print(response)\n",
    "average_time = total_time / len(all_articles_list)\n",
    "\n",
    "print(f\"Total time taken by langchain-aws for 10 articles: {total_time}\")\n",
    "print(f\"Avaerage time taken by langchain-aws for 10 articles: {average_time}\")"
   ]
  },
  {
   "cell_type": "code",
   "execution_count": 10,
   "id": "c4cccf24-3980-455d-a255-1c0c2dfcd231",
   "metadata": {
    "tags": []
   },
   "outputs": [
    {
     "name": "stderr",
     "output_type": "stream",
     "text": [
      "\u001b[32m2024-10-08 11:25:46.802\u001b[0m | \u001b[1mINFO    \u001b[0m | \u001b[36mavahiplatform.structredExtraction\u001b[0m:\u001b[36m_get_bedrock_client\u001b[0m:\u001b[36m31\u001b[0m - \u001b[1mNo explicit credentials provided. Attempting to use default credentials.\u001b[0m\n",
      "\u001b[32m2024-10-08 11:25:46.816\u001b[0m | \u001b[1mINFO    \u001b[0m | \u001b[36mavahiplatform.structredExtraction\u001b[0m:\u001b[36m_get_model_details\u001b[0m:\u001b[36m112\u001b[0m - \u001b[1mUsing model: anthropic.claude-3-5-sonnet-20240620-v1:0\u001b[0m\n",
      "\u001b[32m2024-10-08 11:25:46.818\u001b[0m | \u001b[1mINFO    \u001b[0m | \u001b[36mavahiplatform.structredExtraction\u001b[0m:\u001b[36mmodel_invoke\u001b[0m:\u001b[36m62\u001b[0m - \u001b[1mInvoking model to extracting content.\u001b[0m\n",
      "\u001b[32m2024-10-08 11:25:48.488\u001b[0m | \u001b[1mINFO    \u001b[0m | \u001b[36mavahiplatform.structredExtraction\u001b[0m:\u001b[36mmodel_invoke\u001b[0m:\u001b[36m80\u001b[0m - \u001b[1mModel invocation successful. Total cost: $0.002913\u001b[0m\n",
      "\u001b[32m2024-10-08 11:25:48.493\u001b[0m | \u001b[1mINFO    \u001b[0m | \u001b[36mavahiplatform.structredExtraction\u001b[0m:\u001b[36m_get_bedrock_client\u001b[0m:\u001b[36m31\u001b[0m - \u001b[1mNo explicit credentials provided. Attempting to use default credentials.\u001b[0m\n",
      "\u001b[32m2024-10-08 11:25:48.500\u001b[0m | \u001b[1mINFO    \u001b[0m | \u001b[36mavahiplatform.structredExtraction\u001b[0m:\u001b[36m_get_model_details\u001b[0m:\u001b[36m112\u001b[0m - \u001b[1mUsing model: anthropic.claude-3-5-sonnet-20240620-v1:0\u001b[0m\n",
      "\u001b[32m2024-10-08 11:25:48.502\u001b[0m | \u001b[1mINFO    \u001b[0m | \u001b[36mavahiplatform.structredExtraction\u001b[0m:\u001b[36mmodel_invoke\u001b[0m:\u001b[36m62\u001b[0m - \u001b[1mInvoking model to extracting content.\u001b[0m\n",
      "\u001b[32m2024-10-08 11:25:49.674\u001b[0m | \u001b[1mINFO    \u001b[0m | \u001b[36mavahiplatform.structredExtraction\u001b[0m:\u001b[36mmodel_invoke\u001b[0m:\u001b[36m80\u001b[0m - \u001b[1mModel invocation successful. Total cost: $0.001527\u001b[0m\n",
      "\u001b[32m2024-10-08 11:25:49.678\u001b[0m | \u001b[1mINFO    \u001b[0m | \u001b[36mavahiplatform.structredExtraction\u001b[0m:\u001b[36m_get_bedrock_client\u001b[0m:\u001b[36m31\u001b[0m - \u001b[1mNo explicit credentials provided. Attempting to use default credentials.\u001b[0m\n",
      "\u001b[32m2024-10-08 11:25:49.683\u001b[0m | \u001b[1mINFO    \u001b[0m | \u001b[36mavahiplatform.structredExtraction\u001b[0m:\u001b[36m_get_model_details\u001b[0m:\u001b[36m112\u001b[0m - \u001b[1mUsing model: anthropic.claude-3-5-sonnet-20240620-v1:0\u001b[0m\n",
      "\u001b[32m2024-10-08 11:25:49.684\u001b[0m | \u001b[1mINFO    \u001b[0m | \u001b[36mavahiplatform.structredExtraction\u001b[0m:\u001b[36mmodel_invoke\u001b[0m:\u001b[36m62\u001b[0m - \u001b[1mInvoking model to extracting content.\u001b[0m\n",
      "\u001b[32m2024-10-08 11:25:50.902\u001b[0m | \u001b[1mINFO    \u001b[0m | \u001b[36mavahiplatform.structredExtraction\u001b[0m:\u001b[36mmodel_invoke\u001b[0m:\u001b[36m80\u001b[0m - \u001b[1mModel invocation successful. Total cost: $0.001563\u001b[0m\n",
      "\u001b[32m2024-10-08 11:25:50.906\u001b[0m | \u001b[1mINFO    \u001b[0m | \u001b[36mavahiplatform.structredExtraction\u001b[0m:\u001b[36m_get_bedrock_client\u001b[0m:\u001b[36m31\u001b[0m - \u001b[1mNo explicit credentials provided. Attempting to use default credentials.\u001b[0m\n",
      "\u001b[32m2024-10-08 11:25:50.910\u001b[0m | \u001b[1mINFO    \u001b[0m | \u001b[36mavahiplatform.structredExtraction\u001b[0m:\u001b[36m_get_model_details\u001b[0m:\u001b[36m112\u001b[0m - \u001b[1mUsing model: anthropic.claude-3-5-sonnet-20240620-v1:0\u001b[0m\n",
      "\u001b[32m2024-10-08 11:25:50.911\u001b[0m | \u001b[1mINFO    \u001b[0m | \u001b[36mavahiplatform.structredExtraction\u001b[0m:\u001b[36mmodel_invoke\u001b[0m:\u001b[36m62\u001b[0m - \u001b[1mInvoking model to extracting content.\u001b[0m\n",
      "\u001b[32m2024-10-08 11:25:51.897\u001b[0m | \u001b[1mINFO    \u001b[0m | \u001b[36mavahiplatform.structredExtraction\u001b[0m:\u001b[36mmodel_invoke\u001b[0m:\u001b[36m80\u001b[0m - \u001b[1mModel invocation successful. Total cost: $0.001236\u001b[0m\n",
      "\u001b[32m2024-10-08 11:25:51.902\u001b[0m | \u001b[1mINFO    \u001b[0m | \u001b[36mavahiplatform.structredExtraction\u001b[0m:\u001b[36m_get_bedrock_client\u001b[0m:\u001b[36m31\u001b[0m - \u001b[1mNo explicit credentials provided. Attempting to use default credentials.\u001b[0m\n",
      "\u001b[32m2024-10-08 11:25:51.907\u001b[0m | \u001b[1mINFO    \u001b[0m | \u001b[36mavahiplatform.structredExtraction\u001b[0m:\u001b[36m_get_model_details\u001b[0m:\u001b[36m112\u001b[0m - \u001b[1mUsing model: anthropic.claude-3-5-sonnet-20240620-v1:0\u001b[0m\n",
      "\u001b[32m2024-10-08 11:25:51.913\u001b[0m | \u001b[1mINFO    \u001b[0m | \u001b[36mavahiplatform.structredExtraction\u001b[0m:\u001b[36mmodel_invoke\u001b[0m:\u001b[36m62\u001b[0m - \u001b[1mInvoking model to extracting content.\u001b[0m\n",
      "\u001b[32m2024-10-08 11:25:53.027\u001b[0m | \u001b[1mINFO    \u001b[0m | \u001b[36mavahiplatform.structredExtraction\u001b[0m:\u001b[36mmodel_invoke\u001b[0m:\u001b[36m80\u001b[0m - \u001b[1mModel invocation successful. Total cost: $0.001161\u001b[0m\n",
      "\u001b[32m2024-10-08 11:25:53.031\u001b[0m | \u001b[1mINFO    \u001b[0m | \u001b[36mavahiplatform.structredExtraction\u001b[0m:\u001b[36m_get_bedrock_client\u001b[0m:\u001b[36m31\u001b[0m - \u001b[1mNo explicit credentials provided. Attempting to use default credentials.\u001b[0m\n",
      "\u001b[32m2024-10-08 11:25:53.035\u001b[0m | \u001b[1mINFO    \u001b[0m | \u001b[36mavahiplatform.structredExtraction\u001b[0m:\u001b[36m_get_model_details\u001b[0m:\u001b[36m112\u001b[0m - \u001b[1mUsing model: anthropic.claude-3-5-sonnet-20240620-v1:0\u001b[0m\n",
      "\u001b[32m2024-10-08 11:25:53.036\u001b[0m | \u001b[1mINFO    \u001b[0m | \u001b[36mavahiplatform.structredExtraction\u001b[0m:\u001b[36mmodel_invoke\u001b[0m:\u001b[36m62\u001b[0m - \u001b[1mInvoking model to extracting content.\u001b[0m\n",
      "\u001b[32m2024-10-08 11:25:54.145\u001b[0m | \u001b[1mINFO    \u001b[0m | \u001b[36mavahiplatform.structredExtraction\u001b[0m:\u001b[36mmodel_invoke\u001b[0m:\u001b[36m80\u001b[0m - \u001b[1mModel invocation successful. Total cost: $0.001179\u001b[0m\n",
      "\u001b[32m2024-10-08 11:25:54.153\u001b[0m | \u001b[1mINFO    \u001b[0m | \u001b[36mavahiplatform.structredExtraction\u001b[0m:\u001b[36m_get_bedrock_client\u001b[0m:\u001b[36m31\u001b[0m - \u001b[1mNo explicit credentials provided. Attempting to use default credentials.\u001b[0m\n",
      "\u001b[32m2024-10-08 11:25:54.159\u001b[0m | \u001b[1mINFO    \u001b[0m | \u001b[36mavahiplatform.structredExtraction\u001b[0m:\u001b[36m_get_model_details\u001b[0m:\u001b[36m112\u001b[0m - \u001b[1mUsing model: anthropic.claude-3-5-sonnet-20240620-v1:0\u001b[0m\n",
      "\u001b[32m2024-10-08 11:25:54.172\u001b[0m | \u001b[1mINFO    \u001b[0m | \u001b[36mavahiplatform.structredExtraction\u001b[0m:\u001b[36mmodel_invoke\u001b[0m:\u001b[36m62\u001b[0m - \u001b[1mInvoking model to extracting content.\u001b[0m\n",
      "\u001b[32m2024-10-08 11:25:55.262\u001b[0m | \u001b[1mINFO    \u001b[0m | \u001b[36mavahiplatform.structredExtraction\u001b[0m:\u001b[36mmodel_invoke\u001b[0m:\u001b[36m80\u001b[0m - \u001b[1mModel invocation successful. Total cost: $0.001377\u001b[0m\n",
      "\u001b[32m2024-10-08 11:25:55.266\u001b[0m | \u001b[1mINFO    \u001b[0m | \u001b[36mavahiplatform.structredExtraction\u001b[0m:\u001b[36m_get_bedrock_client\u001b[0m:\u001b[36m31\u001b[0m - \u001b[1mNo explicit credentials provided. Attempting to use default credentials.\u001b[0m\n",
      "\u001b[32m2024-10-08 11:25:55.273\u001b[0m | \u001b[1mINFO    \u001b[0m | \u001b[36mavahiplatform.structredExtraction\u001b[0m:\u001b[36m_get_model_details\u001b[0m:\u001b[36m112\u001b[0m - \u001b[1mUsing model: anthropic.claude-3-5-sonnet-20240620-v1:0\u001b[0m\n",
      "\u001b[32m2024-10-08 11:25:55.275\u001b[0m | \u001b[1mINFO    \u001b[0m | \u001b[36mavahiplatform.structredExtraction\u001b[0m:\u001b[36mmodel_invoke\u001b[0m:\u001b[36m62\u001b[0m - \u001b[1mInvoking model to extracting content.\u001b[0m\n",
      "\u001b[32m2024-10-08 11:25:56.301\u001b[0m | \u001b[1mINFO    \u001b[0m | \u001b[36mavahiplatform.structredExtraction\u001b[0m:\u001b[36mmodel_invoke\u001b[0m:\u001b[36m80\u001b[0m - \u001b[1mModel invocation successful. Total cost: $0.001131\u001b[0m\n",
      "\u001b[32m2024-10-08 11:25:56.306\u001b[0m | \u001b[1mINFO    \u001b[0m | \u001b[36mavahiplatform.structredExtraction\u001b[0m:\u001b[36m_get_bedrock_client\u001b[0m:\u001b[36m31\u001b[0m - \u001b[1mNo explicit credentials provided. Attempting to use default credentials.\u001b[0m\n",
      "\u001b[32m2024-10-08 11:25:56.314\u001b[0m | \u001b[1mINFO    \u001b[0m | \u001b[36mavahiplatform.structredExtraction\u001b[0m:\u001b[36m_get_model_details\u001b[0m:\u001b[36m112\u001b[0m - \u001b[1mUsing model: anthropic.claude-3-5-sonnet-20240620-v1:0\u001b[0m\n",
      "\u001b[32m2024-10-08 11:25:56.316\u001b[0m | \u001b[1mINFO    \u001b[0m | \u001b[36mavahiplatform.structredExtraction\u001b[0m:\u001b[36mmodel_invoke\u001b[0m:\u001b[36m62\u001b[0m - \u001b[1mInvoking model to extracting content.\u001b[0m\n",
      "\u001b[32m2024-10-08 11:25:57.001\u001b[0m | \u001b[1mINFO    \u001b[0m | \u001b[36mavahiplatform.structredExtraction\u001b[0m:\u001b[36mmodel_invoke\u001b[0m:\u001b[36m80\u001b[0m - \u001b[1mModel invocation successful. Total cost: $0.001140\u001b[0m\n",
      "\u001b[32m2024-10-08 11:25:57.006\u001b[0m | \u001b[1mINFO    \u001b[0m | \u001b[36mavahiplatform.structredExtraction\u001b[0m:\u001b[36m_get_bedrock_client\u001b[0m:\u001b[36m31\u001b[0m - \u001b[1mNo explicit credentials provided. Attempting to use default credentials.\u001b[0m\n",
      "\u001b[32m2024-10-08 11:25:57.019\u001b[0m | \u001b[1mINFO    \u001b[0m | \u001b[36mavahiplatform.structredExtraction\u001b[0m:\u001b[36m_get_model_details\u001b[0m:\u001b[36m112\u001b[0m - \u001b[1mUsing model: anthropic.claude-3-5-sonnet-20240620-v1:0\u001b[0m\n",
      "\u001b[32m2024-10-08 11:25:57.024\u001b[0m | \u001b[1mINFO    \u001b[0m | \u001b[36mavahiplatform.structredExtraction\u001b[0m:\u001b[36mmodel_invoke\u001b[0m:\u001b[36m62\u001b[0m - \u001b[1mInvoking model to extracting content.\u001b[0m\n",
      "\u001b[32m2024-10-08 11:25:58.348\u001b[0m | \u001b[1mINFO    \u001b[0m | \u001b[36mavahiplatform.structredExtraction\u001b[0m:\u001b[36mmodel_invoke\u001b[0m:\u001b[36m80\u001b[0m - \u001b[1mModel invocation successful. Total cost: $0.001491\u001b[0m\n"
     ]
    },
    {
     "name": "stdout",
     "output_type": "stream",
     "text": [
      "Total time taken by avahiplatform for 10 articles: 11.550925970077515\n",
      "Avaerage time taken by avahiplatform for 10 articles: 1.1550925970077515\n"
     ]
    }
   ],
   "source": [
    "total_time = 0\n",
    "all_response_list = []\n",
    "\n",
    "for text in all_articles_list:\n",
    "    start_time = time.time()\n",
    "    response, input_tokens, output_tokens, cost = avahiplatform.structredExtraction(text, model_name=\"sonnet-3.5\")\n",
    "    all_response_list.append(response)\n",
    "    time_taken = time.time() - start_time\n",
    "    total_time += time_taken\n",
    "average_time = total_time / len(all_articles_list)\n",
    "\n",
    "print(f\"Total time taken by avahiplatform for 10 articles: {total_time}\")\n",
    "print(f\"Avaerage time taken by avahiplatform for 10 articles: {average_time}\")"
   ]
  },
  {
   "cell_type": "markdown",
   "id": "057c2fbb-085a-476b-a2c1-039aec1aebbf",
   "metadata": {},
   "source": [
    "# Data masking"
   ]
  },
  {
   "cell_type": "code",
   "execution_count": 11,
   "id": "4f4dd51c-f83f-488f-b305-7eae5b972fea",
   "metadata": {
    "tags": []
   },
   "outputs": [
    {
     "name": "stdout",
     "output_type": "stream",
     "text": [
      "Total time taken by langchain-aws for 10 articles: 39.375274658203125\n",
      "Avaerage time taken by langchain-aws for 10 articles: 3.9375274658203123\n"
     ]
    }
   ],
   "source": [
    "total_time = 0\n",
    "all_response_list = []\n",
    "\n",
    "for text in all_articles_list:\n",
    "    start_time = time.time()\n",
    "    model_kwargs_claude = {\"temperature\": 0, \"top_p\": 0.2, \"max_tokens\": 1000}\n",
    "    llm = ChatBedrock(model_id=\"anthropic.claude-3-5-sonnet-20240620-v1:0\", model_kwargs=model_kwargs_claude)\n",
    "    prompt = f\"\"\"\n",
    "        Selectively mask specific types of sensitive data in the following text by replacing only the characters of the sensitive information with '*'. Leave all other text unchanged.\n",
    "\n",
    "        Sensitive data types to mask:\n",
    "        1. Names (first and last)\n",
    "        2. Email addresses\n",
    "        3. Social Security Numbers (9-digit numbers)\n",
    "        4. Phone numbers (various formats)\n",
    "\n",
    "        Text to process:\n",
    "        {text}\n",
    "\n",
    "        Instructions:\n",
    "        1. Identify instances of the above sensitive data types in the text.\n",
    "        2. Replace each character of ONLY the identified sensitive data with '*'.\n",
    "        3. Leave all other text completely unchanged.\n",
    "        4. Return the entire text with only the sensitive data masked.\n",
    "        5. Do not add any explanations or additional text to your response.\n",
    "\n",
    "        Example:\n",
    "        Input: \"John Doe's email is john@example.com and SSN is 123-45-6789.\"\n",
    "        Output: \"**** ***'s email is ***************** and SSN is ***********.\"\n",
    "\n",
    "        Processed text:\n",
    "    \"\"\"\n",
    "    response = llm.invoke(prompt)\n",
    "    all_response_list.append(response)\n",
    "    time_taken = time.time() - start_time\n",
    "    total_time += time_taken\n",
    "    # print(response)\n",
    "average_time = total_time / len(all_articles_list)\n",
    "\n",
    "print(f\"Total time taken by langchain-aws for 10 articles: {total_time}\")\n",
    "print(f\"Avaerage time taken by langchain-aws for 10 articles: {average_time}\")"
   ]
  },
  {
   "cell_type": "code",
   "execution_count": 13,
   "id": "69438257-190e-47f9-8f07-d264e83d98f3",
   "metadata": {
    "tags": []
   },
   "outputs": [
    {
     "name": "stderr",
     "output_type": "stream",
     "text": [
      "\u001b[32m2024-10-08 11:27:47.975\u001b[0m | \u001b[1mINFO    \u001b[0m | \u001b[36mavahiplatform.data_masking\u001b[0m:\u001b[36m_get_bedrock_client\u001b[0m:\u001b[36m31\u001b[0m - \u001b[1mNo explicit credentials provided. Attempting to use default credentials.\u001b[0m\n",
      "\u001b[32m2024-10-08 11:27:47.995\u001b[0m | \u001b[1mINFO    \u001b[0m | \u001b[36mavahiplatform.data_masking\u001b[0m:\u001b[36m_get_model_details\u001b[0m:\u001b[36m112\u001b[0m - \u001b[1mUsing model: anthropic.claude-3-5-sonnet-20240620-v1:0\u001b[0m\n",
      "\u001b[32m2024-10-08 11:27:47.997\u001b[0m | \u001b[1mINFO    \u001b[0m | \u001b[36mavahiplatform.data_masking\u001b[0m:\u001b[36mmodel_invoke\u001b[0m:\u001b[36m62\u001b[0m - \u001b[1mInvoking model to extracting content.\u001b[0m\n",
      "\u001b[32m2024-10-08 11:27:55.580\u001b[0m | \u001b[1mINFO    \u001b[0m | \u001b[36mavahiplatform.data_masking\u001b[0m:\u001b[36mmodel_invoke\u001b[0m:\u001b[36m80\u001b[0m - \u001b[1mModel invocation successful. Total cost: $0.009732\u001b[0m\n",
      "\u001b[32m2024-10-08 11:27:55.583\u001b[0m | \u001b[1mINFO    \u001b[0m | \u001b[36mavahiplatform.data_masking\u001b[0m:\u001b[36m_get_bedrock_client\u001b[0m:\u001b[36m31\u001b[0m - \u001b[1mNo explicit credentials provided. Attempting to use default credentials.\u001b[0m\n",
      "\u001b[32m2024-10-08 11:27:55.591\u001b[0m | \u001b[1mINFO    \u001b[0m | \u001b[36mavahiplatform.data_masking\u001b[0m:\u001b[36m_get_model_details\u001b[0m:\u001b[36m112\u001b[0m - \u001b[1mUsing model: anthropic.claude-3-5-sonnet-20240620-v1:0\u001b[0m\n",
      "\u001b[32m2024-10-08 11:27:55.592\u001b[0m | \u001b[1mINFO    \u001b[0m | \u001b[36mavahiplatform.data_masking\u001b[0m:\u001b[36mmodel_invoke\u001b[0m:\u001b[36m62\u001b[0m - \u001b[1mInvoking model to extracting content.\u001b[0m\n",
      "\u001b[32m2024-10-08 11:28:00.357\u001b[0m | \u001b[1mINFO    \u001b[0m | \u001b[36mavahiplatform.data_masking\u001b[0m:\u001b[36mmodel_invoke\u001b[0m:\u001b[36m80\u001b[0m - \u001b[1mModel invocation successful. Total cost: $0.005145\u001b[0m\n",
      "\u001b[32m2024-10-08 11:28:00.362\u001b[0m | \u001b[1mINFO    \u001b[0m | \u001b[36mavahiplatform.data_masking\u001b[0m:\u001b[36m_get_bedrock_client\u001b[0m:\u001b[36m31\u001b[0m - \u001b[1mNo explicit credentials provided. Attempting to use default credentials.\u001b[0m\n",
      "\u001b[32m2024-10-08 11:28:00.370\u001b[0m | \u001b[1mINFO    \u001b[0m | \u001b[36mavahiplatform.data_masking\u001b[0m:\u001b[36m_get_model_details\u001b[0m:\u001b[36m112\u001b[0m - \u001b[1mUsing model: anthropic.claude-3-5-sonnet-20240620-v1:0\u001b[0m\n",
      "\u001b[32m2024-10-08 11:28:00.372\u001b[0m | \u001b[1mINFO    \u001b[0m | \u001b[36mavahiplatform.data_masking\u001b[0m:\u001b[36mmodel_invoke\u001b[0m:\u001b[36m62\u001b[0m - \u001b[1mInvoking model to extracting content.\u001b[0m\n",
      "\u001b[32m2024-10-08 11:28:04.160\u001b[0m | \u001b[1mINFO    \u001b[0m | \u001b[36mavahiplatform.data_masking\u001b[0m:\u001b[36mmodel_invoke\u001b[0m:\u001b[36m80\u001b[0m - \u001b[1mModel invocation successful. Total cost: $0.004746\u001b[0m\n",
      "\u001b[32m2024-10-08 11:28:04.164\u001b[0m | \u001b[1mINFO    \u001b[0m | \u001b[36mavahiplatform.data_masking\u001b[0m:\u001b[36m_get_bedrock_client\u001b[0m:\u001b[36m31\u001b[0m - \u001b[1mNo explicit credentials provided. Attempting to use default credentials.\u001b[0m\n",
      "\u001b[32m2024-10-08 11:28:04.172\u001b[0m | \u001b[1mINFO    \u001b[0m | \u001b[36mavahiplatform.data_masking\u001b[0m:\u001b[36m_get_model_details\u001b[0m:\u001b[36m112\u001b[0m - \u001b[1mUsing model: anthropic.claude-3-5-sonnet-20240620-v1:0\u001b[0m\n",
      "\u001b[32m2024-10-08 11:28:04.173\u001b[0m | \u001b[1mINFO    \u001b[0m | \u001b[36mavahiplatform.data_masking\u001b[0m:\u001b[36mmodel_invoke\u001b[0m:\u001b[36m62\u001b[0m - \u001b[1mInvoking model to extracting content.\u001b[0m\n",
      "\u001b[32m2024-10-08 11:28:07.234\u001b[0m | \u001b[1mINFO    \u001b[0m | \u001b[36mavahiplatform.data_masking\u001b[0m:\u001b[36mmodel_invoke\u001b[0m:\u001b[36m80\u001b[0m - \u001b[1mModel invocation successful. Total cost: $0.004029\u001b[0m\n",
      "\u001b[32m2024-10-08 11:28:07.242\u001b[0m | \u001b[1mINFO    \u001b[0m | \u001b[36mavahiplatform.data_masking\u001b[0m:\u001b[36m_get_bedrock_client\u001b[0m:\u001b[36m31\u001b[0m - \u001b[1mNo explicit credentials provided. Attempting to use default credentials.\u001b[0m\n",
      "\u001b[32m2024-10-08 11:28:07.248\u001b[0m | \u001b[1mINFO    \u001b[0m | \u001b[36mavahiplatform.data_masking\u001b[0m:\u001b[36m_get_model_details\u001b[0m:\u001b[36m112\u001b[0m - \u001b[1mUsing model: anthropic.claude-3-5-sonnet-20240620-v1:0\u001b[0m\n",
      "\u001b[32m2024-10-08 11:28:07.251\u001b[0m | \u001b[1mINFO    \u001b[0m | \u001b[36mavahiplatform.data_masking\u001b[0m:\u001b[36mmodel_invoke\u001b[0m:\u001b[36m62\u001b[0m - \u001b[1mInvoking model to extracting content.\u001b[0m\n",
      "\u001b[32m2024-10-08 11:28:10.581\u001b[0m | \u001b[1mINFO    \u001b[0m | \u001b[36mavahiplatform.data_masking\u001b[0m:\u001b[36mmodel_invoke\u001b[0m:\u001b[36m80\u001b[0m - \u001b[1mModel invocation successful. Total cost: $0.003579\u001b[0m\n",
      "\u001b[32m2024-10-08 11:28:10.588\u001b[0m | \u001b[1mINFO    \u001b[0m | \u001b[36mavahiplatform.data_masking\u001b[0m:\u001b[36m_get_bedrock_client\u001b[0m:\u001b[36m31\u001b[0m - \u001b[1mNo explicit credentials provided. Attempting to use default credentials.\u001b[0m\n",
      "\u001b[32m2024-10-08 11:28:10.592\u001b[0m | \u001b[1mINFO    \u001b[0m | \u001b[36mavahiplatform.data_masking\u001b[0m:\u001b[36m_get_model_details\u001b[0m:\u001b[36m112\u001b[0m - \u001b[1mUsing model: anthropic.claude-3-5-sonnet-20240620-v1:0\u001b[0m\n",
      "\u001b[32m2024-10-08 11:28:10.594\u001b[0m | \u001b[1mINFO    \u001b[0m | \u001b[36mavahiplatform.data_masking\u001b[0m:\u001b[36mmodel_invoke\u001b[0m:\u001b[36m62\u001b[0m - \u001b[1mInvoking model to extracting content.\u001b[0m\n",
      "\u001b[32m2024-10-08 11:28:13.623\u001b[0m | \u001b[1mINFO    \u001b[0m | \u001b[36mavahiplatform.data_masking\u001b[0m:\u001b[36mmodel_invoke\u001b[0m:\u001b[36m80\u001b[0m - \u001b[1mModel invocation successful. Total cost: $0.003567\u001b[0m\n",
      "\u001b[32m2024-10-08 11:28:13.626\u001b[0m | \u001b[1mINFO    \u001b[0m | \u001b[36mavahiplatform.data_masking\u001b[0m:\u001b[36m_get_bedrock_client\u001b[0m:\u001b[36m31\u001b[0m - \u001b[1mNo explicit credentials provided. Attempting to use default credentials.\u001b[0m\n",
      "\u001b[32m2024-10-08 11:28:13.632\u001b[0m | \u001b[1mINFO    \u001b[0m | \u001b[36mavahiplatform.data_masking\u001b[0m:\u001b[36m_get_model_details\u001b[0m:\u001b[36m112\u001b[0m - \u001b[1mUsing model: anthropic.claude-3-5-sonnet-20240620-v1:0\u001b[0m\n",
      "\u001b[32m2024-10-08 11:28:13.632\u001b[0m | \u001b[1mINFO    \u001b[0m | \u001b[36mavahiplatform.data_masking\u001b[0m:\u001b[36mmodel_invoke\u001b[0m:\u001b[36m62\u001b[0m - \u001b[1mInvoking model to extracting content.\u001b[0m\n",
      "\u001b[32m2024-10-08 11:28:17.114\u001b[0m | \u001b[1mINFO    \u001b[0m | \u001b[36mavahiplatform.data_masking\u001b[0m:\u001b[36mmodel_invoke\u001b[0m:\u001b[36m80\u001b[0m - \u001b[1mModel invocation successful. Total cost: $0.003600\u001b[0m\n",
      "\u001b[32m2024-10-08 11:28:17.121\u001b[0m | \u001b[1mINFO    \u001b[0m | \u001b[36mavahiplatform.data_masking\u001b[0m:\u001b[36m_get_bedrock_client\u001b[0m:\u001b[36m31\u001b[0m - \u001b[1mNo explicit credentials provided. Attempting to use default credentials.\u001b[0m\n",
      "\u001b[32m2024-10-08 11:28:17.127\u001b[0m | \u001b[1mINFO    \u001b[0m | \u001b[36mavahiplatform.data_masking\u001b[0m:\u001b[36m_get_model_details\u001b[0m:\u001b[36m112\u001b[0m - \u001b[1mUsing model: anthropic.claude-3-5-sonnet-20240620-v1:0\u001b[0m\n",
      "\u001b[32m2024-10-08 11:28:17.128\u001b[0m | \u001b[1mINFO    \u001b[0m | \u001b[36mavahiplatform.data_masking\u001b[0m:\u001b[36mmodel_invoke\u001b[0m:\u001b[36m62\u001b[0m - \u001b[1mInvoking model to extracting content.\u001b[0m\n",
      "\u001b[32m2024-10-08 11:28:19.747\u001b[0m | \u001b[1mINFO    \u001b[0m | \u001b[36mavahiplatform.data_masking\u001b[0m:\u001b[36mmodel_invoke\u001b[0m:\u001b[36m80\u001b[0m - \u001b[1mModel invocation successful. Total cost: $0.003369\u001b[0m\n",
      "\u001b[32m2024-10-08 11:28:19.752\u001b[0m | \u001b[1mINFO    \u001b[0m | \u001b[36mavahiplatform.data_masking\u001b[0m:\u001b[36m_get_bedrock_client\u001b[0m:\u001b[36m31\u001b[0m - \u001b[1mNo explicit credentials provided. Attempting to use default credentials.\u001b[0m\n",
      "\u001b[32m2024-10-08 11:28:19.762\u001b[0m | \u001b[1mINFO    \u001b[0m | \u001b[36mavahiplatform.data_masking\u001b[0m:\u001b[36m_get_model_details\u001b[0m:\u001b[36m112\u001b[0m - \u001b[1mUsing model: anthropic.claude-3-5-sonnet-20240620-v1:0\u001b[0m\n",
      "\u001b[32m2024-10-08 11:28:19.766\u001b[0m | \u001b[1mINFO    \u001b[0m | \u001b[36mavahiplatform.data_masking\u001b[0m:\u001b[36mmodel_invoke\u001b[0m:\u001b[36m62\u001b[0m - \u001b[1mInvoking model to extracting content.\u001b[0m\n",
      "\u001b[32m2024-10-08 11:28:22.880\u001b[0m | \u001b[1mINFO    \u001b[0m | \u001b[36mavahiplatform.data_masking\u001b[0m:\u001b[36mmodel_invoke\u001b[0m:\u001b[36m80\u001b[0m - \u001b[1mModel invocation successful. Total cost: $0.003378\u001b[0m\n",
      "\u001b[32m2024-10-08 11:28:22.885\u001b[0m | \u001b[1mINFO    \u001b[0m | \u001b[36mavahiplatform.data_masking\u001b[0m:\u001b[36m_get_bedrock_client\u001b[0m:\u001b[36m31\u001b[0m - \u001b[1mNo explicit credentials provided. Attempting to use default credentials.\u001b[0m\n",
      "\u001b[32m2024-10-08 11:28:22.892\u001b[0m | \u001b[1mINFO    \u001b[0m | \u001b[36mavahiplatform.data_masking\u001b[0m:\u001b[36m_get_model_details\u001b[0m:\u001b[36m112\u001b[0m - \u001b[1mUsing model: anthropic.claude-3-5-sonnet-20240620-v1:0\u001b[0m\n",
      "\u001b[32m2024-10-08 11:28:22.893\u001b[0m | \u001b[1mINFO    \u001b[0m | \u001b[36mavahiplatform.data_masking\u001b[0m:\u001b[36mmodel_invoke\u001b[0m:\u001b[36m62\u001b[0m - \u001b[1mInvoking model to extracting content.\u001b[0m\n",
      "\u001b[32m2024-10-08 11:28:26.982\u001b[0m | \u001b[1mINFO    \u001b[0m | \u001b[36mavahiplatform.data_masking\u001b[0m:\u001b[36mmodel_invoke\u001b[0m:\u001b[36m80\u001b[0m - \u001b[1mModel invocation successful. Total cost: $0.003729\u001b[0m\n"
     ]
    },
    {
     "name": "stdout",
     "output_type": "stream",
     "text": [
      "Total time taken by avahiplatform for 10 articles: 39.01218247413635\n",
      "Avaerage time taken by avahiplatform for 10 articles: 3.9012182474136354\n"
     ]
    }
   ],
   "source": [
    "total_time = 0\n",
    "all_response_list = []\n",
    "\n",
    "for text in all_articles_list:\n",
    "    start_time = time.time()\n",
    "    response, input_tokens, output_tokens, cost = avahiplatform.DataMasking(text, model_name=\"sonnet-3.5\")\n",
    "    all_response_list.append(response)\n",
    "    time_taken = time.time() - start_time\n",
    "    total_time += time_taken\n",
    "average_time = total_time / len(all_articles_list)\n",
    "\n",
    "print(f\"Total time taken by avahiplatform for 10 articles: {total_time}\")\n",
    "print(f\"Avaerage time taken by avahiplatform for 10 articles: {average_time}\")"
   ]
  },
  {
   "cell_type": "markdown",
   "id": "66246fe7-c070-4408-b82c-74bc4180e6cb",
   "metadata": {},
   "source": [
    "# Grammar correction"
   ]
  },
  {
   "cell_type": "code",
   "execution_count": 14,
   "id": "a8c2003d-1c0f-4702-b2f6-e35db90afc06",
   "metadata": {
    "tags": []
   },
   "outputs": [
    {
     "name": "stdout",
     "output_type": "stream",
     "text": [
      "Total time taken by langchain-aws for 10 articles: 47.47289443016052\n",
      "Avaerage time taken by langchain-aws for 10 articles: 4.747289443016053\n"
     ]
    }
   ],
   "source": [
    "total_time = 0\n",
    "all_response_list = []\n",
    "\n",
    "for text in all_articles_list:\n",
    "    start_time = time.time()\n",
    "    model_kwargs_claude = {\"temperature\": 0, \"top_p\": 0.2, \"max_tokens\": 1000}\n",
    "    llm = ChatBedrock(model_id=\"anthropic.claude-3-5-sonnet-20240620-v1:0\", model_kwargs=model_kwargs_claude)\n",
    "    prompt = f\"\"\"\n",
    "        Please rectify grammar and spelling of the following text: {text}\n",
    "    \"\"\"\n",
    "    response = llm.invoke(prompt)\n",
    "    all_response_list.append(response)\n",
    "    time_taken = time.time() - start_time\n",
    "    total_time += time_taken\n",
    "    # print(response)\n",
    "average_time = total_time / len(all_articles_list)\n",
    "\n",
    "print(f\"Total time taken by langchain-aws for 10 articles: {total_time}\")\n",
    "print(f\"Avaerage time taken by langchain-aws for 10 articles: {average_time}\")"
   ]
  },
  {
   "cell_type": "code",
   "execution_count": 15,
   "id": "2e8f4f19-9f1d-4e0f-beb5-c43c9e6ca96e",
   "metadata": {
    "tags": []
   },
   "outputs": [
    {
     "name": "stderr",
     "output_type": "stream",
     "text": [
      "\u001b[32m2024-10-08 11:29:23.162\u001b[0m | \u001b[1mINFO    \u001b[0m | \u001b[36mavahiplatform.grammarCorrection\u001b[0m:\u001b[36m_get_bedrock_client\u001b[0m:\u001b[36m31\u001b[0m - \u001b[1mNo explicit credentials provided. Attempting to use default credentials.\u001b[0m\n",
      "\u001b[32m2024-10-08 11:29:23.168\u001b[0m | \u001b[1mINFO    \u001b[0m | \u001b[36mavahiplatform.grammarCorrection\u001b[0m:\u001b[36m_get_model_details\u001b[0m:\u001b[36m112\u001b[0m - \u001b[1mUsing model: anthropic.claude-3-5-sonnet-20240620-v1:0\u001b[0m\n",
      "\u001b[32m2024-10-08 11:29:23.169\u001b[0m | \u001b[1mINFO    \u001b[0m | \u001b[36mavahiplatform.grammarCorrection\u001b[0m:\u001b[36mmodel_invoke\u001b[0m:\u001b[36m62\u001b[0m - \u001b[1mInvoking model to rectify grammar and spelling of the content.\u001b[0m\n",
      "\u001b[32m2024-10-08 11:29:31.879\u001b[0m | \u001b[1mINFO    \u001b[0m | \u001b[36mavahiplatform.grammarCorrection\u001b[0m:\u001b[36mmodel_invoke\u001b[0m:\u001b[36m80\u001b[0m - \u001b[1mModel invocation successful. Total cost: $0.009660\u001b[0m\n",
      "\u001b[32m2024-10-08 11:29:31.888\u001b[0m | \u001b[1mINFO    \u001b[0m | \u001b[36mavahiplatform.grammarCorrection\u001b[0m:\u001b[36m_get_bedrock_client\u001b[0m:\u001b[36m31\u001b[0m - \u001b[1mNo explicit credentials provided. Attempting to use default credentials.\u001b[0m\n",
      "\u001b[32m2024-10-08 11:29:31.895\u001b[0m | \u001b[1mINFO    \u001b[0m | \u001b[36mavahiplatform.grammarCorrection\u001b[0m:\u001b[36m_get_model_details\u001b[0m:\u001b[36m112\u001b[0m - \u001b[1mUsing model: anthropic.claude-3-5-sonnet-20240620-v1:0\u001b[0m\n",
      "\u001b[32m2024-10-08 11:29:31.903\u001b[0m | \u001b[1mINFO    \u001b[0m | \u001b[36mavahiplatform.grammarCorrection\u001b[0m:\u001b[36mmodel_invoke\u001b[0m:\u001b[36m62\u001b[0m - \u001b[1mInvoking model to rectify grammar and spelling of the content.\u001b[0m\n",
      "\u001b[32m2024-10-08 11:29:37.050\u001b[0m | \u001b[1mINFO    \u001b[0m | \u001b[36mavahiplatform.grammarCorrection\u001b[0m:\u001b[36mmodel_invoke\u001b[0m:\u001b[36m80\u001b[0m - \u001b[1mModel invocation successful. Total cost: $0.005094\u001b[0m\n",
      "\u001b[32m2024-10-08 11:29:37.061\u001b[0m | \u001b[1mINFO    \u001b[0m | \u001b[36mavahiplatform.grammarCorrection\u001b[0m:\u001b[36m_get_bedrock_client\u001b[0m:\u001b[36m31\u001b[0m - \u001b[1mNo explicit credentials provided. Attempting to use default credentials.\u001b[0m\n",
      "\u001b[32m2024-10-08 11:29:37.077\u001b[0m | \u001b[1mINFO    \u001b[0m | \u001b[36mavahiplatform.grammarCorrection\u001b[0m:\u001b[36m_get_model_details\u001b[0m:\u001b[36m112\u001b[0m - \u001b[1mUsing model: anthropic.claude-3-5-sonnet-20240620-v1:0\u001b[0m\n",
      "\u001b[32m2024-10-08 11:29:37.079\u001b[0m | \u001b[1mINFO    \u001b[0m | \u001b[36mavahiplatform.grammarCorrection\u001b[0m:\u001b[36mmodel_invoke\u001b[0m:\u001b[36m62\u001b[0m - \u001b[1mInvoking model to rectify grammar and spelling of the content.\u001b[0m\n",
      "\u001b[32m2024-10-08 11:29:40.756\u001b[0m | \u001b[1mINFO    \u001b[0m | \u001b[36mavahiplatform.grammarCorrection\u001b[0m:\u001b[36mmodel_invoke\u001b[0m:\u001b[36m80\u001b[0m - \u001b[1mModel invocation successful. Total cost: $0.004440\u001b[0m\n",
      "\u001b[32m2024-10-08 11:29:40.759\u001b[0m | \u001b[1mINFO    \u001b[0m | \u001b[36mavahiplatform.grammarCorrection\u001b[0m:\u001b[36m_get_bedrock_client\u001b[0m:\u001b[36m31\u001b[0m - \u001b[1mNo explicit credentials provided. Attempting to use default credentials.\u001b[0m\n",
      "\u001b[32m2024-10-08 11:29:40.765\u001b[0m | \u001b[1mINFO    \u001b[0m | \u001b[36mavahiplatform.grammarCorrection\u001b[0m:\u001b[36m_get_model_details\u001b[0m:\u001b[36m112\u001b[0m - \u001b[1mUsing model: anthropic.claude-3-5-sonnet-20240620-v1:0\u001b[0m\n",
      "\u001b[32m2024-10-08 11:29:40.766\u001b[0m | \u001b[1mINFO    \u001b[0m | \u001b[36mavahiplatform.grammarCorrection\u001b[0m:\u001b[36mmodel_invoke\u001b[0m:\u001b[36m62\u001b[0m - \u001b[1mInvoking model to rectify grammar and spelling of the content.\u001b[0m\n",
      "\u001b[32m2024-10-08 11:29:45.012\u001b[0m | \u001b[1mINFO    \u001b[0m | \u001b[36mavahiplatform.grammarCorrection\u001b[0m:\u001b[36mmodel_invoke\u001b[0m:\u001b[36m80\u001b[0m - \u001b[1mModel invocation successful. Total cost: $0.004113\u001b[0m\n",
      "\u001b[32m2024-10-08 11:29:45.018\u001b[0m | \u001b[1mINFO    \u001b[0m | \u001b[36mavahiplatform.grammarCorrection\u001b[0m:\u001b[36m_get_bedrock_client\u001b[0m:\u001b[36m31\u001b[0m - \u001b[1mNo explicit credentials provided. Attempting to use default credentials.\u001b[0m\n",
      "\u001b[32m2024-10-08 11:29:45.022\u001b[0m | \u001b[1mINFO    \u001b[0m | \u001b[36mavahiplatform.grammarCorrection\u001b[0m:\u001b[36m_get_model_details\u001b[0m:\u001b[36m112\u001b[0m - \u001b[1mUsing model: anthropic.claude-3-5-sonnet-20240620-v1:0\u001b[0m\n",
      "\u001b[32m2024-10-08 11:29:45.024\u001b[0m | \u001b[1mINFO    \u001b[0m | \u001b[36mavahiplatform.grammarCorrection\u001b[0m:\u001b[36mmodel_invoke\u001b[0m:\u001b[36m62\u001b[0m - \u001b[1mInvoking model to rectify grammar and spelling of the content.\u001b[0m\n",
      "\u001b[32m2024-10-08 11:29:47.990\u001b[0m | \u001b[1mINFO    \u001b[0m | \u001b[36mavahiplatform.grammarCorrection\u001b[0m:\u001b[36mmodel_invoke\u001b[0m:\u001b[36m80\u001b[0m - \u001b[1mModel invocation successful. Total cost: $0.003363\u001b[0m\n",
      "\u001b[32m2024-10-08 11:29:47.995\u001b[0m | \u001b[1mINFO    \u001b[0m | \u001b[36mavahiplatform.grammarCorrection\u001b[0m:\u001b[36m_get_bedrock_client\u001b[0m:\u001b[36m31\u001b[0m - \u001b[1mNo explicit credentials provided. Attempting to use default credentials.\u001b[0m\n",
      "\u001b[32m2024-10-08 11:29:48.001\u001b[0m | \u001b[1mINFO    \u001b[0m | \u001b[36mavahiplatform.grammarCorrection\u001b[0m:\u001b[36m_get_model_details\u001b[0m:\u001b[36m112\u001b[0m - \u001b[1mUsing model: anthropic.claude-3-5-sonnet-20240620-v1:0\u001b[0m\n",
      "\u001b[32m2024-10-08 11:29:48.002\u001b[0m | \u001b[1mINFO    \u001b[0m | \u001b[36mavahiplatform.grammarCorrection\u001b[0m:\u001b[36mmodel_invoke\u001b[0m:\u001b[36m62\u001b[0m - \u001b[1mInvoking model to rectify grammar and spelling of the content.\u001b[0m\n",
      "\u001b[32m2024-10-08 11:29:52.542\u001b[0m | \u001b[1mINFO    \u001b[0m | \u001b[36mavahiplatform.grammarCorrection\u001b[0m:\u001b[36mmodel_invoke\u001b[0m:\u001b[36m80\u001b[0m - \u001b[1mModel invocation successful. Total cost: $0.004176\u001b[0m\n",
      "\u001b[32m2024-10-08 11:29:52.548\u001b[0m | \u001b[1mINFO    \u001b[0m | \u001b[36mavahiplatform.grammarCorrection\u001b[0m:\u001b[36m_get_bedrock_client\u001b[0m:\u001b[36m31\u001b[0m - \u001b[1mNo explicit credentials provided. Attempting to use default credentials.\u001b[0m\n",
      "\u001b[32m2024-10-08 11:29:52.559\u001b[0m | \u001b[1mINFO    \u001b[0m | \u001b[36mavahiplatform.grammarCorrection\u001b[0m:\u001b[36m_get_model_details\u001b[0m:\u001b[36m112\u001b[0m - \u001b[1mUsing model: anthropic.claude-3-5-sonnet-20240620-v1:0\u001b[0m\n",
      "\u001b[32m2024-10-08 11:29:52.561\u001b[0m | \u001b[1mINFO    \u001b[0m | \u001b[36mavahiplatform.grammarCorrection\u001b[0m:\u001b[36mmodel_invoke\u001b[0m:\u001b[36m62\u001b[0m - \u001b[1mInvoking model to rectify grammar and spelling of the content.\u001b[0m\n",
      "\u001b[32m2024-10-08 11:29:55.842\u001b[0m | \u001b[1mINFO    \u001b[0m | \u001b[36mavahiplatform.grammarCorrection\u001b[0m:\u001b[36mmodel_invoke\u001b[0m:\u001b[36m80\u001b[0m - \u001b[1mModel invocation successful. Total cost: $0.003324\u001b[0m\n",
      "\u001b[32m2024-10-08 11:29:55.848\u001b[0m | \u001b[1mINFO    \u001b[0m | \u001b[36mavahiplatform.grammarCorrection\u001b[0m:\u001b[36m_get_bedrock_client\u001b[0m:\u001b[36m31\u001b[0m - \u001b[1mNo explicit credentials provided. Attempting to use default credentials.\u001b[0m\n",
      "\u001b[32m2024-10-08 11:29:55.854\u001b[0m | \u001b[1mINFO    \u001b[0m | \u001b[36mavahiplatform.grammarCorrection\u001b[0m:\u001b[36m_get_model_details\u001b[0m:\u001b[36m112\u001b[0m - \u001b[1mUsing model: anthropic.claude-3-5-sonnet-20240620-v1:0\u001b[0m\n",
      "\u001b[32m2024-10-08 11:29:55.858\u001b[0m | \u001b[1mINFO    \u001b[0m | \u001b[36mavahiplatform.grammarCorrection\u001b[0m:\u001b[36mmodel_invoke\u001b[0m:\u001b[36m62\u001b[0m - \u001b[1mInvoking model to rectify grammar and spelling of the content.\u001b[0m\n",
      "\u001b[32m2024-10-08 11:29:59.513\u001b[0m | \u001b[1mINFO    \u001b[0m | \u001b[36mavahiplatform.grammarCorrection\u001b[0m:\u001b[36mmodel_invoke\u001b[0m:\u001b[36m80\u001b[0m - \u001b[1mModel invocation successful. Total cost: $0.003273\u001b[0m\n",
      "\u001b[32m2024-10-08 11:29:59.518\u001b[0m | \u001b[1mINFO    \u001b[0m | \u001b[36mavahiplatform.grammarCorrection\u001b[0m:\u001b[36m_get_bedrock_client\u001b[0m:\u001b[36m31\u001b[0m - \u001b[1mNo explicit credentials provided. Attempting to use default credentials.\u001b[0m\n",
      "\u001b[32m2024-10-08 11:29:59.523\u001b[0m | \u001b[1mINFO    \u001b[0m | \u001b[36mavahiplatform.grammarCorrection\u001b[0m:\u001b[36m_get_model_details\u001b[0m:\u001b[36m112\u001b[0m - \u001b[1mUsing model: anthropic.claude-3-5-sonnet-20240620-v1:0\u001b[0m\n",
      "\u001b[32m2024-10-08 11:29:59.524\u001b[0m | \u001b[1mINFO    \u001b[0m | \u001b[36mavahiplatform.grammarCorrection\u001b[0m:\u001b[36mmodel_invoke\u001b[0m:\u001b[36m62\u001b[0m - \u001b[1mInvoking model to rectify grammar and spelling of the content.\u001b[0m\n",
      "\u001b[32m2024-10-08 11:30:04.189\u001b[0m | \u001b[1mINFO    \u001b[0m | \u001b[36mavahiplatform.grammarCorrection\u001b[0m:\u001b[36mmodel_invoke\u001b[0m:\u001b[36m80\u001b[0m - \u001b[1mModel invocation successful. Total cost: $0.003972\u001b[0m\n",
      "\u001b[32m2024-10-08 11:30:04.195\u001b[0m | \u001b[1mINFO    \u001b[0m | \u001b[36mavahiplatform.grammarCorrection\u001b[0m:\u001b[36m_get_bedrock_client\u001b[0m:\u001b[36m31\u001b[0m - \u001b[1mNo explicit credentials provided. Attempting to use default credentials.\u001b[0m\n",
      "\u001b[32m2024-10-08 11:30:04.217\u001b[0m | \u001b[1mINFO    \u001b[0m | \u001b[36mavahiplatform.grammarCorrection\u001b[0m:\u001b[36m_get_model_details\u001b[0m:\u001b[36m112\u001b[0m - \u001b[1mUsing model: anthropic.claude-3-5-sonnet-20240620-v1:0\u001b[0m\n",
      "\u001b[32m2024-10-08 11:30:04.218\u001b[0m | \u001b[1mINFO    \u001b[0m | \u001b[36mavahiplatform.grammarCorrection\u001b[0m:\u001b[36mmodel_invoke\u001b[0m:\u001b[36m62\u001b[0m - \u001b[1mInvoking model to rectify grammar and spelling of the content.\u001b[0m\n",
      "\u001b[32m2024-10-08 11:30:07.726\u001b[0m | \u001b[1mINFO    \u001b[0m | \u001b[36mavahiplatform.grammarCorrection\u001b[0m:\u001b[36mmodel_invoke\u001b[0m:\u001b[36m80\u001b[0m - \u001b[1mModel invocation successful. Total cost: $0.003693\u001b[0m\n"
     ]
    },
    {
     "name": "stdout",
     "output_type": "stream",
     "text": [
      "Total time taken by avahiplatform for 10 articles: 44.57770085334778\n",
      "Avaerage time taken by avahiplatform for 10 articles: 4.4577700853347775\n"
     ]
    }
   ],
   "source": [
    "total_time = 0\n",
    "all_response_list = []\n",
    "\n",
    "for text in all_articles_list:\n",
    "    start_time = time.time()\n",
    "    response, input_tokens, output_tokens, cost = avahiplatform.grammarAssistant(text, model_name=\"sonnet-3.5\")\n",
    "    all_response_list.append(response)\n",
    "    time_taken = time.time() - start_time\n",
    "    total_time += time_taken\n",
    "average_time = total_time / len(all_articles_list)\n",
    "\n",
    "print(f\"Total time taken by avahiplatform for 10 articles: {total_time}\")\n",
    "print(f\"Avaerage time taken by avahiplatform for 10 articles: {average_time}\")"
   ]
  },
  {
   "cell_type": "markdown",
   "id": "369f17b9-4fa6-4ceb-8343-29327314b149",
   "metadata": {},
   "source": [
    "# CSV querying"
   ]
  },
  {
   "cell_type": "code",
   "execution_count": 16,
   "id": "01d3517d-277a-4a07-946d-fe032de2e572",
   "metadata": {
    "tags": []
   },
   "outputs": [
    {
     "name": "stdout",
     "output_type": "stream",
     "text": [
      "The average hours studied when parental involvement is low is approximately 20.13 hours.\n",
      "Total time taken by langchain-aws: 4.9431071281433105\n"
     ]
    }
   ],
   "source": [
    "start_time = time.time()\n",
    "query = \"What are the average hours studies when parental involvement is low?\"\n",
    "model_kwargs_claude = {\"temperature\": 0, \"top_p\": 0.2, \"max_tokens\": 250}\n",
    "llm = ChatBedrock(model_id=\"anthropic.claude-3-5-sonnet-20240620-v1:0\", model_kwargs=model_kwargs_claude)\n",
    "df = pd.read_csv(\"./StudentPerformanceFactors.csv\")\n",
    "agent = create_pandas_dataframe_agent(\n",
    "            llm,\n",
    "            df,\n",
    "            verbose=False,\n",
    "            agent_type=AgentType.ZERO_SHOT_REACT_DESCRIPTION,\n",
    "            allow_dangerous_code=True\n",
    "            )\n",
    "\n",
    "agent_response = agent.invoke(query)['output']\n",
    "total_time = time.time() - start_time\n",
    "print(agent_response)\n",
    "print(f\"Total time taken by langchain-aws: {total_time}\")"
   ]
  },
  {
   "cell_type": "code",
   "execution_count": 17,
   "id": "89164885-a7c4-4e2c-8015-c6999e4e8418",
   "metadata": {
    "tags": []
   },
   "outputs": [
    {
     "name": "stderr",
     "output_type": "stream",
     "text": [
      "\u001b[32m2024-10-08 11:30:12.722\u001b[0m | \u001b[1mINFO    \u001b[0m | \u001b[36mavahiplatform.query_csv\u001b[0m:\u001b[36m_get_bedrock_client\u001b[0m:\u001b[36m86\u001b[0m - \u001b[1mNo explicit credentials provided. Attempting to use default credentials.\u001b[0m\n",
      "\u001b[32m2024-10-08 11:30:12.753\u001b[0m | \u001b[1mINFO    \u001b[0m | \u001b[36mavahiplatform.query_csv\u001b[0m:\u001b[36m_get_model_details\u001b[0m:\u001b[36m226\u001b[0m - \u001b[1mUsing model: anthropic.claude-3-5-sonnet-20240620-v1:0\u001b[0m\n"
     ]
    },
    {
     "name": "stdout",
     "output_type": "stream",
     "text": [
      "<class 'pandas.core.frame.DataFrame'>\n",
      "RangeIndex: 6607 entries, 0 to 6606\n",
      "Columns: 20 entries, Hours_Studied to Exam_Score\n",
      "dtypes: int64(7), object(13)\n",
      "memory usage: 1.0+ MB\n"
     ]
    },
    {
     "name": "stderr",
     "output_type": "stream",
     "text": [
      "\u001b[32m2024-10-08 11:30:13.736\u001b[0m | \u001b[1mINFO    \u001b[0m | \u001b[36mavahiplatform.query_csv\u001b[0m:\u001b[36m_execute_query\u001b[0m:\u001b[36m165\u001b[0m - \u001b[1massistant_message: df1[df1['Parental_Involvement'] == 'Low']['Hours_Studied'].mean()\u001b[0m\n",
      "\u001b[32m2024-10-08 11:30:13.739\u001b[0m | \u001b[1mINFO    \u001b[0m | \u001b[36mavahiplatform.query_csv\u001b[0m:\u001b[36mmodel_invoke\u001b[0m:\u001b[36m104\u001b[0m - \u001b[1mquery output: 20.13462976813762\u001b[0m\n"
     ]
    },
    {
     "name": "stdout",
     "output_type": "stream",
     "text": [
      "The average hours studied when parental involvement is low is 20.13 hours.\n",
      "Total time taken by avahiplatform: 1.7374658584594727\n"
     ]
    }
   ],
   "source": [
    "start_time = time.time()\n",
    "user_query = \"What are the average hours studies when parental involvement is low?\"\n",
    "csv_files = {\n",
    "    \"df1\": \"./StudentPerformanceFactors.csv\"\n",
    "}\n",
    "csv_file_path = \"./StudentPerformanceFactors.csv\"\n",
    "csv_answer = avahiplatform.query_csv(user_query, csv_files, model_name=\"sonnet-3.5\")\n",
    "total_time = time.time() - start_time\n",
    "print(csv_answer)\n",
    "print(f\"Total time taken by avahiplatform: {total_time}\")"
   ]
  },
  {
   "cell_type": "markdown",
   "id": "691dd51f-f8f1-4a82-8c7d-f32a20179cdb",
   "metadata": {},
   "source": [
    "# NL2SQL"
   ]
  },
  {
   "cell_type": "code",
   "execution_count": 18,
   "id": "682a523c-d126-4819-9e07-5efd9164865f",
   "metadata": {
    "tags": []
   },
   "outputs": [],
   "source": [
    "db_type=os.getenv(\"db_type\")\n",
    "username_db=os.getenv(\"username_db\")\n",
    "password=os.getenv(\"password\")\n",
    "host=os.getenv(\"host\")\n",
    "dbname=os.getenv(\"dbname\")"
   ]
  },
  {
   "cell_type": "code",
   "execution_count": 19,
   "id": "75ce9639-226c-4386-a8be-11209d8d7304",
   "metadata": {
    "tags": []
   },
   "outputs": [
    {
     "name": "stdout",
     "output_type": "stream",
     "text": [
      "There are 9 users in the database.\n",
      "Total time taken by langchain-aws: 8.696999549865723\n"
     ]
    }
   ],
   "source": [
    "start_time = time.time()\n",
    "# Setup database\n",
    "db = SQLDatabase.from_uri(\n",
    "    f\"postgresql+psycopg2://{username_db}:{password}@{host}:5432/{dbname}\",\n",
    ")\n",
    "# question = \"what this table is about?\"\n",
    "model_kwargs_claude = {\"temperature\": 0, \"top_p\": 0.2, \"max_tokens\": 250}\n",
    "llm = ChatBedrock(model_id=\"anthropic.claude-3-5-sonnet-20240620-v1:0\", model_kwargs=model_kwargs_claude)\n",
    "toolkit = SQLDatabaseToolkit(db=db, llm=llm)\n",
    "\n",
    "agent_executor = create_sql_agent(\n",
    "llm=llm,\n",
    "toolkit=toolkit,\n",
    "verbose=False,\n",
    "agent_type=AgentType.ZERO_SHOT_REACT_DESCRIPTION,\n",
    ")\n",
    "answer = agent_executor.invoke(\"how many users are there?\")[\"output\"]\n",
    "print(answer)\n",
    "total_time = time.time() - start_time\n",
    "print(f\"Total time taken by langchain-aws: {total_time}\")"
   ]
  },
  {
   "cell_type": "code",
   "execution_count": 21,
   "id": "6a5a6cef-df95-4208-a15e-cf6b54c868a4",
   "metadata": {
    "tags": []
   },
   "outputs": [
    {
     "name": "stderr",
     "output_type": "stream",
     "text": [
      "\u001b[32m2024-10-08 12:08:50.469\u001b[0m | \u001b[1mINFO    \u001b[0m | \u001b[36mavahiplatform.nl2sql\u001b[0m:\u001b[36m_get_bedrock_client\u001b[0m:\u001b[36m30\u001b[0m - \u001b[1mNo explicit credentials provided. Attempting to use default credentials.\u001b[0m\n",
      "\u001b[32m2024-10-08 12:08:50.478\u001b[0m | \u001b[1mINFO    \u001b[0m | \u001b[36mavahiplatform.nl2sql\u001b[0m:\u001b[36m_get_model_details\u001b[0m:\u001b[36m158\u001b[0m - \u001b[1mUsing model: anthropic.claude-3-5-sonnet-20240620-v1:0\u001b[0m\n"
     ]
    },
    {
     "name": "stdout",
     "output_type": "stream",
     "text": [
      "NL2SQL Result: The query results show that there are 9 users in the database.\n",
      "\n",
      "To break it down:\n",
      "- The query counted all rows in the 'users' table.\n",
      "- The result (9) represents the total number of user accounts registered in the system.\n",
      "\n",
      "This count includes all users, regardless of their status (active, archived, admin, or regular users). If you need more specific information about the types of users or their status, we can modify the query to provide more detailed insights.\n",
      "Total time taken by avahiplatform: 5.3906474113464355\n"
     ]
    }
   ],
   "source": [
    "start_time = time.time()\n",
    "nl2sql_result = avahiplatform.nl2sql(\"how many users are there?\",\n",
    "                                      db_type=db_type, username=username_db, password=password,\n",
    "                                      host=host, port=5432, dbname=dbname, model_name=\"sonnet-3.5\")\n",
    "print(\"NL2SQL Result:\", nl2sql_result)\n",
    "total_time = time.time() - start_time\n",
    "print(f\"Total time taken by avahiplatform: {total_time}\")"
   ]
  },
  {
   "cell_type": "code",
   "execution_count": null,
   "id": "1e0c96ae-6178-4469-becd-2708fb403950",
   "metadata": {},
   "outputs": [],
   "source": []
  }
 ],
 "metadata": {
  "kernelspec": {
   "display_name": "conda_python3",
   "language": "python",
   "name": "conda_python3"
  },
  "language_info": {
   "codemirror_mode": {
    "name": "ipython",
    "version": 3
   },
   "file_extension": ".py",
   "mimetype": "text/x-python",
   "name": "python",
   "nbconvert_exporter": "python",
   "pygments_lexer": "ipython3",
   "version": "3.10.14"
  }
 },
 "nbformat": 4,
 "nbformat_minor": 5
}
